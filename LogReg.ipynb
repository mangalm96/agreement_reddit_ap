{
  "cells": [
    {
      "cell_type": "markdown",
      "metadata": {
        "id": "view-in-github",
        "colab_type": "text"
      },
      "source": [
        "<a href=\"https://colab.research.google.com/github/mangalm96/agreement_reddit_ap/blob/main/LogReg.ipynb\" target=\"_parent\"><img src=\"https://colab.research.google.com/assets/colab-badge.svg\" alt=\"Open In Colab\"/></a>"
      ]
    },
    {
      "cell_type": "markdown",
      "metadata": {
        "id": "uq0J5fpzaN5p"
      },
      "source": [
        "L2-regularized logistic regression for binary or multiclass classification; trains a model (on `train.txt`), optimizes L2 regularization strength on `dev.txt`, and evaluates performance on `test.txt`.  Reports test accuracy with 95% confidence intervals and prints out the strongest coefficients for each class."
      ]
    },
    {
      "cell_type": "code",
      "execution_count": 89,
      "metadata": {
        "id": "TQTT9x-6d2JI",
        "colab": {
          "base_uri": "https://localhost:8080/"
        },
        "outputId": "f200d2a8-1e0b-4330-f303-80fb776480c0"
      },
      "outputs": [
        {
          "output_type": "stream",
          "name": "stdout",
          "text": [
            "[nltk_data] Downloading package stopwords to /root/nltk_data...\n",
            "[nltk_data]   Package stopwords is already up-to-date!\n"
          ]
        }
      ],
      "source": [
        "from scipy import sparse\n",
        "from sklearn import linear_model\n",
        "from collections import Counter\n",
        "import numpy as np\n",
        "import operator\n",
        "import nltk\n",
        "import math\n",
        "from scipy.stats import norm\n",
        "import nltk\n",
        "nltk.download('stopwords')\n",
        "from nltk.corpus import stopwords\n",
        "from nltk.tokenize import word_tokenize\n",
        "from nltk.util import ngrams"
      ]
    },
    {
      "cell_type": "code",
      "execution_count": 2,
      "metadata": {
        "id": "e4KuVSCSqlUX",
        "scrolled": true,
        "outputId": "0a22dcb5-3e32-421e-f5e0-ba7d431d89c1",
        "colab": {
          "base_uri": "https://localhost:8080/"
        }
      },
      "outputs": [
        {
          "output_type": "stream",
          "name": "stdout",
          "text": [
            "/usr/lib/python3.7/runpy.py:125: RuntimeWarning: 'nltk.downloader' found in sys.modules after import of package 'nltk', but prior to execution of 'nltk.downloader'; this may result in unpredictable behaviour\n",
            "  warn(RuntimeWarning(msg))\n",
            "[nltk_data] Downloading package punkt to /root/nltk_data...\n",
            "[nltk_data]   Package punkt is already up-to-date!\n"
          ]
        }
      ],
      "source": [
        "!python -m nltk.downloader punkt"
      ]
    },
    {
      "cell_type": "code",
      "source": [
        "# If you have your folder of data on your Google drive account, you can connect that here\n",
        "from google.colab import drive\n",
        "drive.mount('/content/drive')"
      ],
      "metadata": {
        "id": "e9LBAOqSar4U",
        "outputId": "b48944e0-c65a-43a9-bec2-badb3b3433df",
        "colab": {
          "base_uri": "https://localhost:8080/"
        }
      },
      "execution_count": 90,
      "outputs": [
        {
          "output_type": "stream",
          "name": "stdout",
          "text": [
            "Drive already mounted at /content/drive; to attempt to forcibly remount, call drive.mount(\"/content/drive\", force_remount=True).\n"
          ]
        }
      ]
    },
    {
      "cell_type": "code",
      "source": [
        "# Change this to the directory with your data\n",
        "directory=\"/content/drive/MyDrive/Agreement_Reddit_AP/data/\""
      ],
      "metadata": {
        "id": "phhy5RpAasZY"
      },
      "execution_count": 91,
      "outputs": []
    },
    {
      "cell_type": "code",
      "execution_count": 92,
      "metadata": {
        "id": "-esP6NmXaN5u"
      },
      "outputs": [],
      "source": [
        "def load_data(filename):\n",
        "    X = []\n",
        "    Y = []\n",
        "    with open(filename, encoding=\"utf-8\") as file:\n",
        "        for line in file:\n",
        "            cols = line.split(\"\\t\")\n",
        "            idd = cols[0]\n",
        "            label = cols[1].lstrip().rstrip()\n",
        "            text = cols[2]\n",
        "\n",
        "            X.append(text)\n",
        "            Y.append(label)\n",
        "\n",
        "    return X, Y\n"
      ]
    },
    {
      "cell_type": "code",
      "execution_count": 94,
      "metadata": {
        "id": "CGiM8qQiJOBU"
      },
      "outputs": [],
      "source": [
        "class Classifier:\n",
        "\n",
        "    def __init__(self, feature_method, trainX, trainY, devX, devY, testX, testY):\n",
        "        self.feature_vocab = {}\n",
        "        self.feature_method = feature_method\n",
        "        self.min_feature_count=2\n",
        "        self.log_reg = None\n",
        "\n",
        "        self.trainY=trainY\n",
        "        self.devY=devY\n",
        "        self.testY=testY\n",
        "        \n",
        "        self.trainX = self.process(trainX, training=True)\n",
        "        self.devX = self.process(devX, training=False)\n",
        "        self.testX = self.process(testX, training=False)\n",
        "\n",
        "\n",
        "\n",
        "    # Featurize entire dataset\n",
        "    def featurize(self, data):\n",
        "        featurized_data = []\n",
        "        for text in data:\n",
        "            feats = self.feature_method(text)\n",
        "            featurized_data.append(feats)\n",
        "        return featurized_data\n",
        "\n",
        "    # Read dataset and returned featurized representation as sparse matrix + label array\n",
        "    def process(self, X_data, training = False):\n",
        "          \n",
        "        data = self.featurize(X_data)\n",
        "\n",
        "        if training:\n",
        "            fid = 0\n",
        "            feature_doc_count = Counter()\n",
        "            for feats in data:\n",
        "                for feat in feats:\n",
        "                    feature_doc_count[feat]+= 1\n",
        "\n",
        "            for feat in feature_doc_count:\n",
        "                if feature_doc_count[feat] >= self.min_feature_count:\n",
        "                    self.feature_vocab[feat] = fid\n",
        "                    fid += 1\n",
        "\n",
        "        F = len(self.feature_vocab)\n",
        "        D = len(data)\n",
        "        X = sparse.dok_matrix((D, F))\n",
        "        for idx, feats in enumerate(data):\n",
        "            for feat in feats:\n",
        "                if feat in self.feature_vocab:\n",
        "                    X[idx, self.feature_vocab[feat]] = feats[feat]\n",
        "\n",
        "        return X\n",
        "\n",
        "    # Train model and evaluate on held-out data\n",
        "    def train(self):\n",
        "        (D,F) = self.trainX.shape\n",
        "        best_dev_accuracy=0\n",
        "        best_model=None\n",
        "        for C in [0.1, 1, 10, 100]:\n",
        "            self.log_reg = linear_model.LogisticRegression(C = C, max_iter=1000)\n",
        "            self.log_reg.fit(self.trainX, self.trainY)\n",
        "            training_accuracy = self.log_reg.score(self.trainX, self.trainY)\n",
        "            development_accuracy = self.log_reg.score(self.devX, self.devY)\n",
        "            if development_accuracy > best_dev_accuracy:\n",
        "                best_dev_accuracy=development_accuracy\n",
        "                best_model=self.log_reg\n",
        "\n",
        "#             print(\"C: %s, Train accuracy: %.3f, Dev accuracy: %.3f\" % (C, training_accuracy, development_accuracy))\n",
        "\n",
        "        self.log_reg=best_model\n",
        "        \n",
        "\n",
        "    def test(self):\n",
        "      return self.log_reg.score(self.testX, self.testY)\n",
        "\n",
        "    def dev(self):\n",
        "      return self.log_reg.score(self.devX, self.devY)\n",
        "        \n",
        "\n",
        "    def printWeights(self, n=10):\n",
        "\n",
        "        reverse_vocab=[None]*len(self.log_reg.coef_[0])\n",
        "        for k in self.feature_vocab:\n",
        "            reverse_vocab[self.feature_vocab[k]]=k\n",
        "\n",
        "        # binary\n",
        "        if len(self.log_reg.classes_) == 2:\n",
        "              weights=self.log_reg.coef_[0]\n",
        "\n",
        "              cat=self.log_reg.classes_[1]\n",
        "              for feature, weight in list(reversed(sorted(zip(reverse_vocab, weights), key = operator.itemgetter(1))))[:n]:\n",
        "                  print(\"%s\\t%.3f\\t%s\" % (cat, weight, feature))\n",
        "              print()\n",
        "\n",
        "              cat=self.log_reg.classes_[0]\n",
        "              for feature, weight in list(sorted(zip(reverse_vocab, weights), key = operator.itemgetter(1)))[:n]:\n",
        "                  print(\"%s\\t%.3f\\t%s\" % (cat, weight, feature))\n",
        "              print()\n",
        "\n",
        "        # multiclass\n",
        "        else:\n",
        "          for i, cat in enumerate(self.log_reg.classes_):\n",
        "\n",
        "              weights=self.log_reg.coef_[i]\n",
        "\n",
        "              for feature, weight in list(reversed(sorted(zip(reverse_vocab, weights), key = operator.itemgetter(1))))[:n]:\n",
        "                  print(\"%s\\t%.3f\\t%s\" % (cat, weight, feature))\n",
        "              print()\n",
        "\n",
        "            "
      ]
    },
    {
      "cell_type": "code",
      "execution_count": 95,
      "metadata": {
        "id": "Exd1Bwb2aN5w"
      },
      "outputs": [],
      "source": [
        "def binary_bow_featurize(text):\n",
        "    feats = {}\n",
        "    words = nltk.word_tokenize(text)\n",
        "\n",
        "    for word in words:\n",
        "        word=word.lower()\n",
        "        feats[word]=1\n",
        "            \n",
        "    return feats"
      ]
    },
    {
      "cell_type": "code",
      "execution_count": 96,
      "metadata": {
        "id": "43B4Pd1daN5w"
      },
      "outputs": [],
      "source": [
        "def confidence_intervals(accuracy, n, significance_level):\n",
        "    critical_value=(1-significance_level)/2\n",
        "    z_alpha=-1*norm.ppf(critical_value)\n",
        "    se=math.sqrt((accuracy*(1-accuracy))/n)\n",
        "    return accuracy-(se*z_alpha), accuracy+(se*z_alpha)"
      ]
    },
    {
      "cell_type": "code",
      "source": [
        "def remove_stop_df(data):\n",
        "  # remove stopwords\n",
        "  filt_combined = []\n",
        "  for word in nltk.word_tokenize(data):\n",
        "\n",
        "    if word.lower() not in stopwords.words('english'):\n",
        "      filt_combined.append(word)\n",
        "\n",
        "  filtered_ip= \" \".join(filt_combined)\n",
        "  return filtered_ip"
      ],
      "metadata": {
        "id": "1e8AmRMktA2r"
      },
      "execution_count": 98,
      "outputs": []
    },
    {
      "cell_type": "code",
      "execution_count": 104,
      "metadata": {
        "id": "TkTQ7u0kaN5x"
      },
      "outputs": [],
      "source": [
        "def run(trainingFile, devFile, testFile):\n",
        "    trainX, trainY=load_data(trainingFile)\n",
        "    devX, devY=load_data(devFile)\n",
        "    testX, testY=load_data(testFile)\n",
        "\n",
        "    # trainX = list(map(remove_stop_df, trainX))\n",
        "    # devX = list(map(remove_stop_df, devX))\n",
        "    # testX = list(map(remove_stop_df, testX))\n",
        "\n",
        "    simple_classifier = Classifier(binary_bow_featurize, trainX, trainY, devX, devY, testX, testY)\n",
        "    simple_classifier.train()\n",
        "    accuracy_test=simple_classifier.test()\n",
        "    accuracy_dev=simple_classifier.dev()\n",
        "\n",
        "    \n",
        "    lower, upper=confidence_intervals(accuracy_dev, len(devY), .95)\n",
        "    print(\"Dev accuracy for best dev model: %.3f, 95%% CIs: [%.3f %.3f]\\n\" % (accuracy_dev, lower, upper))\n",
        "    print(\"Test accuracy for best dev model: %.3f, 95%% CIs: [%.3f %.3f]\\n\" % (accuracy_test, lower, upper))\n",
        "\n",
        "    simple_classifier.printWeights()\n",
        "    \n"
      ]
    },
    {
      "cell_type": "code",
      "execution_count": 105,
      "metadata": {
        "id": "AU4ZHrkuaN5x",
        "outputId": "596e6975-364f-4395-8e30-c90ef9a02240",
        "colab": {
          "base_uri": "https://localhost:8080/"
        }
      },
      "outputs": [
        {
          "output_type": "stream",
          "name": "stdout",
          "text": [
            "Dev accuracy for best dev model: 0.750, 95% CIs: [0.690 0.810]\n",
            "\n",
            "Test accuracy for best dev model: 0.755, 95% CIs: [0.690 0.810]\n",
            "\n",
            "Agreement\t0.218\tother\n",
            "Agreement\t0.217\tthat\n",
            "Agreement\t0.198\tif\n",
            "Agreement\t0.197\t&\n",
            "Agreement\t0.196\t%\n",
            "Agreement\t0.175\tleast\n",
            "Agreement\t0.164\tget\n",
            "Agreement\t0.164\tbefore\n",
            "Agreement\t0.159\t'd\n",
            "Agreement\t0.158\t3\n",
            "\n",
            "Disagreement\t0.321\tn't\n",
            "Disagreement\t0.288\ti\n",
            "Disagreement\t0.284\t?\n",
            "Disagreement\t0.266\tactually\n",
            "Disagreement\t0.233\tthis\n",
            "Disagreement\t0.217\tgraph\n",
            "Disagreement\t0.206\tsay\n",
            "Disagreement\t0.187\tsure\n",
            "Disagreement\t0.184\tsimply\n",
            "Disagreement\t0.182\tme\n",
            "\n",
            "Neutral\t0.389\tand\n",
            "Neutral\t0.293\tabstract\n",
            "Neutral\t0.252\twe\n",
            "Neutral\t0.221\tcovid-19\n",
            "Neutral\t0.216\tour\n",
            "Neutral\t0.200\tby\n",
            "Neutral\t0.178\t(\n",
            "Neutral\t0.175\t)\n",
            "Neutral\t0.166\t.\n",
            "Neutral\t0.162\thas\n",
            "\n"
          ]
        }
      ],
      "source": [
        "trainingFile = directory + \"train.txt\" \n",
        "devFile = directory + \"dev.txt\" \n",
        "testFile = directory + \"test.txt\"\n",
        "    \n",
        "run(trainingFile, devFile, testFile)\n"
      ]
    },
    {
      "cell_type": "markdown",
      "source": [
        "###after stopword removal"
      ],
      "metadata": {
        "id": "a2Ti-IxUww_m"
      }
    },
    {
      "cell_type": "code",
      "source": [
        "def run(trainingFile, devFile, testFile):\n",
        "    trainX, trainY=load_data(trainingFile)\n",
        "    devX, devY=load_data(devFile)\n",
        "    testX, testY=load_data(testFile)\n",
        "\n",
        "    trainX = list(map(remove_stop_df, trainX))\n",
        "    devX = list(map(remove_stop_df, devX))\n",
        "    testX = list(map(remove_stop_df, testX))\n",
        "\n",
        "    simple_classifier = Classifier(binary_bow_featurize, trainX, trainY, devX, devY, testX, testY)\n",
        "    simple_classifier.train()\n",
        "    accuracy_test=simple_classifier.test()\n",
        "    accuracy_dev=simple_classifier.dev()\n",
        "\n",
        "    \n",
        "    lower, upper=confidence_intervals(accuracy_dev, len(devY), .95)\n",
        "    print(\"Dev accuracy for best dev model: %.3f, 95%% CIs: [%.3f %.3f]\\n\" % (accuracy_dev, lower, upper))\n",
        "    lower, upper=confidence_intervals(accuracy_dev, len(testY), .95)\n",
        "    print(\"Test accuracy for best dev model: %.3f, 95%% CIs: [%.3f %.3f]\\n\" % (accuracy_test, lower, upper))\n",
        "\n",
        "    simple_classifier.printWeights()"
      ],
      "metadata": {
        "id": "IDWoepgyXJGb"
      },
      "execution_count": 108,
      "outputs": []
    },
    {
      "cell_type": "code",
      "source": [
        "run(trainingFile, devFile, testFile)"
      ],
      "metadata": {
        "colab": {
          "base_uri": "https://localhost:8080/"
        },
        "id": "rHqLp7tVuPAp",
        "outputId": "dca9dddc-4037-437d-b427-1e1bb39e58fd"
      },
      "execution_count": 109,
      "outputs": [
        {
          "output_type": "stream",
          "name": "stdout",
          "text": [
            "Dev accuracy for best dev model: 0.740, 95% CIs: [0.679 0.801]\n",
            "\n",
            "Test accuracy for best dev model: 0.765, 95% CIs: [0.679 0.801]\n",
            "\n",
            "Agreement\t0.218\t&\n",
            "Agreement\t0.188\t%\n",
            "Agreement\t0.179\tleast\n",
            "Agreement\t0.175\tget\n",
            "Agreement\t0.175\t?\n",
            "Agreement\t0.175\tinfections\n",
            "Agreement\t0.154\tsimilar\n",
            "Agreement\t0.152\tshowed\n",
            "Agreement\t0.151\t3\n",
            "Agreement\t0.151\tsymptoms\n",
            "\n",
            "Disagreement\t0.331\tn't\n",
            "Disagreement\t0.310\t?\n",
            "Disagreement\t0.292\tactually\n",
            "Disagreement\t0.241\tgoing\n",
            "Disagreement\t0.227\tsay\n",
            "Disagreement\t0.223\tsure\n",
            "Disagreement\t0.218\tgraph\n",
            "Disagreement\t0.191\tsimply\n",
            "Disagreement\t0.184\tspikes\n",
            "Disagreement\t0.184\tcertain\n",
            "\n",
            "Neutral\t0.342\tabstract\n",
            "Neutral\t0.264\tcovid-19\n",
            "Neutral\t0.197\t(\n",
            "Neutral\t0.193\t)\n",
            "Neutral\t0.192\tpandemic\n",
            "Neutral\t0.186\t.\n",
            "Neutral\t0.186\tvaccine\n",
            "Neutral\t0.174\tsars-cov-2\n",
            "Neutral\t0.159\tb\n",
            "Neutral\t0.146\tmaturation\n",
            "\n"
          ]
        }
      ]
    },
    {
      "cell_type": "markdown",
      "source": [
        "### confusion matrix"
      ],
      "metadata": {
        "id": "VoMG8nAhrEk8"
      }
    },
    {
      "cell_type": "code",
      "source": [
        "from sklearn.metrics import confusion_matrix, ConfusionMatrixDisplay\n",
        "from sklearn.metrics import plot_confusion_matrix\n",
        "import matplotlib.pyplot as plt"
      ],
      "metadata": {
        "id": "MLrG-qcow4EL"
      },
      "execution_count": 14,
      "outputs": []
    },
    {
      "cell_type": "code",
      "source": [
        "def print_confusion(classifier):\n",
        "    fig, ax = plt.subplots(figsize=(10,10))\n",
        "    plot_confusion_matrix(classifier.log_reg, classifier.devX, classifier.devY, ax=ax, xticks_rotation=\"vertical\", values_format=\"d\")\n",
        "    plt.show()"
      ],
      "metadata": {
        "id": "jTZ-umck0ZKs"
      },
      "execution_count": 15,
      "outputs": []
    },
    {
      "cell_type": "code",
      "source": [
        "def print_confusion_test(classifier):\n",
        "    fig, ax = plt.subplots(figsize=(10,10))\n",
        "    plot_confusion_matrix(classifier.log_reg, classifier.testX, classifier.testY, ax=ax, xticks_rotation=\"vertical\", values_format=\"d\")\n",
        "    plt.show()"
      ],
      "metadata": {
        "id": "6FCOqcVpOQWV"
      },
      "execution_count": 79,
      "outputs": []
    },
    {
      "cell_type": "code",
      "source": [
        "def run(trainingFile, devFile, testFile):\n",
        "    trainX, trainY=load_data(trainingFile)\n",
        "    devX, devY=load_data(devFile)\n",
        "    testX, testY=load_data(testFile)\n",
        "\n",
        "    trainX = list(map(remove_stop_df, trainX))\n",
        "    devX = list(map(remove_stop_df, devX))\n",
        "    testX = list(map(remove_stop_df, testX))\n",
        "\n",
        "    simple_classifier = Classifier(binary_bow_featurize, trainX, trainY, devX, devY, testX, testY)\n",
        "    simple_classifier.train()\n",
        "    accuracy_test=simple_classifier.test()\n",
        "    accuracy_dev=simple_classifier.dev()\n",
        "\n",
        "    \n",
        "    lower, upper=confidence_intervals(accuracy_dev, len(devY), .95)\n",
        "    print(\"Dev accuracy for best dev model: %.3f, 95%% CIs: [%.3f %.3f]\\n\" % (accuracy_dev, lower, upper))\n",
        "    lower, upper=confidence_intervals(accuracy_dev, len(testY), .95)\n",
        "    print(\"Test accuracy for best dev model: %.3f, 95%% CIs: [%.3f %.3f]\\n\" % (accuracy_test, lower, upper))\n",
        "\n",
        "\n",
        "    print_confusion(simple_classifier)\n",
        "    print_confusion_test(simple_classifier)\n",
        "\n",
        "    simple_classifier.printWeights()"
      ],
      "metadata": {
        "id": "sDbmdDLR1hze"
      },
      "execution_count": 110,
      "outputs": []
    },
    {
      "cell_type": "code",
      "source": [
        "run(trainingFile, devFile, testFile)\n"
      ],
      "metadata": {
        "colab": {
          "base_uri": "https://localhost:8080/",
          "height": 1000
        },
        "id": "HjgPZbsH1sbe",
        "outputId": "e2310cfb-0542-4862-e5bf-343afdc0a091"
      },
      "execution_count": 111,
      "outputs": [
        {
          "output_type": "stream",
          "name": "stdout",
          "text": [
            "Dev accuracy for best dev model: 0.740, 95% CIs: [0.679 0.801]\n",
            "\n",
            "Test accuracy for best dev model: 0.765, 95% CIs: [0.679 0.801]\n",
            "\n"
          ]
        },
        {
          "output_type": "stream",
          "name": "stderr",
          "text": [
            "/usr/local/lib/python3.7/dist-packages/sklearn/utils/deprecation.py:87: FutureWarning: Function plot_confusion_matrix is deprecated; Function `plot_confusion_matrix` is deprecated in 1.0 and will be removed in 1.2. Use one of the class methods: ConfusionMatrixDisplay.from_predictions or ConfusionMatrixDisplay.from_estimator.\n",
            "  warnings.warn(msg, category=FutureWarning)\n"
          ]
        },
        {
          "output_type": "display_data",
          "data": {
            "text/plain": [
              "<Figure size 720x720 with 2 Axes>"
            ],
            "image/png": "[encoded data removed]"
          },
          "metadata": {
            "needs_background": "light"
          }
        },
        {
          "output_type": "stream",
          "name": "stderr",
          "text": [
            "/usr/local/lib/python3.7/dist-packages/sklearn/utils/deprecation.py:87: FutureWarning: Function plot_confusion_matrix is deprecated; Function `plot_confusion_matrix` is deprecated in 1.0 and will be removed in 1.2. Use one of the class methods: ConfusionMatrixDisplay.from_predictions or ConfusionMatrixDisplay.from_estimator.\n",
            "  warnings.warn(msg, category=FutureWarning)\n"
          ]
        },
        {
          "output_type": "display_data",
          "data": {
            "text/plain": [
              "<Figure size 720x720 with 2 Axes>"
            ],
            "image/png": "[encoded data removed]"
          },
          "metadata": {
            "needs_background": "light"
          }
        },
        {
          "output_type": "stream",
          "name": "stdout",
          "text": [
            "Agreement\t0.218\t&\n",
            "Agreement\t0.188\t%\n",
            "Agreement\t0.179\tleast\n",
            "Agreement\t0.175\tget\n",
            "Agreement\t0.175\t?\n",
            "Agreement\t0.175\tinfections\n",
            "Agreement\t0.154\tsimilar\n",
            "Agreement\t0.152\tshowed\n",
            "Agreement\t0.151\t3\n",
            "Agreement\t0.151\tsymptoms\n",
            "\n",
            "Disagreement\t0.331\tn't\n",
            "Disagreement\t0.310\t?\n",
            "Disagreement\t0.292\tactually\n",
            "Disagreement\t0.241\tgoing\n",
            "Disagreement\t0.227\tsay\n",
            "Disagreement\t0.223\tsure\n",
            "Disagreement\t0.218\tgraph\n",
            "Disagreement\t0.191\tsimply\n",
            "Disagreement\t0.184\tspikes\n",
            "Disagreement\t0.184\tcertain\n",
            "\n",
            "Neutral\t0.342\tabstract\n",
            "Neutral\t0.264\tcovid-19\n",
            "Neutral\t0.197\t(\n",
            "Neutral\t0.193\t)\n",
            "Neutral\t0.192\tpandemic\n",
            "Neutral\t0.186\t.\n",
            "Neutral\t0.186\tvaccine\n",
            "Neutral\t0.174\tsars-cov-2\n",
            "Neutral\t0.159\tb\n",
            "Neutral\t0.146\tmaturation\n",
            "\n"
          ]
        }
      ]
    },
    {
      "cell_type": "markdown",
      "source": [
        "### finding counts"
      ],
      "metadata": {
        "id": "w_4Rn1A-4I_L"
      }
    },
    {
      "cell_type": "code",
      "source": [
        "# importing Counter module\n",
        "from collections import Counter"
      ],
      "metadata": {
        "id": "WHEkOdtA2shN"
      },
      "execution_count": 113,
      "outputs": []
    },
    {
      "cell_type": "code",
      "source": [
        "trainX, trainY=load_data(trainingFile)\n",
        "\n",
        "devX, devY=load_data(devFile)\n",
        "testX, testY=load_data(testFile)\n",
        "print(\"On Train:\",Counter(trainY))\n",
        "print(\"On Dev:\",Counter(devY))\n",
        "print(\"On Test :\",Counter(testY))"
      ],
      "metadata": {
        "colab": {
          "base_uri": "https://localhost:8080/"
        },
        "id": "cN0pyrUE2_f0",
        "outputId": "97d044e7-2678-40d4-f4a3-150ff6d5583c"
      },
      "execution_count": 114,
      "outputs": [
        {
          "output_type": "stream",
          "name": "stdout",
          "text": [
            "On Train: Counter({'Agreement': 442, 'Disagreement': 109, 'Neutral': 49})\n",
            "On Dev: Counter({'Agreement': 152, 'Disagreement': 36, 'Neutral': 12})\n",
            "On Test : Counter({'Agreement': 151, 'Disagreement': 29, 'Neutral': 20})\n"
          ]
        }
      ]
    },
    {
      "cell_type": "markdown",
      "source": [
        "### unigram features"
      ],
      "metadata": {
        "id": "D3MLbXIv37nH"
      }
    },
    {
      "cell_type": "code",
      "source": [
        "agreement_words = ['yes','yeah','absolutely']\n",
        "diagree_words = [\"no\",\"only\",\"garbage\",\"wrong\"]\n",
        "neutral_words = ['should','probably']"
      ],
      "metadata": {
        "id": "4gDTiWkeNkYL"
      },
      "execution_count": 115,
      "outputs": []
    },
    {
      "cell_type": "code",
      "source": [
        "def unigram_featurize(text):\n",
        "    feats = {}\n",
        "    words = nltk.word_tokenize(text)\n",
        "\n",
        "    for word in words:\n",
        "        word=word.lower()\n",
        "\n",
        "        if word in agreement_words: \n",
        "            feats[\"contains_agreement_word\"] = 1\n",
        "        if word in diagree_words:\n",
        "            feats[\"contains_diagree_word\"] = 1\n",
        "        if word in neutral_words:\n",
        "            feats[\"contains_neutral_word\"] = 1\n",
        "        \n",
        "            \n",
        "    return feats"
      ],
      "metadata": {
        "id": "xmRM4TIk4gc-"
      },
      "execution_count": 116,
      "outputs": []
    },
    {
      "cell_type": "code",
      "source": [
        "def run_feature1(trainingFile, devFile, testFile):\n",
        "    trainX, trainY=load_data(trainingFile)\n",
        "    devX, devY=load_data(devFile)\n",
        "    testX, testY=load_data(testFile)\n",
        "\n",
        "    trainX = list(map(remove_stop_df, trainX))\n",
        "    devX = list(map(remove_stop_df, devX))\n",
        "    testX = list(map(remove_stop_df, testX))\n",
        "\n",
        "    simple_classifier = Classifier(unigram_featurize, trainX, trainY, devX, devY, testX, testY)\n",
        "    simple_classifier.train()\n",
        "    accuracy=simple_classifier.test()\n",
        "\n",
        "    print_confusion(simple_classifier)\n",
        "\n",
        "    \n",
        "    lower, upper=confidence_intervals(accuracy, len(devY), .95)\n",
        "    print(\"Test accuracy for best dev model: %.3f, 95%% CIs: [%.3f %.3f]\\n\" % (accuracy, lower, upper))\n",
        "\n",
        "    simple_classifier.printWeights()"
      ],
      "metadata": {
        "id": "Nzu46UK564HR"
      },
      "execution_count": 117,
      "outputs": []
    },
    {
      "cell_type": "code",
      "source": [
        "run_feature1(trainingFile, devFile, testFile)\n"
      ],
      "metadata": {
        "colab": {
          "base_uri": "https://localhost:8080/",
          "height": 0
        },
        "id": "el6G7oI_OfmJ",
        "outputId": "8f868ad4-07e3-4e2a-8946-2ca06af4eb33"
      },
      "execution_count": 118,
      "outputs": [
        {
          "output_type": "stream",
          "name": "stderr",
          "text": [
            "/usr/local/lib/python3.7/dist-packages/sklearn/utils/deprecation.py:87: FutureWarning: Function plot_confusion_matrix is deprecated; Function `plot_confusion_matrix` is deprecated in 1.0 and will be removed in 1.2. Use one of the class methods: ConfusionMatrixDisplay.from_predictions or ConfusionMatrixDisplay.from_estimator.\n",
            "  warnings.warn(msg, category=FutureWarning)\n"
          ]
        },
        {
          "output_type": "display_data",
          "data": {
            "text/plain": [
              "<Figure size 720x720 with 2 Axes>"
            ],
            "image/png": "[encoded data removed]"
          },
          "metadata": {
            "needs_background": "light"
          }
        },
        {
          "output_type": "stream",
          "name": "stdout",
          "text": [
            "Test accuracy for best dev model: 0.755, 95% CIs: [0.695 0.815]\n",
            "\n",
            "Agreement\t0.168\tcontains_agreement_word\n",
            "Agreement\t0.075\tcontains_neutral_word\n",
            "Agreement\t-0.032\tcontains_diagree_word\n",
            "\n",
            "Disagreement\t0.079\tcontains_diagree_word\n",
            "Disagreement\t-0.035\tcontains_neutral_word\n",
            "Disagreement\t-0.090\tcontains_agreement_word\n",
            "\n",
            "Neutral\t-0.040\tcontains_neutral_word\n",
            "Neutral\t-0.048\tcontains_diagree_word\n",
            "Neutral\t-0.078\tcontains_agreement_word\n",
            "\n"
          ]
        }
      ]
    },
    {
      "cell_type": "code",
      "source": [
        ""
      ],
      "metadata": {
        "id": "LdcvAgR-YCNS"
      },
      "execution_count": 118,
      "outputs": []
    },
    {
      "cell_type": "markdown",
      "source": [
        "###Bigram Features"
      ],
      "metadata": {
        "id": "mu_AzxfvX46Y"
      }
    },
    {
      "cell_type": "code",
      "source": [
        "agreement_bigram = ['i agree','great point','good point','great comment']\n",
        "diagree_bigram = [\"so this\",\"is that\",\"i don't\", \"not exactly\"]\n",
        "# neutral_bigram = ['should','probably']\n"
      ],
      "metadata": {
        "id": "Cw8J_f4uYi25"
      },
      "execution_count": 119,
      "outputs": []
    },
    {
      "cell_type": "code",
      "source": [
        "def bigram_featurize(text):\n",
        "    feats = {}\n",
        "    tokens = nltk.word_tokenize(text)\n",
        "\n",
        "    # lower each token\n",
        "    token_lower = [token.lower() for token in tokens]\n",
        "\n",
        "    bigram = list(ngrams(token_lower, 2))\n",
        "\n",
        "    # separate each bigram with space\n",
        "    for bi in bigram:\n",
        "      joined_w = \" \".join(bi)\n",
        "      if joined_w in agreement_bigram:\n",
        "        print(joined_w)\n",
        "        feats[\"contains_agreement_bigram\"] = 1\n",
        "      if joined_w in diagree_bigram:\n",
        "        print(joined_w)\n",
        "        feats[\"contains_diagree_bigram\"] = 1\n",
        "      # if joined_w in neutral_bigram:\n",
        "      #   feats[\"contains_neutral_bigram\"] = 1\n",
        "            \n",
        "    return feats"
      ],
      "metadata": {
        "id": "6-koT-xRYCq8"
      },
      "execution_count": 120,
      "outputs": []
    },
    {
      "cell_type": "code",
      "source": [
        "def run_feature2(trainingFile, devFile, testFile):\n",
        "    trainX, trainY=load_data(trainingFile)\n",
        "    devX, devY=load_data(devFile)\n",
        "    testX, testY=load_data(testFile)\n",
        "\n",
        "    trainX = list(map(remove_stop_df, trainX))\n",
        "    devX = list(map(remove_stop_df, devX))\n",
        "    testX = list(map(remove_stop_df, testX))\n",
        "\n",
        "    simple_classifier = Classifier(bigram_featurize, trainX, trainY, devX, devY, testX, testY)\n",
        "    simple_classifier.train()\n",
        "    accuracy=simple_classifier.test()\n",
        "\n",
        "    print_confusion(simple_classifier)\n",
        "\n",
        "    \n",
        "    lower, upper=confidence_intervals(accuracy, len(devY), .95)\n",
        "    print(\"Test accuracy for best dev model: %.3f, 95%% CIs: [%.3f %.3f]\\n\" % (accuracy, lower, upper))\n",
        "\n",
        "    simple_classifier.printWeights()"
      ],
      "metadata": {
        "id": "1Ggdfxs8YL7b"
      },
      "execution_count": 121,
      "outputs": []
    },
    {
      "cell_type": "code",
      "source": [
        "run_feature2(trainingFile, devFile, testFile)\n"
      ],
      "metadata": {
        "colab": {
          "base_uri": "https://localhost:8080/",
          "height": 0
        },
        "id": "rvaaGfCzeh4w",
        "outputId": "27157e02-f9a9-46a3-ff3b-14e145d114b3"
      },
      "execution_count": 122,
      "outputs": [
        {
          "output_type": "stream",
          "name": "stdout",
          "text": [
            "good point\n",
            "great comment\n",
            "good point\n",
            "good point\n"
          ]
        },
        {
          "output_type": "stream",
          "name": "stderr",
          "text": [
            "/usr/local/lib/python3.7/dist-packages/sklearn/utils/deprecation.py:87: FutureWarning: Function plot_confusion_matrix is deprecated; Function `plot_confusion_matrix` is deprecated in 1.0 and will be removed in 1.2. Use one of the class methods: ConfusionMatrixDisplay.from_predictions or ConfusionMatrixDisplay.from_estimator.\n",
            "  warnings.warn(msg, category=FutureWarning)\n"
          ]
        },
        {
          "output_type": "display_data",
          "data": {
            "text/plain": [
              "<Figure size 720x720 with 2 Axes>"
            ],
            "image/png": "[encoded data removed]"
          },
          "metadata": {
            "needs_background": "light"
          }
        },
        {
          "output_type": "stream",
          "name": "stdout",
          "text": [
            "Test accuracy for best dev model: 0.755, 95% CIs: [0.695 0.815]\n",
            "\n",
            "Agreement\t0.050\tcontains_agreement_bigram\n",
            "\n",
            "Disagreement\t-0.034\tcontains_agreement_bigram\n",
            "\n",
            "Neutral\t-0.016\tcontains_agreement_bigram\n",
            "\n"
          ]
        }
      ]
    },
    {
      "cell_type": "markdown",
      "source": [
        "### combined features "
      ],
      "metadata": {
        "id": "o4TmpZlSOjx1"
      }
    },
    {
      "cell_type": "code",
      "source": [
        "def combiner_function(text):\n",
        "\n",
        "    # Here the `all_feats` dict should contain the features -- the key should be the feature name, \n",
        "    # and the value is the feature value.  See `simple_featurize` for an example.\n",
        "    \n",
        "  all_feats={}\n",
        "  for feature in [binary_bow_featurize, unigram_featurize]:\n",
        "    all_feats.update(feature(text))\n",
        "  return all_feats"
      ],
      "metadata": {
        "id": "IddcYktSXDRi"
      },
      "execution_count": 123,
      "outputs": []
    },
    {
      "cell_type": "code",
      "source": [
        "def run_combined(trainingFile, devFile, testFile):\n",
        "    trainX, trainY=load_data(trainingFile)\n",
        "    devX, devY=load_data(devFile)\n",
        "    testX, testY=load_data(testFile)\n",
        "\n",
        "    trainX = list(map(remove_stop_df, trainX))\n",
        "    devX = list(map(remove_stop_df, devX))\n",
        "    testX = list(map(remove_stop_df, testX))\n",
        "\n",
        "    simple_classifier = Classifier(combiner_function, trainX, trainY, devX, devY, testX, testY)\n",
        "    simple_classifier.train()\n",
        "    accuracy_test=simple_classifier.test()\n",
        "    accuracy_dev=simple_classifier.dev()\n",
        "\n",
        "    \n",
        "    lower, upper=confidence_intervals(accuracy_dev, len(devY), .95)\n",
        "    print(\"Dev accuracy for best dev model: %.3f, 95%% CIs: [%.3f %.3f]\\n\" % (accuracy_dev, lower, upper))\n",
        "    lower, upper=confidence_intervals(accuracy_dev, len(testY), .95)\n",
        "    print(\"Test accuracy for best dev model: %.3f, 95%% CIs: [%.3f %.3f]\\n\" % (accuracy_test, lower, upper))\n",
        "\n",
        "    print_confusion(simple_classifier)\n",
        "    print_confusion_test(simple_classifier)\n",
        "\n",
        "    simple_classifier.printWeights()"
      ],
      "metadata": {
        "id": "ECUZed6kXth1"
      },
      "execution_count": 124,
      "outputs": []
    },
    {
      "cell_type": "code",
      "source": [
        "run_combined(trainingFile, devFile, testFile)\n"
      ],
      "metadata": {
        "colab": {
          "base_uri": "https://localhost:8080/",
          "height": 1000
        },
        "id": "OE5VanfHXxrG",
        "outputId": "d94f170d-b3dd-4672-f06b-a2d350767407"
      },
      "execution_count": 125,
      "outputs": [
        {
          "output_type": "stream",
          "name": "stdout",
          "text": [
            "Dev accuracy for best dev model: 0.740, 95% CIs: [0.679 0.801]\n",
            "\n",
            "Test accuracy for best dev model: 0.765, 95% CIs: [0.679 0.801]\n",
            "\n"
          ]
        },
        {
          "output_type": "stream",
          "name": "stderr",
          "text": [
            "/usr/local/lib/python3.7/dist-packages/sklearn/utils/deprecation.py:87: FutureWarning: Function plot_confusion_matrix is deprecated; Function `plot_confusion_matrix` is deprecated in 1.0 and will be removed in 1.2. Use one of the class methods: ConfusionMatrixDisplay.from_predictions or ConfusionMatrixDisplay.from_estimator.\n",
            "  warnings.warn(msg, category=FutureWarning)\n"
          ]
        },
        {
          "output_type": "display_data",
          "data": {
            "text/plain": [
              "<Figure size 720x720 with 2 Axes>"
            ],
            "image/png": "[encoded data removed]"
          },
          "metadata": {
            "needs_background": "light"
          }
        },
        {
          "output_type": "stream",
          "name": "stderr",
          "text": [
            "/usr/local/lib/python3.7/dist-packages/sklearn/utils/deprecation.py:87: FutureWarning: Function plot_confusion_matrix is deprecated; Function `plot_confusion_matrix` is deprecated in 1.0 and will be removed in 1.2. Use one of the class methods: ConfusionMatrixDisplay.from_predictions or ConfusionMatrixDisplay.from_estimator.\n",
            "  warnings.warn(msg, category=FutureWarning)\n"
          ]
        },
        {
          "output_type": "display_data",
          "data": {
            "text/plain": [
              "<Figure size 720x720 with 2 Axes>"
            ],
            "image/png": "[encoded data removed]"
          },
          "metadata": {
            "needs_background": "light"
          }
        },
        {
          "output_type": "stream",
          "name": "stdout",
          "text": [
            "Agreement\t0.218\t&\n",
            "Agreement\t0.189\t%\n",
            "Agreement\t0.179\tleast\n",
            "Agreement\t0.177\t?\n",
            "Agreement\t0.176\tinfections\n",
            "Agreement\t0.174\tget\n",
            "Agreement\t0.153\tsimilar\n",
            "Agreement\t0.153\tshowed\n",
            "Agreement\t0.152\t3\n",
            "Agreement\t0.150\tsymptoms\n",
            "\n",
            "Disagreement\t0.330\tn't\n",
            "Disagreement\t0.309\t?\n",
            "Disagreement\t0.292\tactually\n",
            "Disagreement\t0.243\tgoing\n",
            "Disagreement\t0.226\tsay\n",
            "Disagreement\t0.223\tsure\n",
            "Disagreement\t0.218\tgraph\n",
            "Disagreement\t0.191\tsimply\n",
            "Disagreement\t0.184\tspikes\n",
            "Disagreement\t0.184\tcertain\n",
            "\n",
            "Neutral\t0.342\tabstract\n",
            "Neutral\t0.264\tcovid-19\n",
            "Neutral\t0.197\t(\n",
            "Neutral\t0.192\t)\n",
            "Neutral\t0.191\tpandemic\n",
            "Neutral\t0.186\t.\n",
            "Neutral\t0.186\tvaccine\n",
            "Neutral\t0.174\tsars-cov-2\n",
            "Neutral\t0.159\tb\n",
            "Neutral\t0.146\tmaturation\n",
            "\n"
          ]
        }
      ]
    },
    {
      "cell_type": "markdown",
      "source": [
        "### with punctuation removal"
      ],
      "metadata": {
        "id": "D3FnpKyeXzbK"
      }
    },
    {
      "cell_type": "code",
      "source": [
        "import string\n",
        "import re"
      ],
      "metadata": {
        "id": "C5zI94Qs7cEp"
      },
      "execution_count": 31,
      "outputs": []
    },
    {
      "cell_type": "code",
      "source": [
        "# list_punct = string.punctuation"
      ],
      "metadata": {
        "colab": {
          "base_uri": "https://localhost:8080/",
          "height": 36
        },
        "id": "3WqouvOe7crd",
        "outputId": "2032d0a9-9b7c-47bc-8d82-3f7b9305384c"
      },
      "execution_count": 45,
      "outputs": [
        {
          "output_type": "execute_result",
          "data": {
            "text/plain": [
              "'!\"#$&\\'()*+,-./:;<=>?@[\\\\]^_`{|}~'"
            ],
            "application/vnd.google.colaboratory.intrinsic+json": {
              "type": "string"
            }
          },
          "metadata": {},
          "execution_count": 45
        }
      ]
    },
    {
      "cell_type": "code",
      "source": [
        "def punct_removal(data):\n",
        "  # remove punctutation\n",
        "  filt_data = re.sub(r'[^\\w\\d\\s\\%\\&\\?]+', '', data)\n",
        "\n",
        "  return filt_data"
      ],
      "metadata": {
        "id": "xfQ4Jp0O5K2O"
      },
      "execution_count": 127,
      "outputs": []
    },
    {
      "cell_type": "code",
      "source": [
        "def print_confusion_test(classifier):\n",
        "    fig, ax = plt.subplots(figsize=(10,10))\n",
        "    plot_confusion_matrix(classifier.log_reg, classifier.testX, classifier.testY, ax=ax, xticks_rotation=\"vertical\", values_format=\"d\")\n",
        "    plt.show()"
      ],
      "metadata": {
        "id": "bnGvbs_BOCl-"
      },
      "execution_count": 126,
      "outputs": []
    },
    {
      "cell_type": "code",
      "source": [
        "def run_punct(trainingFile, devFile, testFile):\n",
        "    trainX, trainY=load_data(trainingFile)\n",
        "    devX, devY=load_data(devFile)\n",
        "    testX, testY=load_data(testFile)\n",
        "\n",
        "    # remove stopwords\n",
        "    trainX = list(map(remove_stop_df, trainX))\n",
        "    devX = list(map(remove_stop_df, devX))\n",
        "    testX = list(map(remove_stop_df, testX))\n",
        "\n",
        "    # remove punct\n",
        "    trainX = list(map(punct_removal, trainX))\n",
        "    devX = list(map(punct_removal, devX))\n",
        "    testX = list(map(punct_removal, testX))\n",
        "\n",
        "    simple_classifier = Classifier(binary_bow_featurize, trainX, trainY, devX, devY, testX, testY)\n",
        "    simple_classifier.train()\n",
        "    accuracy_test=simple_classifier.test()\n",
        "    accuracy_dev=simple_classifier.dev()\n",
        "\n",
        "    \n",
        "    lower, upper=confidence_intervals(accuracy_dev, len(devY), .95)\n",
        "    print(\"Dev accuracy for best dev model: %.3f, 95%% CIs: [%.3f %.3f]\\n\" % (accuracy_dev, lower, upper))\n",
        "    lower, upper=confidence_intervals(accuracy_dev, len(testY), .95)\n",
        "    print(\"Test accuracy for best dev model: %.3f, 95%% CIs: [%.3f %.3f]\\n\" % (accuracy_test, lower, upper))\n",
        "\n",
        "    print_confusion(simple_classifier)\n",
        "    print_confusion_test(simple_classifier)\n",
        "    \n",
        "    simple_classifier.printWeights()"
      ],
      "metadata": {
        "id": "oOAxfVyP4ynU"
      },
      "execution_count": 128,
      "outputs": []
    },
    {
      "cell_type": "code",
      "source": [
        "run_punct(trainingFile, devFile, testFile)\n"
      ],
      "metadata": {
        "colab": {
          "base_uri": "https://localhost:8080/",
          "height": 1000
        },
        "id": "xNi-QDgAAMJg",
        "outputId": "b1871d7c-60f7-4dd0-f704-2af71670c769"
      },
      "execution_count": 129,
      "outputs": [
        {
          "output_type": "stream",
          "name": "stdout",
          "text": [
            "Dev accuracy for best dev model: 0.745, 95% CIs: [0.685 0.805]\n",
            "\n",
            "Test accuracy for best dev model: 0.750, 95% CIs: [0.685 0.805]\n",
            "\n"
          ]
        },
        {
          "output_type": "stream",
          "name": "stderr",
          "text": [
            "/usr/local/lib/python3.7/dist-packages/sklearn/utils/deprecation.py:87: FutureWarning: Function plot_confusion_matrix is deprecated; Function `plot_confusion_matrix` is deprecated in 1.0 and will be removed in 1.2. Use one of the class methods: ConfusionMatrixDisplay.from_predictions or ConfusionMatrixDisplay.from_estimator.\n",
            "  warnings.warn(msg, category=FutureWarning)\n"
          ]
        },
        {
          "output_type": "display_data",
          "data": {
            "text/plain": [
              "<Figure size 720x720 with 2 Axes>"
            ],
            "image/png": "[encoded data removed]"
          },
          "metadata": {
            "needs_background": "light"
          }
        },
        {
          "output_type": "stream",
          "name": "stderr",
          "text": [
            "/usr/local/lib/python3.7/dist-packages/sklearn/utils/deprecation.py:87: FutureWarning: Function plot_confusion_matrix is deprecated; Function `plot_confusion_matrix` is deprecated in 1.0 and will be removed in 1.2. Use one of the class methods: ConfusionMatrixDisplay.from_predictions or ConfusionMatrixDisplay.from_estimator.\n",
            "  warnings.warn(msg, category=FutureWarning)\n"
          ]
        },
        {
          "output_type": "display_data",
          "data": {
            "text/plain": [
              "<Figure size 720x720 with 2 Axes>"
            ],
            "image/png": "[encoded data removed]"
          },
          "metadata": {
            "needs_background": "light"
          }
        },
        {
          "output_type": "stream",
          "name": "stdout",
          "text": [
            "Agreement\t0.223\t&\n",
            "Agreement\t0.186\t?\n",
            "Agreement\t0.184\t%\n",
            "Agreement\t0.183\tleast\n",
            "Agreement\t0.175\tinfections\n",
            "Agreement\t0.172\tget\n",
            "Agreement\t0.159\tsimilar\n",
            "Agreement\t0.158\tshowed\n",
            "Agreement\t0.157\thttps\n",
            "Agreement\t0.157\tsymptoms\n",
            "\n",
            "Disagreement\t0.354\tnt\n",
            "Disagreement\t0.340\t?\n",
            "Disagreement\t0.292\tactually\n",
            "Disagreement\t0.249\tgoing\n",
            "Disagreement\t0.225\tsay\n",
            "Disagreement\t0.218\tsure\n",
            "Disagreement\t0.218\tgraph\n",
            "Disagreement\t0.195\tsimply\n",
            "Disagreement\t0.189\tcertain\n",
            "Disagreement\t0.180\tspikes\n",
            "\n",
            "Neutral\t0.400\tabstract\n",
            "Neutral\t0.257\tcovid19\n",
            "Neutral\t0.186\tvaccine\n",
            "Neutral\t0.180\tpandemic\n",
            "Neutral\t0.174\tsarscov2\n",
            "Neutral\t0.160\tage\n",
            "Neutral\t0.159\tb\n",
            "Neutral\t0.156\tmaturation\n",
            "Neutral\t0.149\tantibodies\n",
            "Neutral\t0.140\troll\n",
            "\n"
          ]
        }
      ]
    },
    {
      "cell_type": "markdown",
      "source": [
        "### combined (BOW + unigram) with stopword and punct removal"
      ],
      "metadata": {
        "id": "zomJfLvrJhfc"
      }
    },
    {
      "cell_type": "code",
      "source": [
        "def run_combined_punct(trainingFile, devFile, testFile):\n",
        "    trainX, trainY=load_data(trainingFile)\n",
        "    devX, devY=load_data(devFile)\n",
        "    testX, testY=load_data(testFile)\n",
        "\n",
        "    trainX = list(map(remove_stop_df, trainX))\n",
        "    devX = list(map(remove_stop_df, devX))\n",
        "    testX = list(map(remove_stop_df, testX))\n",
        "\n",
        "    # remove punct\n",
        "    trainX = list(map(punct_removal, trainX))\n",
        "    devX = list(map(punct_removal, devX))\n",
        "    testX = list(map(punct_removal, testX))\n",
        "\n",
        "    simple_classifier = Classifier(combiner_function, trainX, trainY, devX, devY, testX, testY)\n",
        "    simple_classifier.train()\n",
        "    accuracy=simple_classifier.test()\n",
        "\n",
        "    print_confusion(simple_classifier)\n",
        "\n",
        "    \n",
        "    lower, upper=confidence_intervals(accuracy, len(devY), .95)\n",
        "    print(\"Test accuracy for best dev model: %.3f, 95%% CIs: [%.3f %.3f]\\n\" % (accuracy, lower, upper))\n",
        "\n",
        "    simple_classifier.printWeights()"
      ],
      "metadata": {
        "id": "Zg00GPcwJnpi"
      },
      "execution_count": 69,
      "outputs": []
    },
    {
      "cell_type": "code",
      "source": [
        "run_combined_punct(trainingFile, devFile, testFile)\n"
      ],
      "metadata": {
        "colab": {
          "base_uri": "https://localhost:8080/",
          "height": 0
        },
        "id": "razLF60vKBJx",
        "outputId": "f3b46b9d-ddea-4292-d8e5-2b20c3dcff3f"
      },
      "execution_count": 70,
      "outputs": [
        {
          "output_type": "stream",
          "name": "stderr",
          "text": [
            "/usr/local/lib/python3.7/dist-packages/sklearn/utils/deprecation.py:87: FutureWarning: Function plot_confusion_matrix is deprecated; Function `plot_confusion_matrix` is deprecated in 1.0 and will be removed in 1.2. Use one of the class methods: ConfusionMatrixDisplay.from_predictions or ConfusionMatrixDisplay.from_estimator.\n",
            "  warnings.warn(msg, category=FutureWarning)\n"
          ]
        },
        {
          "output_type": "display_data",
          "data": {
            "text/plain": [
              "<Figure size 720x720 with 2 Axes>"
            ],
            "image/png": "[encoded data removed]"
          },
          "metadata": {
            "needs_background": "light"
          }
        },
        {
          "output_type": "stream",
          "name": "stdout",
          "text": [
            "Test accuracy for best dev model: 0.750, 95% CIs: [0.690 0.810]\n",
            "\n",
            "Agreement\t0.223\t&\n",
            "Agreement\t0.188\t?\n",
            "Agreement\t0.185\t%\n",
            "Agreement\t0.183\tleast\n",
            "Agreement\t0.175\tinfections\n",
            "Agreement\t0.171\tget\n",
            "Agreement\t0.159\tsimilar\n",
            "Agreement\t0.159\tshowed\n",
            "Agreement\t0.157\thttps\n",
            "Agreement\t0.156\tsymptoms\n",
            "\n",
            "Disagreement\t0.354\tnt\n",
            "Disagreement\t0.339\t?\n",
            "Disagreement\t0.292\tactually\n",
            "Disagreement\t0.250\tgoing\n",
            "Disagreement\t0.224\tsay\n",
            "Disagreement\t0.218\tsure\n",
            "Disagreement\t0.217\tgraph\n",
            "Disagreement\t0.195\tsimply\n",
            "Disagreement\t0.189\tcertain\n",
            "Disagreement\t0.180\tspikes\n",
            "\n",
            "Neutral\t0.400\tabstract\n",
            "Neutral\t0.257\tcovid19\n",
            "Neutral\t0.186\tvaccine\n",
            "Neutral\t0.180\tpandemic\n",
            "Neutral\t0.174\tsarscov2\n",
            "Neutral\t0.160\tage\n",
            "Neutral\t0.160\tb\n",
            "Neutral\t0.156\tmaturation\n",
            "Neutral\t0.148\tantibodies\n",
            "Neutral\t0.140\troll\n",
            "\n"
          ]
        }
      ]
    },
    {
      "cell_type": "code",
      "source": [
        ""
      ],
      "metadata": {
        "id": "jVl3hWQeKGT4"
      },
      "execution_count": null,
      "outputs": []
    }
  ],
  "metadata": {
    "colab": {
      "collapsed_sections": [],
      "name": "LogReg.ipynb",
      "provenance": [],
      "toc_visible": true,
      "include_colab_link": true
    },
    "kernelspec": {
      "display_name": "Python 3 (ipykernel)",
      "language": "python",
      "name": "python3"
    },
    "language_info": {
      "codemirror_mode": {
        "name": "ipython",
        "version": 3
      },
      "file_extension": ".py",
      "mimetype": "text/x-python",
      "name": "python",
      "nbconvert_exporter": "python",
      "pygments_lexer": "ipython3",
      "version": "3.8.8"
    }
  },
  "nbformat": 4,
  "nbformat_minor": 0
}