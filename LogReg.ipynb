{
  "cells": [
    {
      "cell_type": "markdown",
      "metadata": {
        "id": "view-in-github",
        "colab_type": "text"
      },
      "source": [
        "<a href=\"https://colab.research.google.com/github/mangalm96/agreement_reddit_ap/blob/main/LogReg.ipynb\" target=\"_parent\"><img src=\"https://colab.research.google.com/assets/colab-badge.svg\" alt=\"Open In Colab\"/></a>"
      ]
    },
    {
      "cell_type": "markdown",
      "metadata": {
        "id": "uq0J5fpzaN5p"
      },
      "source": [
        "L2-regularized logistic regression for binary or multiclass classification; trains a model (on `train.txt`), optimizes L2 regularization strength on `dev.txt`, and evaluates performance on `test.txt`.  Reports test accuracy with 95% confidence intervals and prints out the strongest coefficients for each class."
      ]
    },
    {
      "cell_type": "code",
      "execution_count": 1,
      "metadata": {
        "id": "TQTT9x-6d2JI",
        "colab": {
          "base_uri": "https://localhost:8080/"
        },
        "outputId": "5cdf801d-8ba4-4f58-e29d-4c812223e389"
      },
      "outputs": [
        {
          "output_type": "stream",
          "name": "stdout",
          "text": [
            "[nltk_data] Downloading package stopwords to /root/nltk_data...\n",
            "[nltk_data]   Package stopwords is already up-to-date!\n"
          ]
        }
      ],
      "source": [
        "from scipy import sparse\n",
        "from sklearn import linear_model\n",
        "from collections import Counter\n",
        "import numpy as np\n",
        "import operator\n",
        "import nltk\n",
        "import math\n",
        "from scipy.stats import norm\n",
        "import nltk\n",
        "nltk.download('stopwords')\n",
        "from nltk.corpus import stopwords\n",
        "from nltk.tokenize import word_tokenize\n",
        "from nltk.util import ngrams\n",
        "from sklearn.metrics import confusion_matrix, ConfusionMatrixDisplay\n",
        "from sklearn.metrics import plot_confusion_matrix\n",
        "import matplotlib.pyplot as plt"
      ]
    },
    {
      "cell_type": "code",
      "execution_count": 2,
      "metadata": {
        "id": "e4KuVSCSqlUX",
        "scrolled": true,
        "outputId": "0eba51a4-aa2e-4fa1-fce7-6e31c343a982",
        "colab": {
          "base_uri": "https://localhost:8080/"
        }
      },
      "outputs": [
        {
          "output_type": "stream",
          "name": "stdout",
          "text": [
            "/usr/lib/python3.7/runpy.py:125: RuntimeWarning: 'nltk.downloader' found in sys.modules after import of package 'nltk', but prior to execution of 'nltk.downloader'; this may result in unpredictable behaviour\n",
            "  warn(RuntimeWarning(msg))\n",
            "[nltk_data] Downloading package punkt to /root/nltk_data...\n",
            "[nltk_data]   Package punkt is already up-to-date!\n"
          ]
        }
      ],
      "source": [
        "!python -m nltk.downloader punkt"
      ]
    },
    {
      "cell_type": "code",
      "source": [
        "# If you have your folder of data on your Google drive account, you can connect that here\n",
        "from google.colab import drive\n",
        "drive.mount('/content/drive')"
      ],
      "metadata": {
        "id": "e9LBAOqSar4U",
        "outputId": "b9ea6f9b-530c-46fb-c414-b678d746b587",
        "colab": {
          "base_uri": "https://localhost:8080/"
        }
      },
      "execution_count": 3,
      "outputs": [
        {
          "output_type": "stream",
          "name": "stdout",
          "text": [
            "Drive already mounted at /content/drive; to attempt to forcibly remount, call drive.mount(\"/content/drive\", force_remount=True).\n"
          ]
        }
      ]
    },
    {
      "cell_type": "code",
      "source": [
        "# Change this to the directory with your data\n",
        "directory=\"/content/drive/MyDrive/Agreement_Reddit_AP/data/\""
      ],
      "metadata": {
        "id": "phhy5RpAasZY"
      },
      "execution_count": 4,
      "outputs": []
    },
    {
      "cell_type": "code",
      "execution_count": 35,
      "metadata": {
        "id": "-esP6NmXaN5u"
      },
      "outputs": [],
      "source": [
        "def load_data(filename):\n",
        "    X = []\n",
        "    Y = []\n",
        "    with open(filename, encoding=\"utf-8\") as file:\n",
        "        for line in file:\n",
        "            cols = line.split(\"\\t\")\n",
        "            idd = cols[0]\n",
        "            label = cols[1].lstrip().rstrip()\n",
        "            text = cols[2]\n",
        "\n",
        "            X.append(text)\n",
        "            Y.append(label)\n",
        "\n",
        "    return X, Y\n"
      ]
    },
    {
      "cell_type": "code",
      "execution_count": 51,
      "metadata": {
        "id": "CGiM8qQiJOBU"
      },
      "outputs": [],
      "source": [
        "class Classifier:\n",
        "\n",
        "    def __init__(self, feature_method, trainX, trainY, devX, devY, testX, testY):\n",
        "        self.feature_vocab = {}\n",
        "        self.feature_method = feature_method\n",
        "        self.min_feature_count=2\n",
        "        self.log_reg = None\n",
        "\n",
        "        self.trainY=trainY\n",
        "        self.devY=devY\n",
        "        self.testY=testY\n",
        "        \n",
        "        self.trainX = self.process(trainX, training=True)\n",
        "        self.devX = self.process(devX, training=False)\n",
        "        self.testX = self.process(testX, training=False)\n",
        "\n",
        "\n",
        "\n",
        "    # Featurize entire dataset\n",
        "    def featurize(self, data):\n",
        "        featurized_data = []\n",
        "        for text in data:\n",
        "            feats = self.feature_method(text)\n",
        "            featurized_data.append(feats)\n",
        "        return featurized_data\n",
        "\n",
        "    # Read dataset and returned featurized representation as sparse matrix + label array\n",
        "    def process(self, X_data, training = False):\n",
        "          \n",
        "        data = self.featurize(X_data)\n",
        "\n",
        "        if training:\n",
        "            fid = 0\n",
        "            feature_doc_count = Counter()\n",
        "            for feats in data:\n",
        "                for feat in feats:\n",
        "                    feature_doc_count[feat]+= 1\n",
        "\n",
        "            for feat in feature_doc_count:\n",
        "                if feature_doc_count[feat] >= self.min_feature_count:\n",
        "                    self.feature_vocab[feat] = fid\n",
        "                    fid += 1\n",
        "\n",
        "        F = len(self.feature_vocab)\n",
        "        D = len(data)\n",
        "        X = sparse.dok_matrix((D, F))\n",
        "        for idx, feats in enumerate(data):\n",
        "            for feat in feats:\n",
        "                if feat in self.feature_vocab:\n",
        "                    X[idx, self.feature_vocab[feat]] = feats[feat]\n",
        "\n",
        "        return X\n",
        "\n",
        "    # Train model and evaluate on held-out data\n",
        "    def train(self):\n",
        "        (D,F) = self.trainX.shape\n",
        "        best_dev_accuracy=0\n",
        "        best_model=None\n",
        "        for C in [0.1, 1, 10, 100]:\n",
        "            self.log_reg = linear_model.LogisticRegression(C = C, max_iter=1000)\n",
        "            self.log_reg.fit(self.trainX, self.trainY)\n",
        "            training_accuracy = self.log_reg.score(self.trainX, self.trainY)\n",
        "            development_accuracy = self.log_reg.score(self.devX, self.devY)\n",
        "            if development_accuracy > best_dev_accuracy:\n",
        "                best_dev_accuracy=development_accuracy\n",
        "                best_model=self.log_reg\n",
        "\n",
        "#             print(\"C: %s, Train accuracy: %.3f, Dev accuracy: %.3f\" % (C, training_accuracy, development_accuracy))\n",
        "\n",
        "        self.log_reg=best_model\n",
        "\n",
        "        # y_pred\n",
        "        dev_actual = self.devY\n",
        "        dev_pred = self.log_reg.predict(self.devX)\n",
        "\n",
        "        return dev_pred,dev_actual\n",
        "\n",
        "        \n",
        "\n",
        "    def test(self):\n",
        "      return self.log_reg.score(self.testX, self.testY)\n",
        "\n",
        "    def dev(self):\n",
        "      return self.log_reg.score(self.devX, self.devY)\n",
        "        \n",
        "\n",
        "    def printWeights(self, n=10):\n",
        "\n",
        "        reverse_vocab=[None]*len(self.log_reg.coef_[0])\n",
        "        for k in self.feature_vocab:\n",
        "            reverse_vocab[self.feature_vocab[k]]=k\n",
        "\n",
        "        # binary\n",
        "        if len(self.log_reg.classes_) == 2:\n",
        "              weights=self.log_reg.coef_[0]\n",
        "\n",
        "              cat=self.log_reg.classes_[1]\n",
        "              for feature, weight in list(reversed(sorted(zip(reverse_vocab, weights), key = operator.itemgetter(1))))[:n]:\n",
        "                  print(\"%s\\t%.3f\\t%s\" % (cat, weight, feature))\n",
        "              print()\n",
        "\n",
        "              cat=self.log_reg.classes_[0]\n",
        "              for feature, weight in list(sorted(zip(reverse_vocab, weights), key = operator.itemgetter(1)))[:n]:\n",
        "                  print(\"%s\\t%.3f\\t%s\" % (cat, weight, feature))\n",
        "              print()\n",
        "\n",
        "        # multiclass\n",
        "        else:\n",
        "          for i, cat in enumerate(self.log_reg.classes_):\n",
        "\n",
        "              weights=self.log_reg.coef_[i]\n",
        "\n",
        "              for feature, weight in list(reversed(sorted(zip(reverse_vocab, weights), key = operator.itemgetter(1))))[:n]:\n",
        "                  print(\"%s\\t%.3f\\t%s\" % (cat, weight, feature))\n",
        "              print()\n",
        "\n",
        "            "
      ]
    },
    {
      "cell_type": "code",
      "execution_count": 52,
      "metadata": {
        "id": "Exd1Bwb2aN5w"
      },
      "outputs": [],
      "source": [
        "def binary_bow_featurize(text):\n",
        "    feats = {}\n",
        "    words = nltk.word_tokenize(text)\n",
        "\n",
        "    for word in words:\n",
        "        word=word.lower()\n",
        "        feats[word]=1\n",
        "            \n",
        "    return feats"
      ]
    },
    {
      "cell_type": "code",
      "execution_count": 53,
      "metadata": {
        "id": "43B4Pd1daN5w"
      },
      "outputs": [],
      "source": [
        "def confidence_intervals(accuracy, n, significance_level):\n",
        "    critical_value=(1-significance_level)/2\n",
        "    z_alpha=-1*norm.ppf(critical_value)\n",
        "    se=math.sqrt((accuracy*(1-accuracy))/n)\n",
        "    return accuracy-(se*z_alpha), accuracy+(se*z_alpha)"
      ]
    },
    {
      "cell_type": "code",
      "source": [
        "def remove_stop_df(data):\n",
        "  # remove stopwords\n",
        "  filt_combined = []\n",
        "  for word in nltk.word_tokenize(data):\n",
        "\n",
        "    if word.lower() not in stopwords.words('english'):\n",
        "      filt_combined.append(word)\n",
        "\n",
        "  filtered_ip= \" \".join(filt_combined)\n",
        "  return filtered_ip"
      ],
      "metadata": {
        "id": "1e8AmRMktA2r"
      },
      "execution_count": 54,
      "outputs": []
    },
    {
      "cell_type": "code",
      "source": [
        "# confusion matrix\n",
        "\n",
        "def print_confusion(classifier):\n",
        "    fig, ax = plt.subplots(figsize=(10,10))\n",
        "    plot_confusion_matrix(classifier.log_reg, classifier.devX, classifier.devY, ax=ax, xticks_rotation=\"vertical\", values_format=\"d\")\n",
        "    plt.show()\n",
        "\n",
        "\n",
        "def print_confusion_test(classifier):\n",
        "    fig, ax = plt.subplots(figsize=(10,10))\n",
        "    plot_confusion_matrix(classifier.log_reg, classifier.testX, classifier.testY, ax=ax, xticks_rotation=\"vertical\", values_format=\"d\")\n",
        "    plt.show()"
      ],
      "metadata": {
        "id": "ZazoIU077WIP"
      },
      "execution_count": 55,
      "outputs": []
    },
    {
      "cell_type": "code",
      "source": [
        "trainingFile = directory + \"train.txt\" \n",
        "devFile = directory + \"dev.txt\" \n",
        "testFile = directory + \"test.txt\""
      ],
      "metadata": {
        "id": "Wg4PTUcdewoV"
      },
      "execution_count": 56,
      "outputs": []
    },
    {
      "cell_type": "code",
      "source": [
        "import pandas as pd"
      ],
      "metadata": {
        "id": "i6jUd7EutUU6"
      },
      "execution_count": 57,
      "outputs": []
    },
    {
      "cell_type": "code",
      "execution_count": 58,
      "metadata": {
        "id": "TkTQ7u0kaN5x"
      },
      "outputs": [],
      "source": [
        "def run(trainingFile, devFile, testFile):\n",
        "    trainX, trainY=load_data(trainingFile)\n",
        "    devX, devY=load_data(devFile)\n",
        "    testX, testY=load_data(testFile)\n",
        "\n",
        "    trainX = list(map(remove_stop_df, trainX))\n",
        "    devX = list(map(remove_stop_df, devX))\n",
        "    testX = list(map(remove_stop_df, testX))\n",
        "\n",
        "    simple_classifier = Classifier(binary_bow_featurize, trainX, trainY, devX, devY, testX, testY)\n",
        "    preds,dev_y = simple_classifier.train()\n",
        "    # make df of pred \n",
        "    pred_test = pd.DataFrame({\"actual\":dev_y,\"preds\":preds})\n",
        "\n",
        "    # print(preds)\n",
        "    # print(devY)\n",
        "    accuracy_test=simple_classifier.test()\n",
        "    accuracy_dev=simple_classifier.dev()\n",
        "\n",
        "    \n",
        "    lower, upper=confidence_intervals(accuracy_dev, len(devY), .95)\n",
        "    print(\"Dev accuracy for best dev model: %.3f, 95%% CIs: [%.3f %.3f]\\n\" % (accuracy_dev, lower, upper))\n",
        "    print(\"Test accuracy for best dev model: %.3f, 95%% CIs: [%.3f %.3f]\\n\" % (accuracy_test, lower, upper))\n",
        "\n",
        "\n",
        "    print_confusion(simple_classifier)\n",
        "    print_confusion_test(simple_classifier)\n",
        "\n",
        "    simple_classifier.printWeights()\n",
        "\n",
        "    return pred_test\n",
        "    "
      ]
    },
    {
      "cell_type": "code",
      "source": [
        ""
      ],
      "metadata": {
        "id": "KPt7STRaevd9"
      },
      "execution_count": 58,
      "outputs": []
    },
    {
      "cell_type": "code",
      "execution_count": 59,
      "metadata": {
        "id": "AU4ZHrkuaN5x",
        "outputId": "40400e6b-a480-4e20-db6f-5250ee32261d",
        "colab": {
          "base_uri": "https://localhost:8080/",
          "height": 1000
        }
      },
      "outputs": [
        {
          "output_type": "stream",
          "name": "stdout",
          "text": [
            "Dev accuracy for best dev model: 0.750, 95% CIs: [0.690 0.810]\n",
            "\n",
            "Test accuracy for best dev model: 0.755, 95% CIs: [0.690 0.810]\n",
            "\n"
          ]
        },
        {
          "output_type": "stream",
          "name": "stderr",
          "text": [
            "/usr/local/lib/python3.7/dist-packages/sklearn/utils/deprecation.py:87: FutureWarning: Function plot_confusion_matrix is deprecated; Function `plot_confusion_matrix` is deprecated in 1.0 and will be removed in 1.2. Use one of the class methods: ConfusionMatrixDisplay.from_predictions or ConfusionMatrixDisplay.from_estimator.\n",
            "  warnings.warn(msg, category=FutureWarning)\n"
          ]
        },
        {
          "output_type": "display_data",
          "data": {
            "text/plain": [
              "<Figure size 720x720 with 2 Axes>"
            ],
            "image/png": "[encoded data removed]"
          },
          "metadata": {
            "needs_background": "light"
          }
        },
        {
          "output_type": "stream",
          "name": "stderr",
          "text": [
            "/usr/local/lib/python3.7/dist-packages/sklearn/utils/deprecation.py:87: FutureWarning: Function plot_confusion_matrix is deprecated; Function `plot_confusion_matrix` is deprecated in 1.0 and will be removed in 1.2. Use one of the class methods: ConfusionMatrixDisplay.from_predictions or ConfusionMatrixDisplay.from_estimator.\n",
            "  warnings.warn(msg, category=FutureWarning)\n"
          ]
        },
        {
          "output_type": "display_data",
          "data": {
            "text/plain": [
              "<Figure size 720x720 with 2 Axes>"
            ],
            "image/png": "[encoded data removed]"
          },
          "metadata": {
            "needs_background": "light"
          }
        },
        {
          "output_type": "stream",
          "name": "stdout",
          "text": [
            "Agreement\t0.218\tother\n",
            "Agreement\t0.217\tthat\n",
            "Agreement\t0.198\tif\n",
            "Agreement\t0.197\t&\n",
            "Agreement\t0.196\t%\n",
            "Agreement\t0.175\tleast\n",
            "Agreement\t0.164\tget\n",
            "Agreement\t0.164\tbefore\n",
            "Agreement\t0.159\t'd\n",
            "Agreement\t0.158\t3\n",
            "\n",
            "Disagreement\t0.321\tn't\n",
            "Disagreement\t0.288\ti\n",
            "Disagreement\t0.284\t?\n",
            "Disagreement\t0.266\tactually\n",
            "Disagreement\t0.233\tthis\n",
            "Disagreement\t0.217\tgraph\n",
            "Disagreement\t0.206\tsay\n",
            "Disagreement\t0.187\tsure\n",
            "Disagreement\t0.184\tsimply\n",
            "Disagreement\t0.182\tme\n",
            "\n",
            "Neutral\t0.389\tand\n",
            "Neutral\t0.293\tabstract\n",
            "Neutral\t0.252\twe\n",
            "Neutral\t0.221\tcovid-19\n",
            "Neutral\t0.216\tour\n",
            "Neutral\t0.200\tby\n",
            "Neutral\t0.178\t(\n",
            "Neutral\t0.175\t)\n",
            "Neutral\t0.166\t.\n",
            "Neutral\t0.162\thas\n",
            "\n"
          ]
        }
      ],
      "source": [
        "# trainingFile = directory + \"train.txt\" \n",
        "# devFile = directory + \"dev.txt\" \n",
        "# testFile = directory + \"test.txt\"\n",
        "    \n",
        "df = run(trainingFile, devFile, testFile)\n"
      ]
    },
    {
      "cell_type": "code",
      "source": [
        "devX, devY=load_data(devFile)"
      ],
      "metadata": {
        "id": "z_wO2XO7u00l"
      },
      "execution_count": 65,
      "outputs": []
    },
    {
      "cell_type": "code",
      "source": [
        "df['actual'].value_counts()"
      ],
      "metadata": {
        "id": "ynW2E0_7umoF",
        "outputId": "b86a6845-62d3-45ee-8986-7a5934f9ee0f",
        "colab": {
          "base_uri": "https://localhost:8080/"
        }
      },
      "execution_count": 61,
      "outputs": [
        {
          "output_type": "execute_result",
          "data": {
            "text/plain": [
              "Agreement       152\n",
              "Disagreement     36\n",
              "Neutral          12\n",
              "Name: actual, dtype: int64"
            ]
          },
          "metadata": {},
          "execution_count": 61
        }
      ]
    },
    {
      "cell_type": "code",
      "source": [
        "df['preds'].value_counts()"
      ],
      "metadata": {
        "id": "M-2k-CX8uscH",
        "outputId": "6a81f364-a8ee-4b06-87bc-09b1bf9e251c",
        "colab": {
          "base_uri": "https://localhost:8080/"
        }
      },
      "execution_count": 62,
      "outputs": [
        {
          "output_type": "execute_result",
          "data": {
            "text/plain": [
              "Agreement       190\n",
              "Disagreement      6\n",
              "Neutral           4\n",
              "Name: preds, dtype: int64"
            ]
          },
          "metadata": {},
          "execution_count": 62
        }
      ]
    },
    {
      "cell_type": "code",
      "source": [
        "df"
      ],
      "metadata": {
        "id": "QGNyOqnCvCw8",
        "outputId": "b00aeb54-739f-43ad-c6d6-027b32b11114",
        "colab": {
          "base_uri": "https://localhost:8080/",
          "height": 423
        }
      },
      "execution_count": 68,
      "outputs": [
        {
          "output_type": "execute_result",
          "data": {
            "text/plain": [
              "           actual      preds\n",
              "0       Agreement  Agreement\n",
              "1       Agreement  Agreement\n",
              "2       Agreement  Agreement\n",
              "3       Agreement  Agreement\n",
              "4       Agreement  Agreement\n",
              "..            ...        ...\n",
              "195     Agreement  Agreement\n",
              "196     Agreement  Agreement\n",
              "197     Agreement  Agreement\n",
              "198     Agreement  Agreement\n",
              "199  Disagreement  Agreement\n",
              "\n",
              "[200 rows x 2 columns]"
            ],
            "text/html": [
              "\n",
              "  <div id=\"df-a6b5305a-7c1c-4918-84e5-f57fa7aaa9e5\">\n",
              "    <div class=\"colab-df-container\">\n",
              "      <div>\n",
              "<style scoped>\n",
              "    .dataframe tbody tr th:only-of-type {\n",
              "        vertical-align: middle;\n",
              "    }\n",
              "\n",
              "    .dataframe tbody tr th {\n",
              "        vertical-align: top;\n",
              "    }\n",
              "\n",
              "    .dataframe thead th {\n",
              "        text-align: right;\n",
              "    }\n",
              "</style>\n",
              "<table border=\"1\" class=\"dataframe\">\n",
              "  <thead>\n",
              "    <tr style=\"text-align: right;\">\n",
              "      <th></th>\n",
              "      <th>actual</th>\n",
              "      <th>preds</th>\n",
              "    </tr>\n",
              "  </thead>\n",
              "  <tbody>\n",
              "    <tr>\n",
              "      <th>0</th>\n",
              "      <td>Agreement</td>\n",
              "      <td>Agreement</td>\n",
              "    </tr>\n",
              "    <tr>\n",
              "      <th>1</th>\n",
              "      <td>Agreement</td>\n",
              "      <td>Agreement</td>\n",
              "    </tr>\n",
              "    <tr>\n",
              "      <th>2</th>\n",
              "      <td>Agreement</td>\n",
              "      <td>Agreement</td>\n",
              "    </tr>\n",
              "    <tr>\n",
              "      <th>3</th>\n",
              "      <td>Agreement</td>\n",
              "      <td>Agreement</td>\n",
              "    </tr>\n",
              "    <tr>\n",
              "      <th>4</th>\n",
              "      <td>Agreement</td>\n",
              "      <td>Agreement</td>\n",
              "    </tr>\n",
              "    <tr>\n",
              "      <th>...</th>\n",
              "      <td>...</td>\n",
              "      <td>...</td>\n",
              "    </tr>\n",
              "    <tr>\n",
              "      <th>195</th>\n",
              "      <td>Agreement</td>\n",
              "      <td>Agreement</td>\n",
              "    </tr>\n",
              "    <tr>\n",
              "      <th>196</th>\n",
              "      <td>Agreement</td>\n",
              "      <td>Agreement</td>\n",
              "    </tr>\n",
              "    <tr>\n",
              "      <th>197</th>\n",
              "      <td>Agreement</td>\n",
              "      <td>Agreement</td>\n",
              "    </tr>\n",
              "    <tr>\n",
              "      <th>198</th>\n",
              "      <td>Agreement</td>\n",
              "      <td>Agreement</td>\n",
              "    </tr>\n",
              "    <tr>\n",
              "      <th>199</th>\n",
              "      <td>Disagreement</td>\n",
              "      <td>Agreement</td>\n",
              "    </tr>\n",
              "  </tbody>\n",
              "</table>\n",
              "<p>200 rows × 2 columns</p>\n",
              "</div>\n",
              "      <button class=\"colab-df-convert\" onclick=\"convertToInteractive('df-a6b5305a-7c1c-4918-84e5-f57fa7aaa9e5')\"\n",
              "              title=\"Convert this dataframe to an interactive table.\"\n",
              "              style=\"display:none;\">\n",
              "        \n",
              "  <svg xmlns=\"http://www.w3.org/2000/svg\" height=\"24px\"viewBox=\"0 0 24 24\"\n",
              "       width=\"24px\">\n",
              "    <path d=\"M0 0h24v24H0V0z\" fill=\"none\"/>\n",
              "    <path d=\"M18.56 5.44l.94 2.06.94-2.06 2.06-.94-2.06-.94-.94-2.06-.94 2.06-2.06.94zm-11 1L8.5 8.5l.94-2.06 2.06-.94-2.06-.94L8.5 2.5l-.94 2.06-2.06.94zm10 10l.94 2.06.94-2.06 2.06-.94-2.06-.94-.94-2.06-.94 2.06-2.06.94z\"/><path d=\"M17.41 7.96l-1.37-1.37c-.4-.4-.92-.59-1.43-.59-.52 0-1.04.2-1.43.59L10.3 9.45l-7.72 7.72c-.78.78-.78 2.05 0 2.83L4 21.41c.39.39.9.59 1.41.59.51 0 1.02-.2 1.41-.59l7.78-7.78 2.81-2.81c.8-.78.8-2.07 0-2.86zM5.41 20L4 18.59l7.72-7.72 1.47 1.35L5.41 20z\"/>\n",
              "  </svg>\n",
              "      </button>\n",
              "      \n",
              "  <style>\n",
              "    .colab-df-container {\n",
              "      display:flex;\n",
              "      flex-wrap:wrap;\n",
              "      gap: 12px;\n",
              "    }\n",
              "\n",
              "    .colab-df-convert {\n",
              "      background-color: #E8F0FE;\n",
              "      border: none;\n",
              "      border-radius: 50%;\n",
              "      cursor: pointer;\n",
              "      display: none;\n",
              "      fill: #1967D2;\n",
              "      height: 32px;\n",
              "      padding: 0 0 0 0;\n",
              "      width: 32px;\n",
              "    }\n",
              "\n",
              "    .colab-df-convert:hover {\n",
              "      background-color: #E2EBFA;\n",
              "      box-shadow: 0px 1px 2px rgba(60, 64, 67, 0.3), 0px 1px 3px 1px rgba(60, 64, 67, 0.15);\n",
              "      fill: #174EA6;\n",
              "    }\n",
              "\n",
              "    [theme=dark] .colab-df-convert {\n",
              "      background-color: #3B4455;\n",
              "      fill: #D2E3FC;\n",
              "    }\n",
              "\n",
              "    [theme=dark] .colab-df-convert:hover {\n",
              "      background-color: #434B5C;\n",
              "      box-shadow: 0px 1px 3px 1px rgba(0, 0, 0, 0.15);\n",
              "      filter: drop-shadow(0px 1px 2px rgba(0, 0, 0, 0.3));\n",
              "      fill: #FFFFFF;\n",
              "    }\n",
              "  </style>\n",
              "\n",
              "      <script>\n",
              "        const buttonEl =\n",
              "          document.querySelector('#df-a6b5305a-7c1c-4918-84e5-f57fa7aaa9e5 button.colab-df-convert');\n",
              "        buttonEl.style.display =\n",
              "          google.colab.kernel.accessAllowed ? 'block' : 'none';\n",
              "\n",
              "        async function convertToInteractive(key) {\n",
              "          const element = document.querySelector('#df-a6b5305a-7c1c-4918-84e5-f57fa7aaa9e5');\n",
              "          const dataTable =\n",
              "            await google.colab.kernel.invokeFunction('convertToInteractive',\n",
              "                                                     [key], {});\n",
              "          if (!dataTable) return;\n",
              "\n",
              "          const docLinkHtml = 'Like what you see? Visit the ' +\n",
              "            '<a target=\"_blank\" href=https://colab.research.google.com/notebooks/data_table.ipynb>data table notebook</a>'\n",
              "            + ' to learn more about interactive tables.';\n",
              "          element.innerHTML = '';\n",
              "          dataTable['output_type'] = 'display_data';\n",
              "          await google.colab.output.renderOutput(dataTable, element);\n",
              "          const docLink = document.createElement('div');\n",
              "          docLink.innerHTML = docLinkHtml;\n",
              "          element.appendChild(docLink);\n",
              "        }\n",
              "      </script>\n",
              "    </div>\n",
              "  </div>\n",
              "  "
            ]
          },
          "metadata": {},
          "execution_count": 68
        }
      ]
    },
    {
      "cell_type": "code",
      "source": [
        "df['text'] = devX"
      ],
      "metadata": {
        "id": "0nhZDNv6vFne"
      },
      "execution_count": 69,
      "outputs": []
    },
    {
      "cell_type": "code",
      "source": [
        "df"
      ],
      "metadata": {
        "id": "5E2AxY-5vKt1",
        "outputId": "9d8f5947-0ae8-4e75-af53-633fed911135",
        "colab": {
          "base_uri": "https://localhost:8080/",
          "height": 423
        }
      },
      "execution_count": 70,
      "outputs": [
        {
          "output_type": "execute_result",
          "data": {
            "text/plain": [
              "           actual      preds  \\\n",
              "0       Agreement  Agreement   \n",
              "1       Agreement  Agreement   \n",
              "2       Agreement  Agreement   \n",
              "3       Agreement  Agreement   \n",
              "4       Agreement  Agreement   \n",
              "..            ...        ...   \n",
              "195     Agreement  Agreement   \n",
              "196     Agreement  Agreement   \n",
              "197     Agreement  Agreement   \n",
              "198     Agreement  Agreement   \n",
              "199  Disagreement  Agreement   \n",
              "\n",
              "                                                  text  \n",
              "0    OP, making this vaccine is most likely a waste...  \n",
              "1    Note that the \"fully vaccinated\" group include...  \n",
              "2    thats not clear, IMO mainly cause the mechanis...  \n",
              "3    Also, like with the Norway cluster, they all e...  \n",
              "4    Assuming it is true that mRNA vaccines have a ...  \n",
              "..                                                 ...  \n",
              "195  Great, now the CDC need to wake up and use the...  \n",
              "196  Does anyone know where Novavax is on trials fo...  \n",
              "197  I can't download the study for some reason but...  \n",
              "198  Alright, what's the protection against severe ...  \n",
              "199  The study has a low number of samples n=8 if i...  \n",
              "\n",
              "[200 rows x 3 columns]"
            ],
            "text/html": [
              "\n",
              "  <div id=\"df-7f703efc-9bbf-428f-9d89-a03b0714b17d\">\n",
              "    <div class=\"colab-df-container\">\n",
              "      <div>\n",
              "<style scoped>\n",
              "    .dataframe tbody tr th:only-of-type {\n",
              "        vertical-align: middle;\n",
              "    }\n",
              "\n",
              "    .dataframe tbody tr th {\n",
              "        vertical-align: top;\n",
              "    }\n",
              "\n",
              "    .dataframe thead th {\n",
              "        text-align: right;\n",
              "    }\n",
              "</style>\n",
              "<table border=\"1\" class=\"dataframe\">\n",
              "  <thead>\n",
              "    <tr style=\"text-align: right;\">\n",
              "      <th></th>\n",
              "      <th>actual</th>\n",
              "      <th>preds</th>\n",
              "      <th>text</th>\n",
              "    </tr>\n",
              "  </thead>\n",
              "  <tbody>\n",
              "    <tr>\n",
              "      <th>0</th>\n",
              "      <td>Agreement</td>\n",
              "      <td>Agreement</td>\n",
              "      <td>OP, making this vaccine is most likely a waste...</td>\n",
              "    </tr>\n",
              "    <tr>\n",
              "      <th>1</th>\n",
              "      <td>Agreement</td>\n",
              "      <td>Agreement</td>\n",
              "      <td>Note that the \"fully vaccinated\" group include...</td>\n",
              "    </tr>\n",
              "    <tr>\n",
              "      <th>2</th>\n",
              "      <td>Agreement</td>\n",
              "      <td>Agreement</td>\n",
              "      <td>thats not clear, IMO mainly cause the mechanis...</td>\n",
              "    </tr>\n",
              "    <tr>\n",
              "      <th>3</th>\n",
              "      <td>Agreement</td>\n",
              "      <td>Agreement</td>\n",
              "      <td>Also, like with the Norway cluster, they all e...</td>\n",
              "    </tr>\n",
              "    <tr>\n",
              "      <th>4</th>\n",
              "      <td>Agreement</td>\n",
              "      <td>Agreement</td>\n",
              "      <td>Assuming it is true that mRNA vaccines have a ...</td>\n",
              "    </tr>\n",
              "    <tr>\n",
              "      <th>...</th>\n",
              "      <td>...</td>\n",
              "      <td>...</td>\n",
              "      <td>...</td>\n",
              "    </tr>\n",
              "    <tr>\n",
              "      <th>195</th>\n",
              "      <td>Agreement</td>\n",
              "      <td>Agreement</td>\n",
              "      <td>Great, now the CDC need to wake up and use the...</td>\n",
              "    </tr>\n",
              "    <tr>\n",
              "      <th>196</th>\n",
              "      <td>Agreement</td>\n",
              "      <td>Agreement</td>\n",
              "      <td>Does anyone know where Novavax is on trials fo...</td>\n",
              "    </tr>\n",
              "    <tr>\n",
              "      <th>197</th>\n",
              "      <td>Agreement</td>\n",
              "      <td>Agreement</td>\n",
              "      <td>I can't download the study for some reason but...</td>\n",
              "    </tr>\n",
              "    <tr>\n",
              "      <th>198</th>\n",
              "      <td>Agreement</td>\n",
              "      <td>Agreement</td>\n",
              "      <td>Alright, what's the protection against severe ...</td>\n",
              "    </tr>\n",
              "    <tr>\n",
              "      <th>199</th>\n",
              "      <td>Disagreement</td>\n",
              "      <td>Agreement</td>\n",
              "      <td>The study has a low number of samples n=8 if i...</td>\n",
              "    </tr>\n",
              "  </tbody>\n",
              "</table>\n",
              "<p>200 rows × 3 columns</p>\n",
              "</div>\n",
              "      <button class=\"colab-df-convert\" onclick=\"convertToInteractive('df-7f703efc-9bbf-428f-9d89-a03b0714b17d')\"\n",
              "              title=\"Convert this dataframe to an interactive table.\"\n",
              "              style=\"display:none;\">\n",
              "        \n",
              "  <svg xmlns=\"http://www.w3.org/2000/svg\" height=\"24px\"viewBox=\"0 0 24 24\"\n",
              "       width=\"24px\">\n",
              "    <path d=\"M0 0h24v24H0V0z\" fill=\"none\"/>\n",
              "    <path d=\"M18.56 5.44l.94 2.06.94-2.06 2.06-.94-2.06-.94-.94-2.06-.94 2.06-2.06.94zm-11 1L8.5 8.5l.94-2.06 2.06-.94-2.06-.94L8.5 2.5l-.94 2.06-2.06.94zm10 10l.94 2.06.94-2.06 2.06-.94-2.06-.94-.94-2.06-.94 2.06-2.06.94z\"/><path d=\"M17.41 7.96l-1.37-1.37c-.4-.4-.92-.59-1.43-.59-.52 0-1.04.2-1.43.59L10.3 9.45l-7.72 7.72c-.78.78-.78 2.05 0 2.83L4 21.41c.39.39.9.59 1.41.59.51 0 1.02-.2 1.41-.59l7.78-7.78 2.81-2.81c.8-.78.8-2.07 0-2.86zM5.41 20L4 18.59l7.72-7.72 1.47 1.35L5.41 20z\"/>\n",
              "  </svg>\n",
              "      </button>\n",
              "      \n",
              "  <style>\n",
              "    .colab-df-container {\n",
              "      display:flex;\n",
              "      flex-wrap:wrap;\n",
              "      gap: 12px;\n",
              "    }\n",
              "\n",
              "    .colab-df-convert {\n",
              "      background-color: #E8F0FE;\n",
              "      border: none;\n",
              "      border-radius: 50%;\n",
              "      cursor: pointer;\n",
              "      display: none;\n",
              "      fill: #1967D2;\n",
              "      height: 32px;\n",
              "      padding: 0 0 0 0;\n",
              "      width: 32px;\n",
              "    }\n",
              "\n",
              "    .colab-df-convert:hover {\n",
              "      background-color: #E2EBFA;\n",
              "      box-shadow: 0px 1px 2px rgba(60, 64, 67, 0.3), 0px 1px 3px 1px rgba(60, 64, 67, 0.15);\n",
              "      fill: #174EA6;\n",
              "    }\n",
              "\n",
              "    [theme=dark] .colab-df-convert {\n",
              "      background-color: #3B4455;\n",
              "      fill: #D2E3FC;\n",
              "    }\n",
              "\n",
              "    [theme=dark] .colab-df-convert:hover {\n",
              "      background-color: #434B5C;\n",
              "      box-shadow: 0px 1px 3px 1px rgba(0, 0, 0, 0.15);\n",
              "      filter: drop-shadow(0px 1px 2px rgba(0, 0, 0, 0.3));\n",
              "      fill: #FFFFFF;\n",
              "    }\n",
              "  </style>\n",
              "\n",
              "      <script>\n",
              "        const buttonEl =\n",
              "          document.querySelector('#df-7f703efc-9bbf-428f-9d89-a03b0714b17d button.colab-df-convert');\n",
              "        buttonEl.style.display =\n",
              "          google.colab.kernel.accessAllowed ? 'block' : 'none';\n",
              "\n",
              "        async function convertToInteractive(key) {\n",
              "          const element = document.querySelector('#df-7f703efc-9bbf-428f-9d89-a03b0714b17d');\n",
              "          const dataTable =\n",
              "            await google.colab.kernel.invokeFunction('convertToInteractive',\n",
              "                                                     [key], {});\n",
              "          if (!dataTable) return;\n",
              "\n",
              "          const docLinkHtml = 'Like what you see? Visit the ' +\n",
              "            '<a target=\"_blank\" href=https://colab.research.google.com/notebooks/data_table.ipynb>data table notebook</a>'\n",
              "            + ' to learn more about interactive tables.';\n",
              "          element.innerHTML = '';\n",
              "          dataTable['output_type'] = 'display_data';\n",
              "          await google.colab.output.renderOutput(dataTable, element);\n",
              "          const docLink = document.createElement('div');\n",
              "          docLink.innerHTML = docLinkHtml;\n",
              "          element.appendChild(docLink);\n",
              "        }\n",
              "      </script>\n",
              "    </div>\n",
              "  </div>\n",
              "  "
            ]
          },
          "metadata": {},
          "execution_count": 70
        }
      ]
    },
    {
      "cell_type": "code",
      "source": [
        "df.to_csv(\"iter1.csv\")"
      ],
      "metadata": {
        "id": "LtX33vDbvMgL"
      },
      "execution_count": 74,
      "outputs": []
    },
    {
      "cell_type": "markdown",
      "source": [
        "### After stopword removal"
      ],
      "metadata": {
        "id": "VoMG8nAhrEk8"
      }
    },
    {
      "cell_type": "code",
      "source": [
        "def run(trainingFile, devFile, testFile):\n",
        "    trainX, trainY=load_data(trainingFile)\n",
        "    devX, devY=load_data(devFile)\n",
        "    testX, testY=load_data(testFile)\n",
        "\n",
        "    trainX = list(map(remove_stop_df, trainX))\n",
        "    devX = list(map(remove_stop_df, devX))\n",
        "    testX = list(map(remove_stop_df, testX))\n",
        "\n",
        "    simple_classifier = Classifier(binary_bow_featurize, trainX, trainY, devX, devY, testX, testY)\n",
        "    simple_classifier.train()\n",
        "    accuracy_test=simple_classifier.test()\n",
        "    accuracy_dev=simple_classifier.dev()\n",
        "\n",
        "    \n",
        "    lower, upper=confidence_intervals(accuracy_dev, len(devY), .95)\n",
        "    print(\"Dev accuracy for best dev model: %.3f, 95%% CIs: [%.3f %.3f]\\n\" % (accuracy_dev, lower, upper))\n",
        "    lower, upper=confidence_intervals(accuracy_dev, len(testY), .95)\n",
        "    print(\"Test accuracy for best dev model: %.3f, 95%% CIs: [%.3f %.3f]\\n\" % (accuracy_test, lower, upper))\n",
        "\n",
        "\n",
        "    print_confusion(simple_classifier)\n",
        "    print_confusion_test(simple_classifier)\n",
        "\n",
        "    simple_classifier.printWeights()"
      ],
      "metadata": {
        "id": "sDbmdDLR1hze"
      },
      "execution_count": 13,
      "outputs": []
    },
    {
      "cell_type": "code",
      "source": [
        "run(trainingFile, devFile, testFile)\n"
      ],
      "metadata": {
        "colab": {
          "base_uri": "https://localhost:8080/",
          "height": 0
        },
        "id": "HjgPZbsH1sbe",
        "outputId": "c76de4f2-bf27-4414-c486-f358708f1680"
      },
      "execution_count": 14,
      "outputs": [
        {
          "output_type": "stream",
          "name": "stdout",
          "text": [
            "Dev accuracy for best dev model: 0.740, 95% CIs: [0.679 0.801]\n",
            "\n",
            "Test accuracy for best dev model: 0.765, 95% CIs: [0.679 0.801]\n",
            "\n"
          ]
        },
        {
          "output_type": "stream",
          "name": "stderr",
          "text": [
            "/usr/local/lib/python3.7/dist-packages/sklearn/utils/deprecation.py:87: FutureWarning: Function plot_confusion_matrix is deprecated; Function `plot_confusion_matrix` is deprecated in 1.0 and will be removed in 1.2. Use one of the class methods: ConfusionMatrixDisplay.from_predictions or ConfusionMatrixDisplay.from_estimator.\n",
            "  warnings.warn(msg, category=FutureWarning)\n"
          ]
        },
        {
          "output_type": "display_data",
          "data": {
            "text/plain": [
              "<Figure size 720x720 with 2 Axes>"
            ],
            "image/png": "[encoded data removed]"
          },
          "metadata": {
            "needs_background": "light"
          }
        },
        {
          "output_type": "stream",
          "name": "stderr",
          "text": [
            "/usr/local/lib/python3.7/dist-packages/sklearn/utils/deprecation.py:87: FutureWarning: Function plot_confusion_matrix is deprecated; Function `plot_confusion_matrix` is deprecated in 1.0 and will be removed in 1.2. Use one of the class methods: ConfusionMatrixDisplay.from_predictions or ConfusionMatrixDisplay.from_estimator.\n",
            "  warnings.warn(msg, category=FutureWarning)\n"
          ]
        },
        {
          "output_type": "display_data",
          "data": {
            "text/plain": [
              "<Figure size 720x720 with 2 Axes>"
            ],
            "image/png": "[encoded data removed]"
          },
          "metadata": {
            "needs_background": "light"
          }
        },
        {
          "output_type": "stream",
          "name": "stdout",
          "text": [
            "Agreement\t0.218\t&\n",
            "Agreement\t0.188\t%\n",
            "Agreement\t0.179\tleast\n",
            "Agreement\t0.175\tget\n",
            "Agreement\t0.175\t?\n",
            "Agreement\t0.175\tinfections\n",
            "Agreement\t0.154\tsimilar\n",
            "Agreement\t0.152\tshowed\n",
            "Agreement\t0.151\t3\n",
            "Agreement\t0.151\tsymptoms\n",
            "\n",
            "Disagreement\t0.331\tn't\n",
            "Disagreement\t0.310\t?\n",
            "Disagreement\t0.292\tactually\n",
            "Disagreement\t0.241\tgoing\n",
            "Disagreement\t0.227\tsay\n",
            "Disagreement\t0.223\tsure\n",
            "Disagreement\t0.218\tgraph\n",
            "Disagreement\t0.191\tsimply\n",
            "Disagreement\t0.184\tspikes\n",
            "Disagreement\t0.184\tcertain\n",
            "\n",
            "Neutral\t0.342\tabstract\n",
            "Neutral\t0.264\tcovid-19\n",
            "Neutral\t0.197\t(\n",
            "Neutral\t0.193\t)\n",
            "Neutral\t0.192\tpandemic\n",
            "Neutral\t0.186\t.\n",
            "Neutral\t0.186\tvaccine\n",
            "Neutral\t0.174\tsars-cov-2\n",
            "Neutral\t0.159\tb\n",
            "Neutral\t0.146\tmaturation\n",
            "\n"
          ]
        }
      ]
    },
    {
      "cell_type": "markdown",
      "source": [
        "### finding counts"
      ],
      "metadata": {
        "id": "w_4Rn1A-4I_L"
      }
    },
    {
      "cell_type": "code",
      "source": [
        "# importing Counter module\n",
        "from collections import Counter"
      ],
      "metadata": {
        "id": "WHEkOdtA2shN"
      },
      "execution_count": 15,
      "outputs": []
    },
    {
      "cell_type": "code",
      "source": [
        "trainX, trainY=load_data(trainingFile)\n",
        "\n",
        "devX, devY=load_data(devFile)\n",
        "testX, testY=load_data(testFile)\n",
        "print(\"On Train:\",Counter(trainY))\n",
        "print(\"On Dev:\",Counter(devY))\n",
        "print(\"On Test :\",Counter(testY))"
      ],
      "metadata": {
        "colab": {
          "base_uri": "https://localhost:8080/"
        },
        "id": "cN0pyrUE2_f0",
        "outputId": "b1929bcf-645b-47c6-ed75-212c4d6d5874"
      },
      "execution_count": 16,
      "outputs": [
        {
          "output_type": "stream",
          "name": "stdout",
          "text": [
            "On Train: Counter({'Agreement': 442, 'Disagreement': 109, 'Neutral': 49})\n",
            "On Dev: Counter({'Agreement': 152, 'Disagreement': 36, 'Neutral': 12})\n",
            "On Test : Counter({'Agreement': 151, 'Disagreement': 29, 'Neutral': 20})\n"
          ]
        }
      ]
    },
    {
      "cell_type": "markdown",
      "source": [
        "### unigram features"
      ],
      "metadata": {
        "id": "D3MLbXIv37nH"
      }
    },
    {
      "cell_type": "code",
      "source": [
        "agreement_words = ['yes','yeah','absolutely']\n",
        "diagree_words = [\"no\",\"only\",\"garbage\",\"wrong\"]\n",
        "neutral_words = ['should','probably']"
      ],
      "metadata": {
        "id": "4gDTiWkeNkYL"
      },
      "execution_count": 17,
      "outputs": []
    },
    {
      "cell_type": "code",
      "source": [
        "def unigram_featurize(text):\n",
        "    feats = {}\n",
        "    words = nltk.word_tokenize(text)\n",
        "\n",
        "    for word in words:\n",
        "        word=word.lower()\n",
        "\n",
        "        if word in agreement_words: \n",
        "            feats[\"contains_agreement_word\"] = 1\n",
        "        if word in diagree_words:\n",
        "            feats[\"contains_diagree_word\"] = 1\n",
        "        if word in neutral_words:\n",
        "            feats[\"contains_neutral_word\"] = 1\n",
        "        \n",
        "            \n",
        "    return feats"
      ],
      "metadata": {
        "id": "xmRM4TIk4gc-"
      },
      "execution_count": 18,
      "outputs": []
    },
    {
      "cell_type": "code",
      "source": [
        "def run_feature1(trainingFile, devFile, testFile):\n",
        "    trainX, trainY=load_data(trainingFile)\n",
        "    devX, devY=load_data(devFile)\n",
        "    testX, testY=load_data(testFile)\n",
        "\n",
        "    trainX = list(map(remove_stop_df, trainX))\n",
        "    devX = list(map(remove_stop_df, devX))\n",
        "    testX = list(map(remove_stop_df, testX))\n",
        "\n",
        "    simple_classifier = Classifier(unigram_featurize, trainX, trainY, devX, devY, testX, testY)\n",
        "    simple_classifier.train()\n",
        "    accuracy=simple_classifier.test()\n",
        "\n",
        "    print_confusion(simple_classifier)\n",
        "\n",
        "    \n",
        "    lower, upper=confidence_intervals(accuracy, len(devY), .95)\n",
        "    print(\"Test accuracy for best dev model: %.3f, 95%% CIs: [%.3f %.3f]\\n\" % (accuracy, lower, upper))\n",
        "\n",
        "    simple_classifier.printWeights()"
      ],
      "metadata": {
        "id": "Nzu46UK564HR"
      },
      "execution_count": 19,
      "outputs": []
    },
    {
      "cell_type": "code",
      "source": [
        "run_feature1(trainingFile, devFile, testFile)\n"
      ],
      "metadata": {
        "colab": {
          "base_uri": "https://localhost:8080/",
          "height": 0
        },
        "id": "el6G7oI_OfmJ",
        "outputId": "a8956dc6-98bc-4b95-b562-1c9580c2df10"
      },
      "execution_count": 20,
      "outputs": [
        {
          "output_type": "stream",
          "name": "stderr",
          "text": [
            "/usr/local/lib/python3.7/dist-packages/sklearn/utils/deprecation.py:87: FutureWarning: Function plot_confusion_matrix is deprecated; Function `plot_confusion_matrix` is deprecated in 1.0 and will be removed in 1.2. Use one of the class methods: ConfusionMatrixDisplay.from_predictions or ConfusionMatrixDisplay.from_estimator.\n",
            "  warnings.warn(msg, category=FutureWarning)\n"
          ]
        },
        {
          "output_type": "display_data",
          "data": {
            "text/plain": [
              "<Figure size 720x720 with 2 Axes>"
            ],
            "image/png": "[encoded data removed]"
          },
          "metadata": {
            "needs_background": "light"
          }
        },
        {
          "output_type": "stream",
          "name": "stdout",
          "text": [
            "Test accuracy for best dev model: 0.755, 95% CIs: [0.695 0.815]\n",
            "\n",
            "Agreement\t0.168\tcontains_agreement_word\n",
            "Agreement\t0.075\tcontains_neutral_word\n",
            "Agreement\t-0.032\tcontains_diagree_word\n",
            "\n",
            "Disagreement\t0.079\tcontains_diagree_word\n",
            "Disagreement\t-0.035\tcontains_neutral_word\n",
            "Disagreement\t-0.090\tcontains_agreement_word\n",
            "\n",
            "Neutral\t-0.040\tcontains_neutral_word\n",
            "Neutral\t-0.048\tcontains_diagree_word\n",
            "Neutral\t-0.078\tcontains_agreement_word\n",
            "\n"
          ]
        }
      ]
    },
    {
      "cell_type": "code",
      "source": [
        ""
      ],
      "metadata": {
        "id": "LdcvAgR-YCNS"
      },
      "execution_count": 20,
      "outputs": []
    },
    {
      "cell_type": "markdown",
      "source": [
        "###Bigram Features"
      ],
      "metadata": {
        "id": "mu_AzxfvX46Y"
      }
    },
    {
      "cell_type": "code",
      "source": [
        "agreement_bigram = ['i agree','great point','good point','great comment']\n",
        "diagree_bigram = [\"so this\",\"is that\",\"i don't\", \"not exactly\"]\n",
        "# neutral_bigram = ['should','probably']\n"
      ],
      "metadata": {
        "id": "Cw8J_f4uYi25"
      },
      "execution_count": 21,
      "outputs": []
    },
    {
      "cell_type": "code",
      "source": [
        "def bigram_featurize(text):\n",
        "    feats = {}\n",
        "    tokens = nltk.word_tokenize(text)\n",
        "\n",
        "    # lower each token\n",
        "    token_lower = [token.lower() for token in tokens]\n",
        "\n",
        "    bigram = list(ngrams(token_lower, 2))\n",
        "\n",
        "    # separate each bigram with space\n",
        "    for bi in bigram:\n",
        "      joined_w = \" \".join(bi)\n",
        "      if joined_w in agreement_bigram:\n",
        "        print(joined_w)\n",
        "        feats[\"contains_agreement_bigram\"] = 1\n",
        "      if joined_w in diagree_bigram:\n",
        "        print(joined_w)\n",
        "        feats[\"contains_diagree_bigram\"] = 1\n",
        "      # if joined_w in neutral_bigram:\n",
        "      #   feats[\"contains_neutral_bigram\"] = 1\n",
        "            \n",
        "    return feats"
      ],
      "metadata": {
        "id": "6-koT-xRYCq8"
      },
      "execution_count": 22,
      "outputs": []
    },
    {
      "cell_type": "code",
      "source": [
        "def run_feature2(trainingFile, devFile, testFile):\n",
        "    trainX, trainY=load_data(trainingFile)\n",
        "    devX, devY=load_data(devFile)\n",
        "    testX, testY=load_data(testFile)\n",
        "\n",
        "    trainX = list(map(remove_stop_df, trainX))\n",
        "    devX = list(map(remove_stop_df, devX))\n",
        "    testX = list(map(remove_stop_df, testX))\n",
        "\n",
        "    simple_classifier = Classifier(bigram_featurize, trainX, trainY, devX, devY, testX, testY)\n",
        "    simple_classifier.train()\n",
        "    accuracy=simple_classifier.test()\n",
        "\n",
        "    print_confusion(simple_classifier)\n",
        "\n",
        "    \n",
        "    lower, upper=confidence_intervals(accuracy, len(devY), .95)\n",
        "    print(\"Test accuracy for best dev model: %.3f, 95%% CIs: [%.3f %.3f]\\n\" % (accuracy, lower, upper))\n",
        "\n",
        "    simple_classifier.printWeights()"
      ],
      "metadata": {
        "id": "1Ggdfxs8YL7b"
      },
      "execution_count": 23,
      "outputs": []
    },
    {
      "cell_type": "code",
      "source": [
        "run_feature2(trainingFile, devFile, testFile)\n"
      ],
      "metadata": {
        "colab": {
          "base_uri": "https://localhost:8080/",
          "height": 0
        },
        "id": "rvaaGfCzeh4w",
        "outputId": "d7a1ef7e-d39e-4e42-e50e-09e22015f701"
      },
      "execution_count": 24,
      "outputs": [
        {
          "output_type": "stream",
          "name": "stdout",
          "text": [
            "good point\n",
            "great comment\n",
            "good point\n",
            "good point\n"
          ]
        },
        {
          "output_type": "stream",
          "name": "stderr",
          "text": [
            "/usr/local/lib/python3.7/dist-packages/sklearn/utils/deprecation.py:87: FutureWarning: Function plot_confusion_matrix is deprecated; Function `plot_confusion_matrix` is deprecated in 1.0 and will be removed in 1.2. Use one of the class methods: ConfusionMatrixDisplay.from_predictions or ConfusionMatrixDisplay.from_estimator.\n",
            "  warnings.warn(msg, category=FutureWarning)\n"
          ]
        },
        {
          "output_type": "display_data",
          "data": {
            "text/plain": [
              "<Figure size 720x720 with 2 Axes>"
            ],
            "image/png": "[encoded data removed]"
          },
          "metadata": {
            "needs_background": "light"
          }
        },
        {
          "output_type": "stream",
          "name": "stdout",
          "text": [
            "Test accuracy for best dev model: 0.755, 95% CIs: [0.695 0.815]\n",
            "\n",
            "Agreement\t0.050\tcontains_agreement_bigram\n",
            "\n",
            "Disagreement\t-0.034\tcontains_agreement_bigram\n",
            "\n",
            "Neutral\t-0.016\tcontains_agreement_bigram\n",
            "\n"
          ]
        }
      ]
    },
    {
      "cell_type": "markdown",
      "source": [
        "### Combined features - BOW + Unigram"
      ],
      "metadata": {
        "id": "o4TmpZlSOjx1"
      }
    },
    {
      "cell_type": "code",
      "source": [
        "def combiner_function(text):\n",
        "\n",
        "    # Here the `all_feats` dict should contain the features -- the key should be the feature name, \n",
        "    # and the value is the feature value.  See `simple_featurize` for an example.\n",
        "    \n",
        "  all_feats={}\n",
        "  for feature in [binary_bow_featurize, unigram_featurize]:\n",
        "    all_feats.update(feature(text))\n",
        "  return all_feats"
      ],
      "metadata": {
        "id": "IddcYktSXDRi"
      },
      "execution_count": 25,
      "outputs": []
    },
    {
      "cell_type": "code",
      "source": [
        "def run_combined(trainingFile, devFile, testFile):\n",
        "    trainX, trainY=load_data(trainingFile)\n",
        "    devX, devY=load_data(devFile)\n",
        "    testX, testY=load_data(testFile)\n",
        "\n",
        "    trainX = list(map(remove_stop_df, trainX))\n",
        "    devX = list(map(remove_stop_df, devX))\n",
        "    testX = list(map(remove_stop_df, testX))\n",
        "\n",
        "    simple_classifier = Classifier(combiner_function, trainX, trainY, devX, devY, testX, testY)\n",
        "    simple_classifier.train()\n",
        "    accuracy_test=simple_classifier.test()\n",
        "    accuracy_dev=simple_classifier.dev()\n",
        "\n",
        "    \n",
        "    lower, upper=confidence_intervals(accuracy_dev, len(devY), .95)\n",
        "    print(\"Dev accuracy for best dev model: %.3f, 95%% CIs: [%.3f %.3f]\\n\" % (accuracy_dev, lower, upper))\n",
        "    lower, upper=confidence_intervals(accuracy_dev, len(testY), .95)\n",
        "    print(\"Test accuracy for best dev model: %.3f, 95%% CIs: [%.3f %.3f]\\n\" % (accuracy_test, lower, upper))\n",
        "\n",
        "    print_confusion(simple_classifier)\n",
        "    print_confusion_test(simple_classifier)\n",
        "\n",
        "    simple_classifier.printWeights()"
      ],
      "metadata": {
        "id": "ECUZed6kXth1"
      },
      "execution_count": 26,
      "outputs": []
    },
    {
      "cell_type": "code",
      "source": [
        "run_combined(trainingFile, devFile, testFile)\n"
      ],
      "metadata": {
        "colab": {
          "base_uri": "https://localhost:8080/",
          "height": 0
        },
        "id": "OE5VanfHXxrG",
        "outputId": "22ccea1a-8fd7-445f-c9c5-b5e99d3f7a12"
      },
      "execution_count": 27,
      "outputs": [
        {
          "output_type": "stream",
          "name": "stdout",
          "text": [
            "Dev accuracy for best dev model: 0.740, 95% CIs: [0.679 0.801]\n",
            "\n",
            "Test accuracy for best dev model: 0.765, 95% CIs: [0.679 0.801]\n",
            "\n"
          ]
        },
        {
          "output_type": "stream",
          "name": "stderr",
          "text": [
            "/usr/local/lib/python3.7/dist-packages/sklearn/utils/deprecation.py:87: FutureWarning: Function plot_confusion_matrix is deprecated; Function `plot_confusion_matrix` is deprecated in 1.0 and will be removed in 1.2. Use one of the class methods: ConfusionMatrixDisplay.from_predictions or ConfusionMatrixDisplay.from_estimator.\n",
            "  warnings.warn(msg, category=FutureWarning)\n"
          ]
        },
        {
          "output_type": "display_data",
          "data": {
            "text/plain": [
              "<Figure size 720x720 with 2 Axes>"
            ],
            "image/png": "[encoded data removed]"
          },
          "metadata": {
            "needs_background": "light"
          }
        },
        {
          "output_type": "stream",
          "name": "stderr",
          "text": [
            "/usr/local/lib/python3.7/dist-packages/sklearn/utils/deprecation.py:87: FutureWarning: Function plot_confusion_matrix is deprecated; Function `plot_confusion_matrix` is deprecated in 1.0 and will be removed in 1.2. Use one of the class methods: ConfusionMatrixDisplay.from_predictions or ConfusionMatrixDisplay.from_estimator.\n",
            "  warnings.warn(msg, category=FutureWarning)\n"
          ]
        },
        {
          "output_type": "display_data",
          "data": {
            "text/plain": [
              "<Figure size 720x720 with 2 Axes>"
            ],
            "image/png": "[encoded data removed]"
          },
          "metadata": {
            "needs_background": "light"
          }
        },
        {
          "output_type": "stream",
          "name": "stdout",
          "text": [
            "Agreement\t0.218\t&\n",
            "Agreement\t0.189\t%\n",
            "Agreement\t0.179\tleast\n",
            "Agreement\t0.177\t?\n",
            "Agreement\t0.176\tinfections\n",
            "Agreement\t0.174\tget\n",
            "Agreement\t0.153\tsimilar\n",
            "Agreement\t0.153\tshowed\n",
            "Agreement\t0.152\t3\n",
            "Agreement\t0.150\tsymptoms\n",
            "\n",
            "Disagreement\t0.330\tn't\n",
            "Disagreement\t0.309\t?\n",
            "Disagreement\t0.292\tactually\n",
            "Disagreement\t0.243\tgoing\n",
            "Disagreement\t0.226\tsay\n",
            "Disagreement\t0.223\tsure\n",
            "Disagreement\t0.218\tgraph\n",
            "Disagreement\t0.191\tsimply\n",
            "Disagreement\t0.184\tspikes\n",
            "Disagreement\t0.184\tcertain\n",
            "\n",
            "Neutral\t0.342\tabstract\n",
            "Neutral\t0.264\tcovid-19\n",
            "Neutral\t0.197\t(\n",
            "Neutral\t0.192\t)\n",
            "Neutral\t0.191\tpandemic\n",
            "Neutral\t0.186\t.\n",
            "Neutral\t0.186\tvaccine\n",
            "Neutral\t0.174\tsars-cov-2\n",
            "Neutral\t0.159\tb\n",
            "Neutral\t0.146\tmaturation\n",
            "\n"
          ]
        }
      ]
    },
    {
      "cell_type": "markdown",
      "source": [
        "### BOW + Punctuation removal"
      ],
      "metadata": {
        "id": "D3FnpKyeXzbK"
      }
    },
    {
      "cell_type": "code",
      "source": [
        "import string\n",
        "import re"
      ],
      "metadata": {
        "id": "C5zI94Qs7cEp"
      },
      "execution_count": 28,
      "outputs": []
    },
    {
      "cell_type": "code",
      "source": [
        "# list_punct = string.punctuation"
      ],
      "metadata": {
        "id": "3WqouvOe7crd"
      },
      "execution_count": 29,
      "outputs": []
    },
    {
      "cell_type": "code",
      "source": [
        "def punct_removal(data):\n",
        "  # remove punctutation\n",
        "  filt_data = re.sub(r'[^\\w\\d\\s\\%\\&\\?]+', '', data)\n",
        "\n",
        "  return filt_data"
      ],
      "metadata": {
        "id": "xfQ4Jp0O5K2O"
      },
      "execution_count": 30,
      "outputs": []
    },
    {
      "cell_type": "code",
      "source": [
        "def print_confusion_test(classifier):\n",
        "    fig, ax = plt.subplots(figsize=(10,10))\n",
        "    plot_confusion_matrix(classifier.log_reg, classifier.testX, classifier.testY, ax=ax, xticks_rotation=\"vertical\", values_format=\"d\")\n",
        "    plt.show()"
      ],
      "metadata": {
        "id": "bnGvbs_BOCl-"
      },
      "execution_count": 31,
      "outputs": []
    },
    {
      "cell_type": "code",
      "source": [
        "def run_punct(trainingFile, devFile, testFile):\n",
        "    trainX, trainY=load_data(trainingFile)\n",
        "    devX, devY=load_data(devFile)\n",
        "    testX, testY=load_data(testFile)\n",
        "\n",
        "    # remove stopwords\n",
        "    trainX = list(map(remove_stop_df, trainX))\n",
        "    devX = list(map(remove_stop_df, devX))\n",
        "    testX = list(map(remove_stop_df, testX))\n",
        "\n",
        "    # remove punct\n",
        "    trainX = list(map(punct_removal, trainX))\n",
        "    devX = list(map(punct_removal, devX))\n",
        "    testX = list(map(punct_removal, testX))\n",
        "\n",
        "    simple_classifier = Classifier(binary_bow_featurize, trainX, trainY, devX, devY, testX, testY)\n",
        "    simple_classifier.train()\n",
        "    accuracy_test=simple_classifier.test()\n",
        "    accuracy_dev=simple_classifier.dev()\n",
        "\n",
        "    \n",
        "    lower, upper=confidence_intervals(accuracy_dev, len(devY), .95)\n",
        "    print(\"Dev accuracy for best dev model: %.3f, 95%% CIs: [%.3f %.3f]\\n\" % (accuracy_dev, lower, upper))\n",
        "    lower, upper=confidence_intervals(accuracy_dev, len(testY), .95)\n",
        "    print(\"Test accuracy for best dev model: %.3f, 95%% CIs: [%.3f %.3f]\\n\" % (accuracy_test, lower, upper))\n",
        "\n",
        "    print_confusion(simple_classifier)\n",
        "    print_confusion_test(simple_classifier)\n",
        "    \n",
        "    simple_classifier.printWeights()"
      ],
      "metadata": {
        "id": "oOAxfVyP4ynU"
      },
      "execution_count": 32,
      "outputs": []
    },
    {
      "cell_type": "code",
      "source": [
        "run_punct(trainingFile, devFile, testFile)\n"
      ],
      "metadata": {
        "colab": {
          "base_uri": "https://localhost:8080/",
          "height": 0
        },
        "id": "xNi-QDgAAMJg",
        "outputId": "630bd99f-62e4-45fb-b38e-e6beeadde88e"
      },
      "execution_count": 33,
      "outputs": [
        {
          "output_type": "stream",
          "name": "stdout",
          "text": [
            "Dev accuracy for best dev model: 0.745, 95% CIs: [0.685 0.805]\n",
            "\n",
            "Test accuracy for best dev model: 0.750, 95% CIs: [0.685 0.805]\n",
            "\n"
          ]
        },
        {
          "output_type": "stream",
          "name": "stderr",
          "text": [
            "/usr/local/lib/python3.7/dist-packages/sklearn/utils/deprecation.py:87: FutureWarning: Function plot_confusion_matrix is deprecated; Function `plot_confusion_matrix` is deprecated in 1.0 and will be removed in 1.2. Use one of the class methods: ConfusionMatrixDisplay.from_predictions or ConfusionMatrixDisplay.from_estimator.\n",
            "  warnings.warn(msg, category=FutureWarning)\n"
          ]
        },
        {
          "output_type": "display_data",
          "data": {
            "text/plain": [
              "<Figure size 720x720 with 2 Axes>"
            ],
            "image/png": "[encoded data removed]"
          },
          "metadata": {
            "needs_background": "light"
          }
        },
        {
          "output_type": "stream",
          "name": "stderr",
          "text": [
            "/usr/local/lib/python3.7/dist-packages/sklearn/utils/deprecation.py:87: FutureWarning: Function plot_confusion_matrix is deprecated; Function `plot_confusion_matrix` is deprecated in 1.0 and will be removed in 1.2. Use one of the class methods: ConfusionMatrixDisplay.from_predictions or ConfusionMatrixDisplay.from_estimator.\n",
            "  warnings.warn(msg, category=FutureWarning)\n"
          ]
        },
        {
          "output_type": "display_data",
          "data": {
            "text/plain": [
              "<Figure size 720x720 with 2 Axes>"
            ],
            "image/png": "[encoded data removed]"
          },
          "metadata": {
            "needs_background": "light"
          }
        },
        {
          "output_type": "stream",
          "name": "stdout",
          "text": [
            "Agreement\t0.223\t&\n",
            "Agreement\t0.186\t?\n",
            "Agreement\t0.184\t%\n",
            "Agreement\t0.183\tleast\n",
            "Agreement\t0.175\tinfections\n",
            "Agreement\t0.172\tget\n",
            "Agreement\t0.159\tsimilar\n",
            "Agreement\t0.158\tshowed\n",
            "Agreement\t0.157\thttps\n",
            "Agreement\t0.157\tsymptoms\n",
            "\n",
            "Disagreement\t0.354\tnt\n",
            "Disagreement\t0.340\t?\n",
            "Disagreement\t0.292\tactually\n",
            "Disagreement\t0.249\tgoing\n",
            "Disagreement\t0.225\tsay\n",
            "Disagreement\t0.218\tsure\n",
            "Disagreement\t0.218\tgraph\n",
            "Disagreement\t0.195\tsimply\n",
            "Disagreement\t0.189\tcertain\n",
            "Disagreement\t0.180\tspikes\n",
            "\n",
            "Neutral\t0.400\tabstract\n",
            "Neutral\t0.257\tcovid19\n",
            "Neutral\t0.186\tvaccine\n",
            "Neutral\t0.180\tpandemic\n",
            "Neutral\t0.174\tsarscov2\n",
            "Neutral\t0.160\tage\n",
            "Neutral\t0.159\tb\n",
            "Neutral\t0.156\tmaturation\n",
            "Neutral\t0.149\tantibodies\n",
            "Neutral\t0.140\troll\n",
            "\n"
          ]
        }
      ]
    },
    {
      "cell_type": "markdown",
      "source": [
        "### Combined (BOW + unigram) with stopword and punct removal"
      ],
      "metadata": {
        "id": "zomJfLvrJhfc"
      }
    },
    {
      "cell_type": "code",
      "source": [
        "def run_combined_punct(trainingFile, devFile, testFile):\n",
        "    trainX, trainY=load_data(trainingFile)\n",
        "    devX, devY=load_data(devFile)\n",
        "    testX, testY=load_data(testFile)\n",
        "\n",
        "    trainX = list(map(remove_stop_df, trainX))\n",
        "    devX = list(map(remove_stop_df, devX))\n",
        "    testX = list(map(remove_stop_df, testX))\n",
        "\n",
        "    # remove punct\n",
        "    trainX = list(map(punct_removal, trainX))\n",
        "    devX = list(map(punct_removal, devX))\n",
        "    testX = list(map(punct_removal, testX))\n",
        "\n",
        "    simple_classifier = Classifier(combiner_function, trainX, trainY, devX, devY, testX, testY)\n",
        "    simple_classifier.train()\n",
        "    accuracy=simple_classifier.test()\n",
        "\n",
        "    print_confusion(simple_classifier)\n",
        "\n",
        "    \n",
        "    lower, upper=confidence_intervals(accuracy, len(devY), .95)\n",
        "    print(\"Test accuracy for best dev model: %.3f, 95%% CIs: [%.3f %.3f]\\n\" % (accuracy, lower, upper))\n",
        "\n",
        "    simple_classifier.printWeights()"
      ],
      "metadata": {
        "id": "Zg00GPcwJnpi"
      },
      "execution_count": 34,
      "outputs": []
    },
    {
      "cell_type": "code",
      "source": [
        "run_combined_punct(trainingFile, devFile, testFile)\n"
      ],
      "metadata": {
        "colab": {
          "base_uri": "https://localhost:8080/",
          "height": 0
        },
        "id": "razLF60vKBJx",
        "outputId": "7ed1323f-e1ce-4011-d2a8-458c7dbf2ff5"
      },
      "execution_count": 35,
      "outputs": [
        {
          "output_type": "stream",
          "name": "stderr",
          "text": [
            "/usr/local/lib/python3.7/dist-packages/sklearn/utils/deprecation.py:87: FutureWarning: Function plot_confusion_matrix is deprecated; Function `plot_confusion_matrix` is deprecated in 1.0 and will be removed in 1.2. Use one of the class methods: ConfusionMatrixDisplay.from_predictions or ConfusionMatrixDisplay.from_estimator.\n",
            "  warnings.warn(msg, category=FutureWarning)\n"
          ]
        },
        {
          "output_type": "display_data",
          "data": {
            "text/plain": [
              "<Figure size 720x720 with 2 Axes>"
            ],
            "image/png": "[encoded data removed]"
          },
          "metadata": {
            "needs_background": "light"
          }
        },
        {
          "output_type": "stream",
          "name": "stdout",
          "text": [
            "Test accuracy for best dev model: 0.750, 95% CIs: [0.690 0.810]\n",
            "\n",
            "Agreement\t0.223\t&\n",
            "Agreement\t0.188\t?\n",
            "Agreement\t0.185\t%\n",
            "Agreement\t0.183\tleast\n",
            "Agreement\t0.175\tinfections\n",
            "Agreement\t0.171\tget\n",
            "Agreement\t0.159\tsimilar\n",
            "Agreement\t0.159\tshowed\n",
            "Agreement\t0.157\thttps\n",
            "Agreement\t0.156\tsymptoms\n",
            "\n",
            "Disagreement\t0.354\tnt\n",
            "Disagreement\t0.339\t?\n",
            "Disagreement\t0.292\tactually\n",
            "Disagreement\t0.250\tgoing\n",
            "Disagreement\t0.224\tsay\n",
            "Disagreement\t0.218\tsure\n",
            "Disagreement\t0.217\tgraph\n",
            "Disagreement\t0.195\tsimply\n",
            "Disagreement\t0.189\tcertain\n",
            "Disagreement\t0.180\tspikes\n",
            "\n",
            "Neutral\t0.400\tabstract\n",
            "Neutral\t0.257\tcovid19\n",
            "Neutral\t0.186\tvaccine\n",
            "Neutral\t0.180\tpandemic\n",
            "Neutral\t0.174\tsarscov2\n",
            "Neutral\t0.160\tage\n",
            "Neutral\t0.160\tb\n",
            "Neutral\t0.156\tmaturation\n",
            "Neutral\t0.148\tantibodies\n",
            "Neutral\t0.140\troll\n",
            "\n"
          ]
        }
      ]
    },
    {
      "cell_type": "code",
      "source": [
        ""
      ],
      "metadata": {
        "id": "jVl3hWQeKGT4"
      },
      "execution_count": 35,
      "outputs": []
    },
    {
      "cell_type": "markdown",
      "source": [
        "### SMOTE - BOW + Stopword + Punctuation removal"
      ],
      "metadata": {
        "id": "c9hSWaeXpjO1"
      }
    },
    {
      "cell_type": "code",
      "source": [
        "!pip install imbalanced-learn\n",
        "from imblearn.over_sampling import SMOTE"
      ],
      "metadata": {
        "colab": {
          "base_uri": "https://localhost:8080/"
        },
        "id": "EDwdQBNIpoiO",
        "outputId": "8431a9ac-4f4b-4fcd-8a04-d0948c989e58"
      },
      "execution_count": 36,
      "outputs": [
        {
          "output_type": "stream",
          "name": "stdout",
          "text": [
            "Requirement already satisfied: imbalanced-learn in /usr/local/lib/python3.7/dist-packages (0.8.1)\n",
            "Requirement already satisfied: scikit-learn>=0.24 in /usr/local/lib/python3.7/dist-packages (from imbalanced-learn) (1.0.2)\n",
            "Requirement already satisfied: numpy>=1.13.3 in /usr/local/lib/python3.7/dist-packages (from imbalanced-learn) (1.21.6)\n",
            "Requirement already satisfied: scipy>=0.19.1 in /usr/local/lib/python3.7/dist-packages (from imbalanced-learn) (1.4.1)\n",
            "Requirement already satisfied: joblib>=0.11 in /usr/local/lib/python3.7/dist-packages (from imbalanced-learn) (1.1.0)\n",
            "Requirement already satisfied: threadpoolctl>=2.0.0 in /usr/local/lib/python3.7/dist-packages (from scikit-learn>=0.24->imbalanced-learn) (3.1.0)\n"
          ]
        }
      ]
    },
    {
      "cell_type": "code",
      "source": [
        "class Classifier_SMOTE:\n",
        "\n",
        "    def __init__(self, feature_method, trainX, trainY, devX, devY, testX, testY):\n",
        "        self.feature_vocab = {}\n",
        "        self.feature_method = feature_method\n",
        "        self.min_feature_count=2\n",
        "        self.log_reg = None\n",
        "\n",
        "        # self.trainY=trainY\n",
        "        self.devY=devY\n",
        "        self.testY=testY\n",
        "\n",
        "      \n",
        "        trainX = self.process(trainX, training=True)\n",
        "\n",
        "        # oversample training set\n",
        "        self.trainX, self.trainY = self.oversample_train(trainX,trainY)\n",
        "\n",
        "\n",
        "        self.devX = self.process(devX, training=False)\n",
        "        self.testX = self.process(testX, training=False)\n",
        "\n",
        "\n",
        "\n",
        "    # Featurize entire dataset\n",
        "    def featurize(self, data):\n",
        "        featurized_data = []\n",
        "        for text in data:\n",
        "            feats = self.feature_method(text)\n",
        "            featurized_data.append(feats)\n",
        "        return featurized_data\n",
        "\n",
        "\n",
        "    def oversample_train(self,trainX,trainY):\n",
        "      sm = SMOTE(random_state=20)\n",
        "      X_train_res, y_train_res = sm.fit_resample(trainX, trainY)\n",
        "\n",
        "      return X_train_res, y_train_res\n",
        "\n",
        "\n",
        "    # Read dataset and returned featurized representation as sparse matrix + label array\n",
        "    def process(self, X_data, training = False):\n",
        "          \n",
        "        data = self.featurize(X_data)\n",
        "        # print(data)\n",
        "\n",
        "        if training:\n",
        "            fid = 0\n",
        "            feature_doc_count = Counter()\n",
        "            for feats in data:\n",
        "                for feat in feats:\n",
        "                    feature_doc_count[feat]+= 1\n",
        "\n",
        "            for feat in feature_doc_count:\n",
        "                if feature_doc_count[feat] >= self.min_feature_count:\n",
        "                    self.feature_vocab[feat] = fid\n",
        "                    fid += 1\n",
        "\n",
        "        F = len(self.feature_vocab)\n",
        "        D = len(data)\n",
        "        X = sparse.dok_matrix((D, F))\n",
        "        for idx, feats in enumerate(data):\n",
        "            for feat in feats:\n",
        "                if feat in self.feature_vocab:\n",
        "                    X[idx, self.feature_vocab[feat]] = feats[feat]\n",
        "\n",
        "        # print(X)\n",
        "\n",
        "\n",
        "        # \n",
        "        return X\n",
        "\n",
        "    # Train model and evaluate on held-out data\n",
        "    def train(self):\n",
        "        (D,F) = self.trainX.shape\n",
        "        print(\"D:\",D)\n",
        "        print(\"F:\",F)\n",
        "        \n",
        "        # summarize the new class distribution\n",
        "        counter = Counter(self.trainY)\n",
        "        print(\"COUNTS:\",counter)\n",
        "\n",
        "        best_dev_accuracy=0\n",
        "        best_model=None\n",
        "        for C in [0.1, 1, 10, 100]:\n",
        "            self.log_reg = linear_model.LogisticRegression(C = C, max_iter=1000)\n",
        "            self.log_reg.fit(self.trainX, self.trainY)\n",
        "            training_accuracy = self.log_reg.score(self.trainX, self.trainY)\n",
        "            development_accuracy = self.log_reg.score(self.devX, self.devY)\n",
        "            if development_accuracy > best_dev_accuracy:\n",
        "                best_dev_accuracy=development_accuracy\n",
        "                best_model=self.log_reg\n",
        "\n",
        "#             print(\"C: %s, Train accuracy: %.3f, Dev accuracy: %.3f\" % (C, training_accuracy, development_accuracy))\n",
        "\n",
        "        self.log_reg=best_model\n",
        "        \n",
        "\n",
        "    def test(self):\n",
        "      return self.log_reg.score(self.testX, self.testY)\n",
        "\n",
        "    def dev(self):\n",
        "      return self.log_reg.score(self.devX, self.devY)\n",
        "        \n",
        "\n",
        "    def printWeights(self, n=10):\n",
        "\n",
        "        reverse_vocab=[None]*len(self.log_reg.coef_[0])\n",
        "        for k in self.feature_vocab:\n",
        "            reverse_vocab[self.feature_vocab[k]]=k\n",
        "\n",
        "        # binary\n",
        "        if len(self.log_reg.classes_) == 2:\n",
        "              weights=self.log_reg.coef_[0]\n",
        "\n",
        "              cat=self.log_reg.classes_[1]\n",
        "              for feature, weight in list(reversed(sorted(zip(reverse_vocab, weights), key = operator.itemgetter(1))))[:n]:\n",
        "                  print(\"%s\\t%.3f\\t%s\" % (cat, weight, feature))\n",
        "              print()\n",
        "\n",
        "              cat=self.log_reg.classes_[0]\n",
        "              for feature, weight in list(sorted(zip(reverse_vocab, weights), key = operator.itemgetter(1)))[:n]:\n",
        "                  print(\"%s\\t%.3f\\t%s\" % (cat, weight, feature))\n",
        "              print()\n",
        "\n",
        "        # multiclass\n",
        "        else:\n",
        "          for i, cat in enumerate(self.log_reg.classes_):\n",
        "\n",
        "              weights=self.log_reg.coef_[i]\n",
        "\n",
        "              for feature, weight in list(reversed(sorted(zip(reverse_vocab, weights), key = operator.itemgetter(1))))[:n]:\n",
        "                  print(\"%s\\t%.3f\\t%s\" % (cat, weight, feature))\n",
        "              print()\n",
        "\n",
        "            "
      ],
      "metadata": {
        "id": "NKnp-YMY0ahi"
      },
      "execution_count": 37,
      "outputs": []
    },
    {
      "cell_type": "code",
      "source": [
        "def run_punct(trainingFile, devFile, testFile):\n",
        "    trainX, trainY=load_data(trainingFile)\n",
        "    devX, devY=load_data(devFile)\n",
        "    testX, testY=load_data(testFile)\n",
        "\n",
        "    # remove stopwords\n",
        "    trainX = list(map(remove_stop_df, trainX))\n",
        "    devX = list(map(remove_stop_df, devX))\n",
        "    testX = list(map(remove_stop_df, testX))\n",
        "\n",
        "    # remove punct\n",
        "    trainX = list(map(punct_removal, trainX))\n",
        "    devX = list(map(punct_removal, devX))\n",
        "    testX = list(map(punct_removal, testX))\n",
        "\n",
        "    simple_classifier = Classifier_SMOTE(binary_bow_featurize, trainX, trainY, devX, devY, testX, testY)\n",
        "    simple_classifier.train()\n",
        "    accuracy_test=simple_classifier.test()\n",
        "    accuracy_dev=simple_classifier.dev()\n",
        "\n",
        "    \n",
        "    lower, upper=confidence_intervals(accuracy_dev, len(devY), .95)\n",
        "    print(\"Dev accuracy for best dev model: %.3f, 95%% CIs: [%.3f %.3f]\\n\" % (accuracy_dev, lower, upper))\n",
        "    lower, upper=confidence_intervals(accuracy_dev, len(testY), .95)\n",
        "    print(\"Test accuracy for best dev model: %.3f, 95%% CIs: [%.3f %.3f]\\n\" % (accuracy_test, lower, upper))\n",
        "\n",
        "    print_confusion(simple_classifier)\n",
        "    print_confusion_test(simple_classifier)\n",
        "    \n",
        "    simple_classifier.printWeights()"
      ],
      "metadata": {
        "id": "n7btv1zn1CZ0"
      },
      "execution_count": 38,
      "outputs": []
    },
    {
      "cell_type": "code",
      "source": [
        "run_punct(trainingFile, devFile, testFile)"
      ],
      "metadata": {
        "colab": {
          "base_uri": "https://localhost:8080/",
          "height": 1000
        },
        "id": "qau98Mzd4rMS",
        "outputId": "1fc83864-f11c-4661-a343-73d5a46a85c9"
      },
      "execution_count": 39,
      "outputs": [
        {
          "output_type": "stream",
          "name": "stdout",
          "text": [
            "D: 1326\n",
            "F: 2187\n",
            "COUNTS: Counter({'Agreement': 442, 'Disagreement': 442, 'Neutral': 442})\n",
            "Dev accuracy for best dev model: 0.675, 95% CIs: [0.610 0.740]\n",
            "\n",
            "Test accuracy for best dev model: 0.650, 95% CIs: [0.610 0.740]\n",
            "\n"
          ]
        },
        {
          "output_type": "stream",
          "name": "stderr",
          "text": [
            "/usr/local/lib/python3.7/dist-packages/sklearn/utils/deprecation.py:87: FutureWarning: Function plot_confusion_matrix is deprecated; Function `plot_confusion_matrix` is deprecated in 1.0 and will be removed in 1.2. Use one of the class methods: ConfusionMatrixDisplay.from_predictions or ConfusionMatrixDisplay.from_estimator.\n",
            "  warnings.warn(msg, category=FutureWarning)\n"
          ]
        },
        {
          "output_type": "display_data",
          "data": {
            "text/plain": [
              "<Figure size 720x720 with 2 Axes>"
            ],
            "image/png": "[encoded data removed]"
          },
          "metadata": {
            "needs_background": "light"
          }
        },
        {
          "output_type": "stream",
          "name": "stderr",
          "text": [
            "/usr/local/lib/python3.7/dist-packages/sklearn/utils/deprecation.py:87: FutureWarning: Function plot_confusion_matrix is deprecated; Function `plot_confusion_matrix` is deprecated in 1.0 and will be removed in 1.2. Use one of the class methods: ConfusionMatrixDisplay.from_predictions or ConfusionMatrixDisplay.from_estimator.\n",
            "  warnings.warn(msg, category=FutureWarning)\n"
          ]
        },
        {
          "output_type": "display_data",
          "data": {
            "text/plain": [
              "<Figure size 720x720 with 2 Axes>"
            ],
            "image/png": "[encoded data removed]"
          },
          "metadata": {
            "needs_background": "light"
          }
        },
        {
          "output_type": "stream",
          "name": "stdout",
          "text": [
            "Agreement\t0.548\t?\n",
            "Agreement\t0.389\t%\n",
            "Agreement\t0.347\ts\n",
            "Agreement\t0.330\t&\n",
            "Agreement\t0.277\tleast\n",
            "Agreement\t0.254\thttps\n",
            "Agreement\t0.247\tget\n",
            "Agreement\t0.246\tvaccines\n",
            "Agreement\t0.244\tinfections\n",
            "Agreement\t0.241\td\n",
            "\n",
            "Disagreement\t0.756\tthough\n",
            "Disagreement\t0.595\tfinding\n",
            "Disagreement\t0.572\tsafe\n",
            "Disagreement\t0.564\tmajor\n",
            "Disagreement\t0.556\teffective\n",
            "Disagreement\t0.523\tfind\n",
            "Disagreement\t0.476\tnt\n",
            "Disagreement\t0.416\t?\n",
            "Disagreement\t0.405\tpaper\n",
            "Disagreement\t0.378\tsimply\n",
            "\n",
            "Neutral\t0.907\treported\n",
            "Neutral\t0.741\tcases\n",
            "Neutral\t0.634\tcriteria\n",
            "Neutral\t0.564\tavoiding\n",
            "Neutral\t0.554\tabstract\n",
            "Neutral\t0.482\treducing\n",
            "Neutral\t0.410\tb\n",
            "Neutral\t0.409\tproduced\n",
            "Neutral\t0.407\tcovid19\n",
            "Neutral\t0.379\tneed\n",
            "\n"
          ]
        }
      ]
    },
    {
      "cell_type": "markdown",
      "source": [
        "### using SMOTETomek"
      ],
      "metadata": {
        "id": "MhdGpgiZtOCe"
      }
    },
    {
      "cell_type": "code",
      "source": [
        "from imblearn.combine import SMOTEENN ,SMOTETomek"
      ],
      "metadata": {
        "id": "szuNAxPM7zyg"
      },
      "execution_count": 40,
      "outputs": []
    },
    {
      "cell_type": "code",
      "source": [
        "class Classifier_SMOTE_undersample:\n",
        "\n",
        "    def __init__(self, feature_method, trainX, trainY, devX, devY, testX, testY):\n",
        "        self.feature_vocab = {}\n",
        "        self.feature_method = feature_method\n",
        "        self.min_feature_count=2\n",
        "        self.log_reg = None\n",
        "\n",
        "        # self.trainY=trainY\n",
        "        self.devY=devY\n",
        "        self.testY=testY\n",
        "\n",
        "      \n",
        "        trainX = self.process(trainX, training=True)\n",
        "\n",
        "        # oversample training set\n",
        "        self.trainX, self.trainY = self.oversample_train(trainX,trainY)\n",
        "\n",
        "\n",
        "        self.devX = self.process(devX, training=False)\n",
        "        self.testX = self.process(testX, training=False)\n",
        "\n",
        "\n",
        "\n",
        "    # Featurize entire dataset\n",
        "    def featurize(self, data):\n",
        "        featurized_data = []\n",
        "        for text in data:\n",
        "            feats = self.feature_method(text)\n",
        "            featurized_data.append(feats)\n",
        "        return featurized_data\n",
        "\n",
        "\n",
        "    def oversample_train(self,trainX,trainY):\n",
        "      sm = SMOTETomek(random_state=20)\n",
        "      X_train_res, y_train_res = sm.fit_resample(trainX, trainY)\n",
        "\n",
        "      return X_train_res, y_train_res\n",
        "\n",
        "\n",
        "    # Read dataset and returned featurized representation as sparse matrix + label array\n",
        "    def process(self, X_data, training = False):\n",
        "          \n",
        "        data = self.featurize(X_data)\n",
        "        # print(data)\n",
        "\n",
        "        if training:\n",
        "            fid = 0\n",
        "            feature_doc_count = Counter()\n",
        "            for feats in data:\n",
        "                for feat in feats:\n",
        "                    feature_doc_count[feat]+= 1\n",
        "\n",
        "            for feat in feature_doc_count:\n",
        "                if feature_doc_count[feat] >= self.min_feature_count:\n",
        "                    self.feature_vocab[feat] = fid\n",
        "                    fid += 1\n",
        "\n",
        "        F = len(self.feature_vocab)\n",
        "        D = len(data)\n",
        "        X = sparse.dok_matrix((D, F))\n",
        "        for idx, feats in enumerate(data):\n",
        "            for feat in feats:\n",
        "                if feat in self.feature_vocab:\n",
        "                    X[idx, self.feature_vocab[feat]] = feats[feat]\n",
        "\n",
        "        # print(X)\n",
        "\n",
        "\n",
        "        # \n",
        "        return X\n",
        "\n",
        "    # Train model and evaluate on held-out data\n",
        "    def train(self):\n",
        "        (D,F) = self.trainX.shape\n",
        "        print(\"D:\",D)\n",
        "        print(\"F:\",F)\n",
        "        \n",
        "        # summarize the new class distribution\n",
        "        counter = Counter(self.trainY)\n",
        "        print(\"COUNTS:\",counter)\n",
        "\n",
        "        best_dev_accuracy=0\n",
        "        best_model=None\n",
        "        for C in [0.1, 1, 10, 100]:\n",
        "            self.log_reg = linear_model.LogisticRegression(C = C, max_iter=1000)\n",
        "            self.log_reg.fit(self.trainX, self.trainY)\n",
        "            training_accuracy = self.log_reg.score(self.trainX, self.trainY)\n",
        "            development_accuracy = self.log_reg.score(self.devX, self.devY)\n",
        "            if development_accuracy > best_dev_accuracy:\n",
        "                best_dev_accuracy=development_accuracy\n",
        "                best_model=self.log_reg\n",
        "\n",
        "#             print(\"C: %s, Train accuracy: %.3f, Dev accuracy: %.3f\" % (C, training_accuracy, development_accuracy))\n",
        "\n",
        "        self.log_reg=best_model\n",
        "        \n",
        "\n",
        "    def test(self):\n",
        "      return self.log_reg.score(self.testX, self.testY)\n",
        "\n",
        "    def dev(self):\n",
        "      return self.log_reg.score(self.devX, self.devY)\n",
        "        \n",
        "\n",
        "    def printWeights(self, n=10):\n",
        "\n",
        "        reverse_vocab=[None]*len(self.log_reg.coef_[0])\n",
        "        for k in self.feature_vocab:\n",
        "            reverse_vocab[self.feature_vocab[k]]=k\n",
        "\n",
        "        # binary\n",
        "        if len(self.log_reg.classes_) == 2:\n",
        "              weights=self.log_reg.coef_[0]\n",
        "\n",
        "              cat=self.log_reg.classes_[1]\n",
        "              for feature, weight in list(reversed(sorted(zip(reverse_vocab, weights), key = operator.itemgetter(1))))[:n]:\n",
        "                  print(\"%s\\t%.3f\\t%s\" % (cat, weight, feature))\n",
        "              print()\n",
        "\n",
        "              cat=self.log_reg.classes_[0]\n",
        "              for feature, weight in list(sorted(zip(reverse_vocab, weights), key = operator.itemgetter(1)))[:n]:\n",
        "                  print(\"%s\\t%.3f\\t%s\" % (cat, weight, feature))\n",
        "              print()\n",
        "\n",
        "        # multiclass\n",
        "        else:\n",
        "          for i, cat in enumerate(self.log_reg.classes_):\n",
        "\n",
        "              weights=self.log_reg.coef_[i]\n",
        "\n",
        "              for feature, weight in list(reversed(sorted(zip(reverse_vocab, weights), key = operator.itemgetter(1))))[:n]:\n",
        "                  print(\"%s\\t%.3f\\t%s\" % (cat, weight, feature))\n",
        "              print()\n",
        "\n",
        "            "
      ],
      "metadata": {
        "id": "QQVvT6UU7u8v"
      },
      "execution_count": 41,
      "outputs": []
    },
    {
      "cell_type": "code",
      "source": [
        "def run_punct(trainingFile, devFile, testFile):\n",
        "    trainX, trainY=load_data(trainingFile)\n",
        "    devX, devY=load_data(devFile)\n",
        "    testX, testY=load_data(testFile)\n",
        "\n",
        "    # remove stopwords\n",
        "    trainX = list(map(remove_stop_df, trainX))\n",
        "    devX = list(map(remove_stop_df, devX))\n",
        "    testX = list(map(remove_stop_df, testX))\n",
        "\n",
        "    # remove punct\n",
        "    trainX = list(map(punct_removal, trainX))\n",
        "    devX = list(map(punct_removal, devX))\n",
        "    testX = list(map(punct_removal, testX))\n",
        "\n",
        "    simple_classifier = Classifier_SMOTE_undersample(binary_bow_featurize, trainX, trainY, devX, devY, testX, testY)\n",
        "    simple_classifier.train()\n",
        "    accuracy_test=simple_classifier.test()\n",
        "    accuracy_dev=simple_classifier.dev()\n",
        "\n",
        "    \n",
        "    lower, upper=confidence_intervals(accuracy_dev, len(devY), .95)\n",
        "    print(\"Dev accuracy for best dev model: %.3f, 95%% CIs: [%.3f %.3f]\\n\" % (accuracy_dev, lower, upper))\n",
        "    lower, upper=confidence_intervals(accuracy_dev, len(testY), .95)\n",
        "    print(\"Test accuracy for best dev model: %.3f, 95%% CIs: [%.3f %.3f]\\n\" % (accuracy_test, lower, upper))\n",
        "\n",
        "    print_confusion(simple_classifier)\n",
        "    print_confusion_test(simple_classifier)\n",
        "    \n",
        "    simple_classifier.printWeights()"
      ],
      "metadata": {
        "id": "8x1o4mva8Epj"
      },
      "execution_count": 42,
      "outputs": []
    },
    {
      "cell_type": "code",
      "source": [
        "run_punct(trainingFile, devFile, testFile)\n"
      ],
      "metadata": {
        "id": "9Np5g6Hu8InZ",
        "outputId": "50fd799f-ee8e-4281-d6b5-1cffeee63095",
        "colab": {
          "base_uri": "https://localhost:8080/",
          "height": 1000
        }
      },
      "execution_count": 43,
      "outputs": [
        {
          "output_type": "stream",
          "name": "stdout",
          "text": [
            "D: 1326\n",
            "F: 2187\n",
            "COUNTS: Counter({'Agreement': 442, 'Disagreement': 442, 'Neutral': 442})\n",
            "Dev accuracy for best dev model: 0.675, 95% CIs: [0.610 0.740]\n",
            "\n",
            "Test accuracy for best dev model: 0.650, 95% CIs: [0.610 0.740]\n",
            "\n"
          ]
        },
        {
          "output_type": "stream",
          "name": "stderr",
          "text": [
            "/usr/local/lib/python3.7/dist-packages/sklearn/utils/deprecation.py:87: FutureWarning: Function plot_confusion_matrix is deprecated; Function `plot_confusion_matrix` is deprecated in 1.0 and will be removed in 1.2. Use one of the class methods: ConfusionMatrixDisplay.from_predictions or ConfusionMatrixDisplay.from_estimator.\n",
            "  warnings.warn(msg, category=FutureWarning)\n"
          ]
        },
        {
          "output_type": "display_data",
          "data": {
            "text/plain": [
              "<Figure size 720x720 with 2 Axes>"
            ],
            "image/png": "[encoded data removed]"
          },
          "metadata": {
            "needs_background": "light"
          }
        },
        {
          "output_type": "stream",
          "name": "stderr",
          "text": [
            "/usr/local/lib/python3.7/dist-packages/sklearn/utils/deprecation.py:87: FutureWarning: Function plot_confusion_matrix is deprecated; Function `plot_confusion_matrix` is deprecated in 1.0 and will be removed in 1.2. Use one of the class methods: ConfusionMatrixDisplay.from_predictions or ConfusionMatrixDisplay.from_estimator.\n",
            "  warnings.warn(msg, category=FutureWarning)\n"
          ]
        },
        {
          "output_type": "display_data",
          "data": {
            "text/plain": [
              "<Figure size 720x720 with 2 Axes>"
            ],
            "image/png": "[encoded data removed]"
          },
          "metadata": {
            "needs_background": "light"
          }
        },
        {
          "output_type": "stream",
          "name": "stdout",
          "text": [
            "Agreement\t0.548\t?\n",
            "Agreement\t0.389\t%\n",
            "Agreement\t0.347\ts\n",
            "Agreement\t0.330\t&\n",
            "Agreement\t0.277\tleast\n",
            "Agreement\t0.254\thttps\n",
            "Agreement\t0.247\tget\n",
            "Agreement\t0.246\tvaccines\n",
            "Agreement\t0.244\tinfections\n",
            "Agreement\t0.241\td\n",
            "\n",
            "Disagreement\t0.756\tthough\n",
            "Disagreement\t0.595\tfinding\n",
            "Disagreement\t0.572\tsafe\n",
            "Disagreement\t0.564\tmajor\n",
            "Disagreement\t0.556\teffective\n",
            "Disagreement\t0.523\tfind\n",
            "Disagreement\t0.476\tnt\n",
            "Disagreement\t0.416\t?\n",
            "Disagreement\t0.405\tpaper\n",
            "Disagreement\t0.378\tsimply\n",
            "\n",
            "Neutral\t0.907\treported\n",
            "Neutral\t0.741\tcases\n",
            "Neutral\t0.634\tcriteria\n",
            "Neutral\t0.564\tavoiding\n",
            "Neutral\t0.554\tabstract\n",
            "Neutral\t0.482\treducing\n",
            "Neutral\t0.410\tb\n",
            "Neutral\t0.409\tproduced\n",
            "Neutral\t0.407\tcovid19\n",
            "Neutral\t0.379\tneed\n",
            "\n"
          ]
        }
      ]
    },
    {
      "cell_type": "markdown",
      "source": [
        "### another method - using SMOTE and Randomundersampler"
      ],
      "metadata": {
        "id": "roMNEhAl8KeX"
      }
    },
    {
      "cell_type": "code",
      "source": [
        "from imblearn.under_sampling import RandomUnderSampler\n",
        "from imblearn.pipeline import Pipeline\n"
      ],
      "metadata": {
        "id": "GyPLdhx28gNV"
      },
      "execution_count": 44,
      "outputs": []
    },
    {
      "cell_type": "code",
      "source": [
        "class Classifier_SMOTE_undersample:\n",
        "\n",
        "    def __init__(self, feature_method, trainX, trainY, devX, devY, testX, testY):\n",
        "        self.feature_vocab = {}\n",
        "        self.feature_method = feature_method\n",
        "        self.min_feature_count=2\n",
        "        self.log_reg = None\n",
        "\n",
        "        # self.trainY=trainY\n",
        "        self.devY=devY\n",
        "        self.testY=testY\n",
        "\n",
        "      \n",
        "        trainX = self.process(trainX, training=True)\n",
        "\n",
        "        # oversample training set\n",
        "        self.trainX, self.trainY = self.oversample_train(trainX,trainY)\n",
        "\n",
        "\n",
        "        self.devX = self.process(devX, training=False)\n",
        "        self.testX = self.process(testX, training=False)\n",
        "\n",
        "\n",
        "\n",
        "    # Featurize entire dataset\n",
        "    def featurize(self, data):\n",
        "        featurized_data = []\n",
        "        for text in data:\n",
        "            feats = self.feature_method(text)\n",
        "            featurized_data.append(feats)\n",
        "        return featurized_data\n",
        "\n",
        "\n",
        "    def oversample_train(self,trainX,trainY):\n",
        "\n",
        "      over = SMOTE()\n",
        "      under = RandomUnderSampler()\n",
        "\n",
        "      steps = [('o', over), ('u', under)]\n",
        "      pipeline = Pipeline(steps=steps)\n",
        "      # sm = SMOTETomek(random_state=20)\n",
        "      X_train_res, y_train_res = pipeline.fit_resample(trainX, trainY)\n",
        "\n",
        "      return X_train_res, y_train_res\n",
        "\n",
        "\n",
        "    # Read dataset and returned featurized representation as sparse matrix + label array\n",
        "    def process(self, X_data, training = False):\n",
        "          \n",
        "        data = self.featurize(X_data)\n",
        "        # print(data)\n",
        "\n",
        "        if training:\n",
        "            fid = 0\n",
        "            feature_doc_count = Counter()\n",
        "            for feats in data:\n",
        "                for feat in feats:\n",
        "                    feature_doc_count[feat]+= 1\n",
        "\n",
        "            for feat in feature_doc_count:\n",
        "                if feature_doc_count[feat] >= self.min_feature_count:\n",
        "                    self.feature_vocab[feat] = fid\n",
        "                    fid += 1\n",
        "\n",
        "        F = len(self.feature_vocab)\n",
        "        D = len(data)\n",
        "        X = sparse.dok_matrix((D, F))\n",
        "        for idx, feats in enumerate(data):\n",
        "            for feat in feats:\n",
        "                if feat in self.feature_vocab:\n",
        "                    X[idx, self.feature_vocab[feat]] = feats[feat]\n",
        "\n",
        "        # print(X)\n",
        "\n",
        "\n",
        "        # \n",
        "        return X\n",
        "\n",
        "    # Train model and evaluate on held-out data\n",
        "    def train(self):\n",
        "        (D,F) = self.trainX.shape\n",
        "        print(\"D:\",D)\n",
        "        print(\"F:\",F)\n",
        "        \n",
        "        # summarize the new class distribution\n",
        "        counter = Counter(self.trainY)\n",
        "        print(\"COUNTS:\",counter)\n",
        "\n",
        "        best_dev_accuracy=0\n",
        "        best_model=None\n",
        "        for C in [0.1, 1, 10, 100]:\n",
        "            self.log_reg = linear_model.LogisticRegression(C = C, max_iter=1000)\n",
        "            self.log_reg.fit(self.trainX, self.trainY)\n",
        "            training_accuracy = self.log_reg.score(self.trainX, self.trainY)\n",
        "            development_accuracy = self.log_reg.score(self.devX, self.devY)\n",
        "            if development_accuracy > best_dev_accuracy:\n",
        "                best_dev_accuracy=development_accuracy\n",
        "                best_model=self.log_reg\n",
        "\n",
        "#             print(\"C: %s, Train accuracy: %.3f, Dev accuracy: %.3f\" % (C, training_accuracy, development_accuracy))\n",
        "\n",
        "        self.log_reg=best_model\n",
        "        \n",
        "\n",
        "    def test(self):\n",
        "      return self.log_reg.score(self.testX, self.testY)\n",
        "\n",
        "    def dev(self):\n",
        "      return self.log_reg.score(self.devX, self.devY)\n",
        "        \n",
        "\n",
        "    def printWeights(self, n=10):\n",
        "\n",
        "        reverse_vocab=[None]*len(self.log_reg.coef_[0])\n",
        "        for k in self.feature_vocab:\n",
        "            reverse_vocab[self.feature_vocab[k]]=k\n",
        "\n",
        "        # binary\n",
        "        if len(self.log_reg.classes_) == 2:\n",
        "              weights=self.log_reg.coef_[0]\n",
        "\n",
        "              cat=self.log_reg.classes_[1]\n",
        "              for feature, weight in list(reversed(sorted(zip(reverse_vocab, weights), key = operator.itemgetter(1))))[:n]:\n",
        "                  print(\"%s\\t%.3f\\t%s\" % (cat, weight, feature))\n",
        "              print()\n",
        "\n",
        "              cat=self.log_reg.classes_[0]\n",
        "              for feature, weight in list(sorted(zip(reverse_vocab, weights), key = operator.itemgetter(1)))[:n]:\n",
        "                  print(\"%s\\t%.3f\\t%s\" % (cat, weight, feature))\n",
        "              print()\n",
        "\n",
        "        # multiclass\n",
        "        else:\n",
        "          for i, cat in enumerate(self.log_reg.classes_):\n",
        "\n",
        "              weights=self.log_reg.coef_[i]\n",
        "\n",
        "              for feature, weight in list(reversed(sorted(zip(reverse_vocab, weights), key = operator.itemgetter(1))))[:n]:\n",
        "                  print(\"%s\\t%.3f\\t%s\" % (cat, weight, feature))\n",
        "              print()\n",
        "\n",
        "            "
      ],
      "metadata": {
        "id": "949EfQ1-8jUb"
      },
      "execution_count": 45,
      "outputs": []
    },
    {
      "cell_type": "code",
      "source": [
        "def run_punct(trainingFile, devFile, testFile):\n",
        "    trainX, trainY=load_data(trainingFile)\n",
        "    devX, devY=load_data(devFile)\n",
        "    testX, testY=load_data(testFile)\n",
        "\n",
        "    # remove stopwords\n",
        "    trainX = list(map(remove_stop_df, trainX))\n",
        "    devX = list(map(remove_stop_df, devX))\n",
        "    testX = list(map(remove_stop_df, testX))\n",
        "\n",
        "    # remove punct\n",
        "    trainX = list(map(punct_removal, trainX))\n",
        "    devX = list(map(punct_removal, devX))\n",
        "    testX = list(map(punct_removal, testX))\n",
        "\n",
        "    simple_classifier = Classifier_SMOTE_undersample(binary_bow_featurize, trainX, trainY, devX, devY, testX, testY)\n",
        "    simple_classifier.train()\n",
        "    accuracy_test=simple_classifier.test()\n",
        "    accuracy_dev=simple_classifier.dev()\n",
        "\n",
        "    \n",
        "    lower, upper=confidence_intervals(accuracy_dev, len(devY), .95)\n",
        "    print(\"Dev accuracy for best dev model: %.3f, 95%% CIs: [%.3f %.3f]\\n\" % (accuracy_dev, lower, upper))\n",
        "    lower, upper=confidence_intervals(accuracy_dev, len(testY), .95)\n",
        "    print(\"Test accuracy for best dev model: %.3f, 95%% CIs: [%.3f %.3f]\\n\" % (accuracy_test, lower, upper))\n",
        "\n",
        "    print_confusion(simple_classifier)\n",
        "    print_confusion_test(simple_classifier)\n",
        "    \n",
        "    simple_classifier.printWeights()"
      ],
      "metadata": {
        "id": "KqtLtSED9ELM"
      },
      "execution_count": 46,
      "outputs": []
    },
    {
      "cell_type": "code",
      "source": [
        "run_punct(trainingFile, devFile, testFile)\n"
      ],
      "metadata": {
        "id": "SLQVW03t9GGw",
        "outputId": "b5a69fee-9ea4-4d26-f16c-9eb9eca0aa99",
        "colab": {
          "base_uri": "https://localhost:8080/",
          "height": 1000
        }
      },
      "execution_count": 47,
      "outputs": [
        {
          "output_type": "stream",
          "name": "stdout",
          "text": [
            "D: 1326\n",
            "F: 2187\n",
            "COUNTS: Counter({'Agreement': 442, 'Disagreement': 442, 'Neutral': 442})\n",
            "Dev accuracy for best dev model: 0.690, 95% CIs: [0.626 0.754]\n",
            "\n",
            "Test accuracy for best dev model: 0.620, 95% CIs: [0.626 0.754]\n",
            "\n"
          ]
        },
        {
          "output_type": "stream",
          "name": "stderr",
          "text": [
            "/usr/local/lib/python3.7/dist-packages/sklearn/utils/deprecation.py:87: FutureWarning: Function plot_confusion_matrix is deprecated; Function `plot_confusion_matrix` is deprecated in 1.0 and will be removed in 1.2. Use one of the class methods: ConfusionMatrixDisplay.from_predictions or ConfusionMatrixDisplay.from_estimator.\n",
            "  warnings.warn(msg, category=FutureWarning)\n"
          ]
        },
        {
          "output_type": "display_data",
          "data": {
            "text/plain": [
              "<Figure size 720x720 with 2 Axes>"
            ],
            "image/png": "[encoded data removed]"
          },
          "metadata": {
            "needs_background": "light"
          }
        },
        {
          "output_type": "stream",
          "name": "stderr",
          "text": [
            "/usr/local/lib/python3.7/dist-packages/sklearn/utils/deprecation.py:87: FutureWarning: Function plot_confusion_matrix is deprecated; Function `plot_confusion_matrix` is deprecated in 1.0 and will be removed in 1.2. Use one of the class methods: ConfusionMatrixDisplay.from_predictions or ConfusionMatrixDisplay.from_estimator.\n",
            "  warnings.warn(msg, category=FutureWarning)\n"
          ]
        },
        {
          "output_type": "display_data",
          "data": {
            "text/plain": [
              "<Figure size 720x720 with 2 Axes>"
            ],
            "image/png": "[encoded data removed]"
          },
          "metadata": {
            "needs_background": "light"
          }
        },
        {
          "output_type": "stream",
          "name": "stdout",
          "text": [
            "Agreement\t0.553\t?\n",
            "Agreement\t0.358\ts\n",
            "Agreement\t0.350\t%\n",
            "Agreement\t0.329\t&\n",
            "Agreement\t0.285\tleast\n",
            "Agreement\t0.260\td\n",
            "Agreement\t0.257\thttps\n",
            "Agreement\t0.252\tlikely\n",
            "Agreement\t0.238\tcould\n",
            "Agreement\t0.236\tinfections\n",
            "\n",
            "Disagreement\t0.718\tthough\n",
            "Disagreement\t0.634\tfind\n",
            "Disagreement\t0.552\teffective\n",
            "Disagreement\t0.545\tsafe\n",
            "Disagreement\t0.538\tfinding\n",
            "Disagreement\t0.504\tmajor\n",
            "Disagreement\t0.497\tnt\n",
            "Disagreement\t0.432\tpaper\n",
            "Disagreement\t0.414\t?\n",
            "Disagreement\t0.405\tessentially\n",
            "\n",
            "Neutral\t0.916\treported\n",
            "Neutral\t0.747\tcases\n",
            "Neutral\t0.631\tcriteria\n",
            "Neutral\t0.568\tavoiding\n",
            "Neutral\t0.549\tabstract\n",
            "Neutral\t0.488\treducing\n",
            "Neutral\t0.425\tneed\n",
            "Neutral\t0.422\tproduced\n",
            "Neutral\t0.414\tcovid19\n",
            "Neutral\t0.402\tdifferent\n",
            "\n"
          ]
        }
      ]
    },
    {
      "cell_type": "code",
      "source": [
        ""
      ],
      "metadata": {
        "id": "hjZs8KCW9H-b"
      },
      "execution_count": 47,
      "outputs": []
    },
    {
      "cell_type": "markdown",
      "source": [
        "### ngram BOW"
      ],
      "metadata": {
        "id": "uRJN_fKjAkRI"
      }
    },
    {
      "cell_type": "code",
      "source": [
        "from sklearn.feature_extraction.text import CountVectorizer\n"
      ],
      "metadata": {
        "id": "OZtsCQRZBko0"
      },
      "execution_count": 15,
      "outputs": []
    },
    {
      "cell_type": "code",
      "source": [
        "test_text_2=['my name ius GK','fdhbsjhb skdbskjbdsd d','dfdf efdf e']"
      ],
      "metadata": {
        "id": "WnqEKcQvCHkg"
      },
      "execution_count": 70,
      "outputs": []
    },
    {
      "cell_type": "code",
      "source": [
        "\n",
        "# Construct the tokenizer with English stop words\n",
        "bigram = CountVectorizer(ngram_range=(1, 2))\n",
        "# fit the model to the passage\n",
        "# test_text = \"my name is mudit\"\n",
        "# bigram.fit(test_text_2)\n",
        "bigram.fit_transform(test_text_2)\n",
        "\n",
        "# bigram.get_feature_names()"
      ],
      "metadata": {
        "id": "dVPxyaiPBqnz",
        "outputId": "964186c3-1a7c-45c3-f018-7995b0c0dfb6",
        "colab": {
          "base_uri": "https://localhost:8080/"
        }
      },
      "execution_count": 104,
      "outputs": [
        {
          "output_type": "execute_result",
          "data": {
            "text/plain": [
              "<3x13 sparse matrix of type '<class 'numpy.int64'>'\n",
              "\twith 13 stored elements in Compressed Sparse Row format>"
            ]
          },
          "metadata": {},
          "execution_count": 104
        }
      ]
    },
    {
      "cell_type": "code",
      "source": [
        "bigram.get_feature_names()"
      ],
      "metadata": {
        "id": "MmprNc8WB4HH",
        "outputId": "12d2a4f0-c000-48c3-b508-8d5eb8d8c4a3",
        "colab": {
          "base_uri": "https://localhost:8080/"
        }
      },
      "execution_count": 76,
      "outputs": [
        {
          "output_type": "stream",
          "name": "stderr",
          "text": [
            "/usr/local/lib/python3.7/dist-packages/sklearn/utils/deprecation.py:87: FutureWarning: Function get_feature_names is deprecated; get_feature_names is deprecated in 1.0 and will be removed in 1.2. Please use get_feature_names_out instead.\n",
            "  warnings.warn(msg, category=FutureWarning)\n"
          ]
        },
        {
          "output_type": "execute_result",
          "data": {
            "text/plain": [
              "['dfdf',\n",
              " 'dfdf efdf',\n",
              " 'efdf',\n",
              " 'fdhbsjhb',\n",
              " 'fdhbsjhb skdbskjbdsd',\n",
              " 'gk',\n",
              " 'ius',\n",
              " 'ius gk',\n",
              " 'my',\n",
              " 'my name',\n",
              " 'name',\n",
              " 'name ius',\n",
              " 'skdbskjbdsd']"
            ]
          },
          "metadata": {},
          "execution_count": 76
        }
      ]
    },
    {
      "cell_type": "code",
      "source": [
        "bigram.transform(test_text_2)"
      ],
      "metadata": {
        "id": "5SNCOLnFIoWu",
        "outputId": "fb3d5b6e-bd34-41e0-e628-f5c595e928d4",
        "colab": {
          "base_uri": "https://localhost:8080/"
        }
      },
      "execution_count": 79,
      "outputs": [
        {
          "output_type": "execute_result",
          "data": {
            "text/plain": [
              "<3x13 sparse matrix of type '<class 'numpy.int64'>'\n",
              "\twith 13 stored elements in Compressed Sparse Row format>"
            ]
          },
          "metadata": {},
          "execution_count": 79
        }
      ]
    },
    {
      "cell_type": "code",
      "source": [
        "X"
      ],
      "metadata": {
        "id": "vS8ccXopIxzF",
        "outputId": "5b5ccc35-38a4-4ad1-8b42-0a096e98f175",
        "colab": {
          "base_uri": "https://localhost:8080/"
        }
      },
      "execution_count": 103,
      "outputs": [
        {
          "output_type": "execute_result",
          "data": {
            "text/plain": [
              "<3x10 sparse matrix of type '<class 'numpy.float64'>'\n",
              "\twith 10 stored elements in Dictionary Of Keys format>"
            ]
          },
          "metadata": {},
          "execution_count": 103
        }
      ]
    },
    {
      "cell_type": "code",
      "source": [
        "print(\"Sentence Encoding: \\n\")\n",
        "# Print the encoding of each line\n",
        "for (text, encoding) in zip(test_text_2, bigram.transform(test_text_2)):\n",
        "    print(text)\n",
        "    print(encoding)\n",
        "    print(\"------------------\")"
      ],
      "metadata": {
        "id": "KyB8wxLHCcxV",
        "outputId": "e700852d-6099-4aae-908d-d0a90d39c2cb",
        "colab": {
          "base_uri": "https://localhost:8080/"
        }
      },
      "execution_count": 78,
      "outputs": [
        {
          "output_type": "stream",
          "name": "stdout",
          "text": [
            "Sentence Encoding: \n",
            "\n",
            "my name ius GK\n",
            "  (0, 5)\t1\n",
            "  (0, 6)\t1\n",
            "  (0, 7)\t1\n",
            "  (0, 8)\t1\n",
            "  (0, 9)\t1\n",
            "  (0, 10)\t1\n",
            "  (0, 11)\t1\n",
            "------------------\n",
            "fdhbsjhb skdbskjbdsd d\n",
            "  (0, 3)\t1\n",
            "  (0, 4)\t1\n",
            "  (0, 12)\t1\n",
            "------------------\n",
            "dfdf efdf e\n",
            "  (0, 0)\t1\n",
            "  (0, 1)\t1\n",
            "  (0, 2)\t1\n",
            "------------------\n"
          ]
        }
      ]
    },
    {
      "cell_type": "code",
      "source": [
        "def binary_bow_featurize(text):\n",
        "  feats = {}\n",
        "  words = nltk.word_tokenize(text)\n",
        "\n",
        "  for word in words:\n",
        "      word=word.lower()\n",
        "      feats[word]=1\n",
        "          \n",
        "  return feats\n",
        "\n",
        "\n",
        "def featurize(data):\n",
        "    featurized_data = []\n",
        "    for text in data:\n",
        "        feats = binary_bow_featurize(text)\n",
        "        featurized_data.append(feats)\n",
        "    return featurized_data"
      ],
      "metadata": {
        "id": "m1V7OFrwJWwl"
      },
      "execution_count": 80,
      "outputs": []
    },
    {
      "cell_type": "code",
      "source": [
        "test_text_2=['my name ius GK','fdhbsjhb skdbskjbdsd d','dfdf efdf e']\n",
        "featurize(test_text_2)"
      ],
      "metadata": {
        "id": "2544OzI2JYwA",
        "outputId": "d568b334-9f0f-4998-d966-adbc824f5298",
        "colab": {
          "base_uri": "https://localhost:8080/"
        }
      },
      "execution_count": 81,
      "outputs": [
        {
          "output_type": "execute_result",
          "data": {
            "text/plain": [
              "[{'gk': 1, 'ius': 1, 'my': 1, 'name': 1},\n",
              " {'d': 1, 'fdhbsjhb': 1, 'skdbskjbdsd': 1},\n",
              " {'dfdf': 1, 'e': 1, 'efdf': 1}]"
            ]
          },
          "metadata": {},
          "execution_count": 81
        }
      ]
    },
    {
      "cell_type": "code",
      "source": [
        "data = featurize(test_text_2)\n",
        "feature_doc_count = Counter()\n",
        "for feats in data:\n",
        "    for feat in feats:\n",
        "        feature_doc_count[feat]+= 1\n",
        "\n",
        "fid = 0\n",
        "feature_vocab = {}\n",
        "for feat in feature_doc_count:\n",
        "  print(feat)\n",
        "  if feature_doc_count[feat] >= 1:\n",
        "      feature_vocab[feat] = fid\n",
        "      fid += 1\n",
        "\n",
        "\n",
        "F = len(feature_vocab)\n",
        "D = len(data)\n",
        "X = sparse.dok_matrix((D, F))\n",
        "for idx, feats in enumerate(data):\n",
        "    for feat in feats:\n",
        "        if feat in feature_vocab:\n",
        "            X[idx, feature_vocab[feat]] = feats[feat]"
      ],
      "metadata": {
        "id": "SMAYwdSTJtia",
        "outputId": "18679286-0a2a-4e57-9e66-9c40cd252ce7",
        "colab": {
          "base_uri": "https://localhost:8080/"
        }
      },
      "execution_count": 99,
      "outputs": [
        {
          "output_type": "stream",
          "name": "stdout",
          "text": [
            "my\n",
            "name\n",
            "ius\n",
            "gk\n",
            "fdhbsjhb\n",
            "skdbskjbdsd\n",
            "d\n",
            "dfdf\n",
            "efdf\n",
            "e\n"
          ]
        }
      ]
    },
    {
      "cell_type": "code",
      "source": [
        "X"
      ],
      "metadata": {
        "id": "5pz2UDbcMMi6",
        "outputId": "8637ee50-286c-40b9-8f60-92c2b712f39b",
        "colab": {
          "base_uri": "https://localhost:8080/"
        }
      },
      "execution_count": 102,
      "outputs": [
        {
          "output_type": "execute_result",
          "data": {
            "text/plain": [
              "<3x10 sparse matrix of type '<class 'numpy.float64'>'\n",
              "\twith 10 stored elements in Dictionary Of Keys format>"
            ]
          },
          "metadata": {},
          "execution_count": 102
        }
      ]
    },
    {
      "cell_type": "code",
      "source": [
        "class Classifier_ngram:\n",
        "\n",
        "    def __init__(self, trainX, trainY, devX, devY, testX, testY):\n",
        "        self.feature_vocab = {}\n",
        "        # self.feature_method = feature_method\n",
        "        self.min_feature_count=2\n",
        "        self.log_reg = None\n",
        "\n",
        "        self.trainY=trainY\n",
        "        self.devY=devY\n",
        "        self.testY=testY\n",
        "        \n",
        "        self.trainX = self.process(trainX)\n",
        "        print(self.trainX.shape)\n",
        "        self.devX = self.process(devX)\n",
        "        self.testX = self.process(testX)\n",
        "\n",
        "\n",
        "\n",
        "    # Featurize entire dataset\n",
        "    # def featurize(self, data):\n",
        "    #     featurized_data = []\n",
        "    #     for text in data:\n",
        "    #         feats = self.feature_method(text)\n",
        "    #         featurized_data.append(feats)\n",
        "    #     return featurized_data\n",
        "\n",
        "\n",
        "    # def binary_bow_featurize(text):\n",
        "    #   feats = {}\n",
        "    #   words = nltk.word_tokenize(text)\n",
        "\n",
        "    #   for word in words:\n",
        "    #       word=word.lower()\n",
        "    #       feats[word]=1\n",
        "              \n",
        "    #   return feats\n",
        "    # Read dataset and returned featurized representation as sparse matrix + label array\n",
        "    def process(self, X_data, training = False):\n",
        "\n",
        "\n",
        "        bigram = CountVectorizer(ngram_range=(1, 2))\n",
        "        X = bigram.fit_transform(X_data)\n",
        "\n",
        "        print(\"X:\",X.shape)\n",
        "          \n",
        "        # data = self.featurize(X_data)\n",
        "\n",
        "        if training:\n",
        "            fid = 0\n",
        "            feature_doc_count = Counter()\n",
        "            for feats in data:\n",
        "                for feat in feats:\n",
        "                    feature_doc_count[feat]+= 1\n",
        "\n",
        "            for feat in feature_doc_count:\n",
        "                if feature_doc_count[feat] >= self.min_feature_count:\n",
        "                    self.feature_vocab[feat] = fid\n",
        "                    fid += 1\n",
        "\n",
        "        F = len(self.feature_vocab)\n",
        "        D = len(data)\n",
        "        X = sparse.dok_matrix((D, F))\n",
        "        for idx, feats in enumerate(data):\n",
        "            for feat in feats:\n",
        "                if feat in self.feature_vocab:\n",
        "                    X[idx, self.feature_vocab[feat]] = feats[feat]\n",
        "\n",
        "        return X\n",
        "\n",
        "    # Train model and evaluate on held-out data\n",
        "    def train(self):\n",
        "        (D,F) = self.trainX.shape\n",
        "        print(D)\n",
        "        print(F)\n",
        "        best_dev_accuracy=0\n",
        "        best_model=None\n",
        "        for C in [0.1, 1, 10, 100]:\n",
        "            self.log_reg = linear_model.LogisticRegression(C = C, max_iter=1000)\n",
        "            self.log_reg.fit(self.trainX, self.trainY)\n",
        "            training_accuracy = self.log_reg.score(self.trainX, self.trainY)\n",
        "            development_accuracy = self.log_reg.score(self.devX, self.devY)\n",
        "            if development_accuracy > best_dev_accuracy:\n",
        "                best_dev_accuracy=development_accuracy\n",
        "                best_model=self.log_reg\n",
        "\n",
        "#             print(\"C: %s, Train accuracy: %.3f, Dev accuracy: %.3f\" % (C, training_accuracy, development_accuracy))\n",
        "\n",
        "        self.log_reg=best_model\n",
        "        \n",
        "\n",
        "    def test(self):\n",
        "      return self.log_reg.score(self.testX, self.testY)\n",
        "\n",
        "    def dev(self):\n",
        "      return self.log_reg.score(self.devX, self.devY)\n",
        "        \n",
        "\n",
        "    def printWeights(self, n=10):\n",
        "\n",
        "        reverse_vocab=[None]*len(self.log_reg.coef_[0])\n",
        "        for k in self.feature_vocab:\n",
        "            reverse_vocab[self.feature_vocab[k]]=k\n",
        "\n",
        "        # binary\n",
        "        if len(self.log_reg.classes_) == 2:\n",
        "              weights=self.log_reg.coef_[0]\n",
        "\n",
        "              cat=self.log_reg.classes_[1]\n",
        "              for feature, weight in list(reversed(sorted(zip(reverse_vocab, weights), key = operator.itemgetter(1))))[:n]:\n",
        "                  print(\"%s\\t%.3f\\t%s\" % (cat, weight, feature))\n",
        "              print()\n",
        "\n",
        "              cat=self.log_reg.classes_[0]\n",
        "              for feature, weight in list(sorted(zip(reverse_vocab, weights), key = operator.itemgetter(1)))[:n]:\n",
        "                  print(\"%s\\t%.3f\\t%s\" % (cat, weight, feature))\n",
        "              print()\n",
        "\n",
        "        # multiclass\n",
        "        else:\n",
        "          for i, cat in enumerate(self.log_reg.classes_):\n",
        "\n",
        "              weights=self.log_reg.coef_[i]\n",
        "\n",
        "              for feature, weight in list(reversed(sorted(zip(reverse_vocab, weights), key = operator.itemgetter(1))))[:n]:\n",
        "                  print(\"%s\\t%.3f\\t%s\" % (cat, weight, feature))\n",
        "              print()\n",
        "\n",
        "            "
      ],
      "metadata": {
        "id": "qCMhvS71C4ly"
      },
      "execution_count": 32,
      "outputs": []
    },
    {
      "cell_type": "code",
      "source": [
        "def run_ngram(trainingFile, devFile, testFile):\n",
        "    trainX, trainY=load_data(trainingFile)\n",
        "    devX, devY=load_data(devFile)\n",
        "    testX, testY=load_data(testFile)\n",
        "\n",
        "    # remove stopwords\n",
        "    # trainX = list(map(remove_stop_df, trainX))\n",
        "    # devX = list(map(remove_stop_df, devX))\n",
        "    # testX = list(map(remove_stop_df, testX))\n",
        "\n",
        "    # remove punct\n",
        "    # trainX = list(map(punct_removal, trainX))\n",
        "    # devX = list(map(punct_removal, devX))\n",
        "    # testX = list(map(punct_removal, testX))\n",
        "\n",
        "    simple_classifier = Classifier_ngram(trainX, trainY, devX, devY, testX, testY)\n",
        "    simple_classifier.train()\n",
        "    accuracy_test=simple_classifier.test()\n",
        "    accuracy_dev=simple_classifier.dev()\n",
        "    \n",
        "    lower, upper=confidence_intervals(accuracy_dev, len(devY), .95)\n",
        "    print(\"Dev accuracy for best dev model: %.3f, 95%% CIs: [%.3f %.3f]\\n\" % (accuracy_dev, lower, upper))\n",
        "    lower, upper=confidence_intervals(accuracy_dev, len(testY), .95)\n",
        "    print(\"Test accuracy for best dev model: %.3f, 95%% CIs: [%.3f %.3f]\\n\" % (accuracy_test, lower, upper))\n",
        "\n",
        "    print_confusion(simple_classifier)\n",
        "    print_confusion_test(simple_classifier)\n",
        "    \n",
        "    simple_classifier.printWeights()"
      ],
      "metadata": {
        "id": "N7Xf2_W2d8o-"
      },
      "execution_count": 33,
      "outputs": []
    },
    {
      "cell_type": "code",
      "source": [
        "run_ngram(trainingFile, devFile, testFile)"
      ],
      "metadata": {
        "id": "MdeJPMUPeFqo",
        "outputId": "db2e37f8-b7f9-4dbc-e3f4-95fff92f48b2",
        "colab": {
          "base_uri": "https://localhost:8080/",
          "height": 436
        }
      },
      "execution_count": 34,
      "outputs": [
        {
          "output_type": "stream",
          "name": "stdout",
          "text": [
            "X: (600, 28594)\n",
            "(600, 28594)\n",
            "X: (200, 11524)\n",
            "X: (200, 14708)\n",
            "600\n",
            "28594\n"
          ]
        },
        {
          "output_type": "error",
          "ename": "ValueError",
          "evalue": "ignored",
          "traceback": [
            "\u001b[0;31m---------------------------------------------------------------------------\u001b[0m",
            "\u001b[0;31mValueError\u001b[0m                                Traceback (most recent call last)",
            "\u001b[0;32m<ipython-input-34-a4d404ed0773>\u001b[0m in \u001b[0;36m<module>\u001b[0;34m()\u001b[0m\n\u001b[0;32m----> 1\u001b[0;31m \u001b[0mrun_ngram\u001b[0m\u001b[0;34m(\u001b[0m\u001b[0mtrainingFile\u001b[0m\u001b[0;34m,\u001b[0m \u001b[0mdevFile\u001b[0m\u001b[0;34m,\u001b[0m \u001b[0mtestFile\u001b[0m\u001b[0;34m)\u001b[0m\u001b[0;34m\u001b[0m\u001b[0;34m\u001b[0m\u001b[0m\n\u001b[0m",
            "\u001b[0;32m<ipython-input-33-8659025928e3>\u001b[0m in \u001b[0;36mrun_ngram\u001b[0;34m(trainingFile, devFile, testFile)\u001b[0m\n\u001b[1;32m     15\u001b[0m \u001b[0;34m\u001b[0m\u001b[0m\n\u001b[1;32m     16\u001b[0m     \u001b[0msimple_classifier\u001b[0m \u001b[0;34m=\u001b[0m \u001b[0mClassifier_ngram\u001b[0m\u001b[0;34m(\u001b[0m\u001b[0mtrainX\u001b[0m\u001b[0;34m,\u001b[0m \u001b[0mtrainY\u001b[0m\u001b[0;34m,\u001b[0m \u001b[0mdevX\u001b[0m\u001b[0;34m,\u001b[0m \u001b[0mdevY\u001b[0m\u001b[0;34m,\u001b[0m \u001b[0mtestX\u001b[0m\u001b[0;34m,\u001b[0m \u001b[0mtestY\u001b[0m\u001b[0;34m)\u001b[0m\u001b[0;34m\u001b[0m\u001b[0;34m\u001b[0m\u001b[0m\n\u001b[0;32m---> 17\u001b[0;31m     \u001b[0msimple_classifier\u001b[0m\u001b[0;34m.\u001b[0m\u001b[0mtrain\u001b[0m\u001b[0;34m(\u001b[0m\u001b[0;34m)\u001b[0m\u001b[0;34m\u001b[0m\u001b[0;34m\u001b[0m\u001b[0m\n\u001b[0m\u001b[1;32m     18\u001b[0m     \u001b[0maccuracy_test\u001b[0m\u001b[0;34m=\u001b[0m\u001b[0msimple_classifier\u001b[0m\u001b[0;34m.\u001b[0m\u001b[0mtest\u001b[0m\u001b[0;34m(\u001b[0m\u001b[0;34m)\u001b[0m\u001b[0;34m\u001b[0m\u001b[0;34m\u001b[0m\u001b[0m\n\u001b[1;32m     19\u001b[0m     \u001b[0maccuracy_dev\u001b[0m\u001b[0;34m=\u001b[0m\u001b[0msimple_classifier\u001b[0m\u001b[0;34m.\u001b[0m\u001b[0mdev\u001b[0m\u001b[0;34m(\u001b[0m\u001b[0;34m)\u001b[0m\u001b[0;34m\u001b[0m\u001b[0;34m\u001b[0m\u001b[0m\n",
            "\u001b[0;32m<ipython-input-32-74660b9e4b4d>\u001b[0m in \u001b[0;36mtrain\u001b[0;34m(self)\u001b[0m\n\u001b[1;32m     80\u001b[0m             \u001b[0mself\u001b[0m\u001b[0;34m.\u001b[0m\u001b[0mlog_reg\u001b[0m\u001b[0;34m.\u001b[0m\u001b[0mfit\u001b[0m\u001b[0;34m(\u001b[0m\u001b[0mself\u001b[0m\u001b[0;34m.\u001b[0m\u001b[0mtrainX\u001b[0m\u001b[0;34m,\u001b[0m \u001b[0mself\u001b[0m\u001b[0;34m.\u001b[0m\u001b[0mtrainY\u001b[0m\u001b[0;34m)\u001b[0m\u001b[0;34m\u001b[0m\u001b[0;34m\u001b[0m\u001b[0m\n\u001b[1;32m     81\u001b[0m             \u001b[0mtraining_accuracy\u001b[0m \u001b[0;34m=\u001b[0m \u001b[0mself\u001b[0m\u001b[0;34m.\u001b[0m\u001b[0mlog_reg\u001b[0m\u001b[0;34m.\u001b[0m\u001b[0mscore\u001b[0m\u001b[0;34m(\u001b[0m\u001b[0mself\u001b[0m\u001b[0;34m.\u001b[0m\u001b[0mtrainX\u001b[0m\u001b[0;34m,\u001b[0m \u001b[0mself\u001b[0m\u001b[0;34m.\u001b[0m\u001b[0mtrainY\u001b[0m\u001b[0;34m)\u001b[0m\u001b[0;34m\u001b[0m\u001b[0;34m\u001b[0m\u001b[0m\n\u001b[0;32m---> 82\u001b[0;31m             \u001b[0mdevelopment_accuracy\u001b[0m \u001b[0;34m=\u001b[0m \u001b[0mself\u001b[0m\u001b[0;34m.\u001b[0m\u001b[0mlog_reg\u001b[0m\u001b[0;34m.\u001b[0m\u001b[0mscore\u001b[0m\u001b[0;34m(\u001b[0m\u001b[0mself\u001b[0m\u001b[0;34m.\u001b[0m\u001b[0mdevX\u001b[0m\u001b[0;34m,\u001b[0m \u001b[0mself\u001b[0m\u001b[0;34m.\u001b[0m\u001b[0mdevY\u001b[0m\u001b[0;34m)\u001b[0m\u001b[0;34m\u001b[0m\u001b[0;34m\u001b[0m\u001b[0m\n\u001b[0m\u001b[1;32m     83\u001b[0m             \u001b[0;32mif\u001b[0m \u001b[0mdevelopment_accuracy\u001b[0m \u001b[0;34m>\u001b[0m \u001b[0mbest_dev_accuracy\u001b[0m\u001b[0;34m:\u001b[0m\u001b[0;34m\u001b[0m\u001b[0;34m\u001b[0m\u001b[0m\n\u001b[1;32m     84\u001b[0m                 \u001b[0mbest_dev_accuracy\u001b[0m\u001b[0;34m=\u001b[0m\u001b[0mdevelopment_accuracy\u001b[0m\u001b[0;34m\u001b[0m\u001b[0;34m\u001b[0m\u001b[0m\n",
            "\u001b[0;32m/usr/local/lib/python3.7/dist-packages/sklearn/base.py\u001b[0m in \u001b[0;36mscore\u001b[0;34m(self, X, y, sample_weight)\u001b[0m\n\u001b[1;32m    649\u001b[0m         \u001b[0;32mfrom\u001b[0m \u001b[0;34m.\u001b[0m\u001b[0mmetrics\u001b[0m \u001b[0;32mimport\u001b[0m \u001b[0maccuracy_score\u001b[0m\u001b[0;34m\u001b[0m\u001b[0;34m\u001b[0m\u001b[0m\n\u001b[1;32m    650\u001b[0m \u001b[0;34m\u001b[0m\u001b[0m\n\u001b[0;32m--> 651\u001b[0;31m         \u001b[0;32mreturn\u001b[0m \u001b[0maccuracy_score\u001b[0m\u001b[0;34m(\u001b[0m\u001b[0my\u001b[0m\u001b[0;34m,\u001b[0m \u001b[0mself\u001b[0m\u001b[0;34m.\u001b[0m\u001b[0mpredict\u001b[0m\u001b[0;34m(\u001b[0m\u001b[0mX\u001b[0m\u001b[0;34m)\u001b[0m\u001b[0;34m,\u001b[0m \u001b[0msample_weight\u001b[0m\u001b[0;34m=\u001b[0m\u001b[0msample_weight\u001b[0m\u001b[0;34m)\u001b[0m\u001b[0;34m\u001b[0m\u001b[0;34m\u001b[0m\u001b[0m\n\u001b[0m\u001b[1;32m    652\u001b[0m \u001b[0;34m\u001b[0m\u001b[0m\n\u001b[1;32m    653\u001b[0m     \u001b[0;32mdef\u001b[0m \u001b[0m_more_tags\u001b[0m\u001b[0;34m(\u001b[0m\u001b[0mself\u001b[0m\u001b[0;34m)\u001b[0m\u001b[0;34m:\u001b[0m\u001b[0;34m\u001b[0m\u001b[0;34m\u001b[0m\u001b[0m\n",
            "\u001b[0;32m/usr/local/lib/python3.7/dist-packages/sklearn/linear_model/_base.py\u001b[0m in \u001b[0;36mpredict\u001b[0;34m(self, X)\u001b[0m\n\u001b[1;32m    423\u001b[0m             \u001b[0mVector\u001b[0m \u001b[0mcontaining\u001b[0m \u001b[0mthe\u001b[0m \u001b[0;32mclass\u001b[0m \u001b[0mlabels\u001b[0m \u001b[0;32mfor\u001b[0m \u001b[0meach\u001b[0m \u001b[0msample\u001b[0m\u001b[0;34m.\u001b[0m\u001b[0;34m\u001b[0m\u001b[0;34m\u001b[0m\u001b[0m\n\u001b[1;32m    424\u001b[0m         \"\"\"\n\u001b[0;32m--> 425\u001b[0;31m         \u001b[0mscores\u001b[0m \u001b[0;34m=\u001b[0m \u001b[0mself\u001b[0m\u001b[0;34m.\u001b[0m\u001b[0mdecision_function\u001b[0m\u001b[0;34m(\u001b[0m\u001b[0mX\u001b[0m\u001b[0;34m)\u001b[0m\u001b[0;34m\u001b[0m\u001b[0;34m\u001b[0m\u001b[0m\n\u001b[0m\u001b[1;32m    426\u001b[0m         \u001b[0;32mif\u001b[0m \u001b[0mlen\u001b[0m\u001b[0;34m(\u001b[0m\u001b[0mscores\u001b[0m\u001b[0;34m.\u001b[0m\u001b[0mshape\u001b[0m\u001b[0;34m)\u001b[0m \u001b[0;34m==\u001b[0m \u001b[0;36m1\u001b[0m\u001b[0;34m:\u001b[0m\u001b[0;34m\u001b[0m\u001b[0;34m\u001b[0m\u001b[0m\n\u001b[1;32m    427\u001b[0m             \u001b[0mindices\u001b[0m \u001b[0;34m=\u001b[0m \u001b[0;34m(\u001b[0m\u001b[0mscores\u001b[0m \u001b[0;34m>\u001b[0m \u001b[0;36m0\u001b[0m\u001b[0;34m)\u001b[0m\u001b[0;34m.\u001b[0m\u001b[0mastype\u001b[0m\u001b[0;34m(\u001b[0m\u001b[0mint\u001b[0m\u001b[0;34m)\u001b[0m\u001b[0;34m\u001b[0m\u001b[0;34m\u001b[0m\u001b[0m\n",
            "\u001b[0;32m/usr/local/lib/python3.7/dist-packages/sklearn/linear_model/_base.py\u001b[0m in \u001b[0;36mdecision_function\u001b[0;34m(self, X)\u001b[0m\n\u001b[1;32m    405\u001b[0m         \u001b[0mcheck_is_fitted\u001b[0m\u001b[0;34m(\u001b[0m\u001b[0mself\u001b[0m\u001b[0;34m)\u001b[0m\u001b[0;34m\u001b[0m\u001b[0;34m\u001b[0m\u001b[0m\n\u001b[1;32m    406\u001b[0m \u001b[0;34m\u001b[0m\u001b[0m\n\u001b[0;32m--> 407\u001b[0;31m         \u001b[0mX\u001b[0m \u001b[0;34m=\u001b[0m \u001b[0mself\u001b[0m\u001b[0;34m.\u001b[0m\u001b[0m_validate_data\u001b[0m\u001b[0;34m(\u001b[0m\u001b[0mX\u001b[0m\u001b[0;34m,\u001b[0m \u001b[0maccept_sparse\u001b[0m\u001b[0;34m=\u001b[0m\u001b[0;34m\"csr\"\u001b[0m\u001b[0;34m,\u001b[0m \u001b[0mreset\u001b[0m\u001b[0;34m=\u001b[0m\u001b[0;32mFalse\u001b[0m\u001b[0;34m)\u001b[0m\u001b[0;34m\u001b[0m\u001b[0;34m\u001b[0m\u001b[0m\n\u001b[0m\u001b[1;32m    408\u001b[0m         \u001b[0mscores\u001b[0m \u001b[0;34m=\u001b[0m \u001b[0msafe_sparse_dot\u001b[0m\u001b[0;34m(\u001b[0m\u001b[0mX\u001b[0m\u001b[0;34m,\u001b[0m \u001b[0mself\u001b[0m\u001b[0;34m.\u001b[0m\u001b[0mcoef_\u001b[0m\u001b[0;34m.\u001b[0m\u001b[0mT\u001b[0m\u001b[0;34m,\u001b[0m \u001b[0mdense_output\u001b[0m\u001b[0;34m=\u001b[0m\u001b[0;32mTrue\u001b[0m\u001b[0;34m)\u001b[0m \u001b[0;34m+\u001b[0m \u001b[0mself\u001b[0m\u001b[0;34m.\u001b[0m\u001b[0mintercept_\u001b[0m\u001b[0;34m\u001b[0m\u001b[0;34m\u001b[0m\u001b[0m\n\u001b[1;32m    409\u001b[0m         \u001b[0;32mreturn\u001b[0m \u001b[0mscores\u001b[0m\u001b[0;34m.\u001b[0m\u001b[0mravel\u001b[0m\u001b[0;34m(\u001b[0m\u001b[0;34m)\u001b[0m \u001b[0;32mif\u001b[0m \u001b[0mscores\u001b[0m\u001b[0;34m.\u001b[0m\u001b[0mshape\u001b[0m\u001b[0;34m[\u001b[0m\u001b[0;36m1\u001b[0m\u001b[0;34m]\u001b[0m \u001b[0;34m==\u001b[0m \u001b[0;36m1\u001b[0m \u001b[0;32melse\u001b[0m \u001b[0mscores\u001b[0m\u001b[0;34m\u001b[0m\u001b[0;34m\u001b[0m\u001b[0m\n",
            "\u001b[0;32m/usr/local/lib/python3.7/dist-packages/sklearn/base.py\u001b[0m in \u001b[0;36m_validate_data\u001b[0;34m(self, X, y, reset, validate_separately, **check_params)\u001b[0m\n\u001b[1;32m    583\u001b[0m \u001b[0;34m\u001b[0m\u001b[0m\n\u001b[1;32m    584\u001b[0m         \u001b[0;32mif\u001b[0m \u001b[0;32mnot\u001b[0m \u001b[0mno_val_X\u001b[0m \u001b[0;32mand\u001b[0m \u001b[0mcheck_params\u001b[0m\u001b[0;34m.\u001b[0m\u001b[0mget\u001b[0m\u001b[0;34m(\u001b[0m\u001b[0;34m\"ensure_2d\"\u001b[0m\u001b[0;34m,\u001b[0m \u001b[0;32mTrue\u001b[0m\u001b[0;34m)\u001b[0m\u001b[0;34m:\u001b[0m\u001b[0;34m\u001b[0m\u001b[0;34m\u001b[0m\u001b[0m\n\u001b[0;32m--> 585\u001b[0;31m             \u001b[0mself\u001b[0m\u001b[0;34m.\u001b[0m\u001b[0m_check_n_features\u001b[0m\u001b[0;34m(\u001b[0m\u001b[0mX\u001b[0m\u001b[0;34m,\u001b[0m \u001b[0mreset\u001b[0m\u001b[0;34m=\u001b[0m\u001b[0mreset\u001b[0m\u001b[0;34m)\u001b[0m\u001b[0;34m\u001b[0m\u001b[0;34m\u001b[0m\u001b[0m\n\u001b[0m\u001b[1;32m    586\u001b[0m \u001b[0;34m\u001b[0m\u001b[0m\n\u001b[1;32m    587\u001b[0m         \u001b[0;32mreturn\u001b[0m \u001b[0mout\u001b[0m\u001b[0;34m\u001b[0m\u001b[0;34m\u001b[0m\u001b[0m\n",
            "\u001b[0;32m/usr/local/lib/python3.7/dist-packages/sklearn/base.py\u001b[0m in \u001b[0;36m_check_n_features\u001b[0;34m(self, X, reset)\u001b[0m\n\u001b[1;32m    399\u001b[0m         \u001b[0;32mif\u001b[0m \u001b[0mn_features\u001b[0m \u001b[0;34m!=\u001b[0m \u001b[0mself\u001b[0m\u001b[0;34m.\u001b[0m\u001b[0mn_features_in_\u001b[0m\u001b[0;34m:\u001b[0m\u001b[0;34m\u001b[0m\u001b[0;34m\u001b[0m\u001b[0m\n\u001b[1;32m    400\u001b[0m             raise ValueError(\n\u001b[0;32m--> 401\u001b[0;31m                 \u001b[0;34mf\"X has {n_features} features, but {self.__class__.__name__} \"\u001b[0m\u001b[0;34m\u001b[0m\u001b[0;34m\u001b[0m\u001b[0m\n\u001b[0m\u001b[1;32m    402\u001b[0m                 \u001b[0;34mf\"is expecting {self.n_features_in_} features as input.\"\u001b[0m\u001b[0;34m\u001b[0m\u001b[0;34m\u001b[0m\u001b[0m\n\u001b[1;32m    403\u001b[0m             )\n",
            "\u001b[0;31mValueError\u001b[0m: X has 11524 features, but LogisticRegression is expecting 28594 features as input."
          ]
        }
      ]
    },
    {
      "cell_type": "code",
      "source": [
        ""
      ],
      "metadata": {
        "id": "YkGUfIE4eF-g"
      },
      "execution_count": null,
      "outputs": []
    }
  ],
  "metadata": {
    "colab": {
      "collapsed_sections": [],
      "name": "LogReg.ipynb",
      "provenance": [],
      "include_colab_link": true
    },
    "kernelspec": {
      "display_name": "Python 3 (ipykernel)",
      "language": "python",
      "name": "python3"
    },
    "language_info": {
      "codemirror_mode": {
        "name": "ipython",
        "version": 3
      },
      "file_extension": ".py",
      "mimetype": "text/x-python",
      "name": "python",
      "nbconvert_exporter": "python",
      "pygments_lexer": "ipython3",
      "version": "3.8.8"
    }
  },
  "nbformat": 4,
  "nbformat_minor": 0
}