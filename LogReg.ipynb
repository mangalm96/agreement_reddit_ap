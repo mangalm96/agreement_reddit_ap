{
  "cells": [
    {
      "cell_type": "markdown",
      "metadata": {
        "id": "view-in-github",
        "colab_type": "text"
      },
      "source": [
        "<a href=\"https://colab.research.google.com/github/mangalm96/agreement_reddit_ap/blob/main/LogReg.ipynb\" target=\"_parent\"><img src=\"https://colab.research.google.com/assets/colab-badge.svg\" alt=\"Open In Colab\"/></a>"
      ]
    },
    {
      "cell_type": "markdown",
      "metadata": {
        "id": "uq0J5fpzaN5p"
      },
      "source": [
        "L2-regularized logistic regression for binary or multiclass classification; trains a model (on `train.txt`), optimizes L2 regularization strength on `dev.txt`, and evaluates performance on `test.txt`.  Reports test accuracy with 95% confidence intervals and prints out the strongest coefficients for each class."
      ]
    },
    {
      "cell_type": "code",
      "execution_count": 1,
      "metadata": {
        "id": "TQTT9x-6d2JI"
      },
      "outputs": [],
      "source": [
        "from scipy import sparse\n",
        "from sklearn import linear_model\n",
        "from collections import Counter\n",
        "import numpy as np\n",
        "import operator\n",
        "import nltk\n",
        "import math\n",
        "from scipy.stats import norm\n",
        "import nltk\n",
        "nltk.download('stopwords')\n",
        "from nltk.corpus import stopwords\n",
        "from nltk.tokenize import word_tokenize"
      ]
    },
    {
      "cell_type": "code",
      "execution_count": 2,
      "metadata": {
        "id": "e4KuVSCSqlUX",
        "scrolled": true,
        "outputId": "2518ab28-1b43-4175-f5e0-30ab134cb0db",
        "colab": {
          "base_uri": "https://localhost:8080/"
        }
      },
      "outputs": [
        {
          "output_type": "stream",
          "name": "stdout",
          "text": [
            "/usr/lib/python3.7/runpy.py:125: RuntimeWarning: 'nltk.downloader' found in sys.modules after import of package 'nltk', but prior to execution of 'nltk.downloader'; this may result in unpredictable behaviour\n",
            "  warn(RuntimeWarning(msg))\n",
            "[nltk_data] Downloading package punkt to /root/nltk_data...\n",
            "[nltk_data]   Unzipping tokenizers/punkt.zip.\n"
          ]
        }
      ],
      "source": [
        "!python -m nltk.downloader punkt"
      ]
    },
    {
      "cell_type": "code",
      "source": [
        "# If you have your folder of data on your Google drive account, you can connect that here\n",
        "from google.colab import drive\n",
        "drive.mount('/content/drive')"
      ],
      "metadata": {
        "id": "e9LBAOqSar4U",
        "outputId": "744430da-8939-4f77-da12-2693ed335335",
        "colab": {
          "base_uri": "https://localhost:8080/"
        }
      },
      "execution_count": 3,
      "outputs": [
        {
          "output_type": "stream",
          "name": "stdout",
          "text": [
            "Mounted at /content/drive\n"
          ]
        }
      ]
    },
    {
      "cell_type": "code",
      "source": [
        "# Change this to the directory with your data\n",
        "directory=\"/content/drive/MyDrive/Agreement_Reddit_AP/data/\""
      ],
      "metadata": {
        "id": "phhy5RpAasZY"
      },
      "execution_count": 4,
      "outputs": []
    },
    {
      "cell_type": "code",
      "execution_count": 5,
      "metadata": {
        "id": "-esP6NmXaN5u"
      },
      "outputs": [],
      "source": [
        "def load_data(filename):\n",
        "    X = []\n",
        "    Y = []\n",
        "    with open(filename, encoding=\"utf-8\") as file:\n",
        "        for line in file:\n",
        "            cols = line.split(\"\\t\")\n",
        "            idd = cols[0]\n",
        "            label = cols[1].lstrip().rstrip()\n",
        "            text = cols[2]\n",
        "\n",
        "            X.append(text)\n",
        "            Y.append(label)\n",
        "\n",
        "    return X, Y\n"
      ]
    },
    {
      "cell_type": "code",
      "execution_count": 6,
      "metadata": {
        "id": "CGiM8qQiJOBU"
      },
      "outputs": [],
      "source": [
        "class Classifier:\n",
        "\n",
        "    def __init__(self, feature_method, trainX, trainY, devX, devY, testX, testY):\n",
        "        self.feature_vocab = {}\n",
        "        self.feature_method = feature_method\n",
        "        self.min_feature_count=2\n",
        "        self.log_reg = None\n",
        "\n",
        "        self.trainY=trainY\n",
        "        self.devY=devY\n",
        "        self.testY=testY\n",
        "        \n",
        "        self.trainX = self.process(trainX, training=True)\n",
        "        self.devX = self.process(devX, training=False)\n",
        "        self.testX = self.process(testX, training=False)\n",
        "\n",
        "\n",
        "\n",
        "    # Featurize entire dataset\n",
        "    def featurize(self, data):\n",
        "        featurized_data = []\n",
        "        for text in data:\n",
        "            feats = self.feature_method(text)\n",
        "            featurized_data.append(feats)\n",
        "        return featurized_data\n",
        "\n",
        "    # Read dataset and returned featurized representation as sparse matrix + label array\n",
        "    def process(self, X_data, training = False):\n",
        "          \n",
        "        data = self.featurize(X_data)\n",
        "\n",
        "        if training:\n",
        "            fid = 0\n",
        "            feature_doc_count = Counter()\n",
        "            for feats in data:\n",
        "                for feat in feats:\n",
        "                    feature_doc_count[feat]+= 1\n",
        "\n",
        "            for feat in feature_doc_count:\n",
        "                if feature_doc_count[feat] >= self.min_feature_count:\n",
        "                    self.feature_vocab[feat] = fid\n",
        "                    fid += 1\n",
        "\n",
        "        F = len(self.feature_vocab)\n",
        "        D = len(data)\n",
        "        X = sparse.dok_matrix((D, F))\n",
        "        for idx, feats in enumerate(data):\n",
        "            for feat in feats:\n",
        "                if feat in self.feature_vocab:\n",
        "                    X[idx, self.feature_vocab[feat]] = feats[feat]\n",
        "\n",
        "        return X\n",
        "\n",
        "    # Train model and evaluate on held-out data\n",
        "    def train(self):\n",
        "        (D,F) = self.trainX.shape\n",
        "        best_dev_accuracy=0\n",
        "        best_model=None\n",
        "        for C in [0.1, 1, 10, 100]:\n",
        "            self.log_reg = linear_model.LogisticRegression(C = C, max_iter=1000)\n",
        "            self.log_reg.fit(self.trainX, self.trainY)\n",
        "            training_accuracy = self.log_reg.score(self.trainX, self.trainY)\n",
        "            development_accuracy = self.log_reg.score(self.devX, self.devY)\n",
        "            if development_accuracy > best_dev_accuracy:\n",
        "                best_dev_accuracy=development_accuracy\n",
        "                best_model=self.log_reg\n",
        "\n",
        "#             print(\"C: %s, Train accuracy: %.3f, Dev accuracy: %.3f\" % (C, training_accuracy, development_accuracy))\n",
        "\n",
        "        self.log_reg=best_model\n",
        "        \n",
        "\n",
        "    def test(self):\n",
        "        return self.log_reg.score(self.testX, self.testY)\n",
        "        \n",
        "\n",
        "    def printWeights(self, n=10):\n",
        "\n",
        "        reverse_vocab=[None]*len(self.log_reg.coef_[0])\n",
        "        for k in self.feature_vocab:\n",
        "            reverse_vocab[self.feature_vocab[k]]=k\n",
        "\n",
        "        # binary\n",
        "        if len(self.log_reg.classes_) == 2:\n",
        "              weights=self.log_reg.coef_[0]\n",
        "\n",
        "              cat=self.log_reg.classes_[1]\n",
        "              for feature, weight in list(reversed(sorted(zip(reverse_vocab, weights), key = operator.itemgetter(1))))[:n]:\n",
        "                  print(\"%s\\t%.3f\\t%s\" % (cat, weight, feature))\n",
        "              print()\n",
        "\n",
        "              cat=self.log_reg.classes_[0]\n",
        "              for feature, weight in list(sorted(zip(reverse_vocab, weights), key = operator.itemgetter(1)))[:n]:\n",
        "                  print(\"%s\\t%.3f\\t%s\" % (cat, weight, feature))\n",
        "              print()\n",
        "\n",
        "        # multiclass\n",
        "        else:\n",
        "          for i, cat in enumerate(self.log_reg.classes_):\n",
        "\n",
        "              weights=self.log_reg.coef_[i]\n",
        "\n",
        "              for feature, weight in list(reversed(sorted(zip(reverse_vocab, weights), key = operator.itemgetter(1))))[:n]:\n",
        "                  print(\"%s\\t%.3f\\t%s\" % (cat, weight, feature))\n",
        "              print()\n",
        "\n",
        "            "
      ]
    },
    {
      "cell_type": "code",
      "execution_count": 7,
      "metadata": {
        "id": "Exd1Bwb2aN5w"
      },
      "outputs": [],
      "source": [
        "def binary_bow_featurize(text):\n",
        "    feats = {}\n",
        "    words = nltk.word_tokenize(text)\n",
        "\n",
        "    for word in words:\n",
        "        word=word.lower()\n",
        "        feats[word]=1\n",
        "            \n",
        "    return feats"
      ]
    },
    {
      "cell_type": "code",
      "execution_count": 8,
      "metadata": {
        "id": "43B4Pd1daN5w"
      },
      "outputs": [],
      "source": [
        "def confidence_intervals(accuracy, n, significance_level):\n",
        "    critical_value=(1-significance_level)/2\n",
        "    z_alpha=-1*norm.ppf(critical_value)\n",
        "    se=math.sqrt((accuracy*(1-accuracy))/n)\n",
        "    return accuracy-(se*z_alpha), accuracy+(se*z_alpha)"
      ]
    },
    {
      "cell_type": "code",
      "source": [
        "def remove_stop_df(data):\n",
        "  # remove stopwords\n",
        "  filt_combined = []\n",
        "  for word in nltk.word_tokenize(data):\n",
        "\n",
        "    if word.lower() not in stopwords.words('english'):\n",
        "      filt_combined.append(word)\n",
        "\n",
        "  filtered_ip= \" \".join(filt_combined)\n",
        "  return filtered_ip"
      ],
      "metadata": {
        "id": "1e8AmRMktA2r"
      },
      "execution_count": 35,
      "outputs": []
    },
    {
      "cell_type": "code",
      "execution_count": 36,
      "metadata": {
        "id": "TkTQ7u0kaN5x"
      },
      "outputs": [],
      "source": [
        "def run(trainingFile, devFile, testFile):\n",
        "    trainX, trainY=load_data(trainingFile)\n",
        "    devX, devY=load_data(devFile)\n",
        "    testX, testY=load_data(testFile)\n",
        "\n",
        "    trainX = list(map(remove_stop_df, trainX))\n",
        "    devX = list(map(remove_stop_df, devX))\n",
        "    testX = list(map(remove_stop_df, testX))\n",
        "\n",
        "    simple_classifier = Classifier(binary_bow_featurize, trainX, trainY, devX, devY, testX, testY)\n",
        "    simple_classifier.train()\n",
        "    accuracy=simple_classifier.test()\n",
        "    \n",
        "    lower, upper=confidence_intervals(accuracy, len(devY), .95)\n",
        "    print(\"Test accuracy for best dev model: %.3f, 95%% CIs: [%.3f %.3f]\\n\" % (accuracy, lower, upper))\n",
        "\n",
        "    simple_classifier.printWeights()\n",
        "    \n"
      ]
    },
    {
      "cell_type": "code",
      "execution_count": 34,
      "metadata": {
        "id": "AU4ZHrkuaN5x",
        "outputId": "cfc00f1e-b40c-4cc2-cc7f-9332bf9bb038",
        "colab": {
          "base_uri": "https://localhost:8080/"
        }
      },
      "outputs": [
        {
          "output_type": "stream",
          "name": "stdout",
          "text": [
            "Test accuracy for best dev model: 0.755, 95% CIs: [0.695 0.815]\n",
            "\n",
            "Agreement\t0.218\tother\n",
            "Agreement\t0.217\tthat\n",
            "Agreement\t0.198\tif\n",
            "Agreement\t0.197\t&\n",
            "Agreement\t0.196\t%\n",
            "Agreement\t0.175\tleast\n",
            "Agreement\t0.164\tget\n",
            "Agreement\t0.164\tbefore\n",
            "Agreement\t0.159\t'd\n",
            "Agreement\t0.158\t3\n",
            "\n",
            "Disagreement\t0.321\tn't\n",
            "Disagreement\t0.288\ti\n",
            "Disagreement\t0.284\t?\n",
            "Disagreement\t0.266\tactually\n",
            "Disagreement\t0.233\tthis\n",
            "Disagreement\t0.217\tgraph\n",
            "Disagreement\t0.206\tsay\n",
            "Disagreement\t0.187\tsure\n",
            "Disagreement\t0.184\tsimply\n",
            "Disagreement\t0.182\tme\n",
            "\n",
            "Neutral\t0.389\tand\n",
            "Neutral\t0.293\tabstract\n",
            "Neutral\t0.252\twe\n",
            "Neutral\t0.221\tcovid-19\n",
            "Neutral\t0.216\tour\n",
            "Neutral\t0.200\tby\n",
            "Neutral\t0.178\t(\n",
            "Neutral\t0.175\t)\n",
            "Neutral\t0.166\t.\n",
            "Neutral\t0.162\thas\n",
            "\n"
          ]
        }
      ],
      "source": [
        "trainingFile = directory + \"train.txt\" \n",
        "devFile = directory + \"dev.txt\" \n",
        "testFile = directory + \"test.txt\"\n",
        "    \n",
        "run(trainingFile, devFile, testFile)\n"
      ]
    },
    {
      "cell_type": "markdown",
      "source": [
        "###after stopword removal"
      ],
      "metadata": {
        "id": "a2Ti-IxUww_m"
      }
    },
    {
      "cell_type": "code",
      "source": [
        "run(trainingFile, devFile, testFile)"
      ],
      "metadata": {
        "colab": {
          "base_uri": "https://localhost:8080/"
        },
        "id": "rHqLp7tVuPAp",
        "outputId": "85fa7e8d-166f-41e0-baa5-0dff6cf6bee6"
      },
      "execution_count": 37,
      "outputs": [
        {
          "output_type": "stream",
          "name": "stdout",
          "text": [
            "Test accuracy for best dev model: 0.765, 95% CIs: [0.706 0.824]\n",
            "\n",
            "Agreement\t0.218\t&\n",
            "Agreement\t0.188\t%\n",
            "Agreement\t0.179\tleast\n",
            "Agreement\t0.175\tget\n",
            "Agreement\t0.175\t?\n",
            "Agreement\t0.175\tinfections\n",
            "Agreement\t0.154\tsimilar\n",
            "Agreement\t0.152\tshowed\n",
            "Agreement\t0.151\t3\n",
            "Agreement\t0.151\tsymptoms\n",
            "\n",
            "Disagreement\t0.331\tn't\n",
            "Disagreement\t0.310\t?\n",
            "Disagreement\t0.292\tactually\n",
            "Disagreement\t0.241\tgoing\n",
            "Disagreement\t0.227\tsay\n",
            "Disagreement\t0.223\tsure\n",
            "Disagreement\t0.218\tgraph\n",
            "Disagreement\t0.191\tsimply\n",
            "Disagreement\t0.184\tspikes\n",
            "Disagreement\t0.184\tcertain\n",
            "\n",
            "Neutral\t0.342\tabstract\n",
            "Neutral\t0.264\tcovid-19\n",
            "Neutral\t0.197\t(\n",
            "Neutral\t0.193\t)\n",
            "Neutral\t0.192\tpandemic\n",
            "Neutral\t0.186\t.\n",
            "Neutral\t0.186\tvaccine\n",
            "Neutral\t0.174\tsars-cov-2\n",
            "Neutral\t0.159\tb\n",
            "Neutral\t0.146\tmaturation\n",
            "\n"
          ]
        }
      ]
    },
    {
      "cell_type": "markdown",
      "source": [
        "### confusion matrix"
      ],
      "metadata": {
        "id": "VoMG8nAhrEk8"
      }
    },
    {
      "cell_type": "code",
      "source": [
        "from sklearn.metrics import confusion_matrix, ConfusionMatrixDisplay\n",
        "from sklearn.metrics import plot_confusion_matrix\n",
        "import matplotlib.pyplot as plt"
      ],
      "metadata": {
        "id": "MLrG-qcow4EL"
      },
      "execution_count": 44,
      "outputs": []
    },
    {
      "cell_type": "code",
      "source": [
        "def print_confusion(classifier):\n",
        "    fig, ax = plt.subplots(figsize=(10,10))\n",
        "    plot_confusion_matrix(classifier.log_reg, classifier.devX, classifier.devY, ax=ax, xticks_rotation=\"vertical\", values_format=\"d\")\n",
        "    plt.show()"
      ],
      "metadata": {
        "id": "jTZ-umck0ZKs"
      },
      "execution_count": 41,
      "outputs": []
    },
    {
      "cell_type": "code",
      "source": [
        ""
      ],
      "metadata": {
        "id": "8lp3LjOV1hQ_"
      },
      "execution_count": null,
      "outputs": []
    },
    {
      "cell_type": "code",
      "source": [
        "def run(trainingFile, devFile, testFile):\n",
        "    trainX, trainY=load_data(trainingFile)\n",
        "    devX, devY=load_data(devFile)\n",
        "    testX, testY=load_data(testFile)\n",
        "\n",
        "    trainX = list(map(remove_stop_df, trainX))\n",
        "    devX = list(map(remove_stop_df, devX))\n",
        "    testX = list(map(remove_stop_df, testX))\n",
        "\n",
        "    simple_classifier = Classifier(binary_bow_featurize, trainX, trainY, devX, devY, testX, testY)\n",
        "    simple_classifier.train()\n",
        "    accuracy=simple_classifier.test()\n",
        "\n",
        "    print_confusion(simple_classifier)\n",
        "    \n",
        "    lower, upper=confidence_intervals(accuracy, len(devY), .95)\n",
        "    print(\"Test accuracy for best dev model: %.3f, 95%% CIs: [%.3f %.3f]\\n\" % (accuracy, lower, upper))\n",
        "\n",
        "    simple_classifier.printWeights()"
      ],
      "metadata": {
        "id": "sDbmdDLR1hze"
      },
      "execution_count": 45,
      "outputs": []
    },
    {
      "cell_type": "code",
      "source": [
        "run(trainingFile, devFile, testFile)\n"
      ],
      "metadata": {
        "id": "HjgPZbsH1sbe",
        "outputId": "25634225-47cd-4608-ce2b-86ae609b4c76",
        "colab": {
          "base_uri": "https://localhost:8080/",
          "height": 1000
        }
      },
      "execution_count": 46,
      "outputs": [
        {
          "output_type": "stream",
          "name": "stderr",
          "text": [
            "/usr/local/lib/python3.7/dist-packages/sklearn/utils/deprecation.py:87: FutureWarning: Function plot_confusion_matrix is deprecated; Function `plot_confusion_matrix` is deprecated in 1.0 and will be removed in 1.2. Use one of the class methods: ConfusionMatrixDisplay.from_predictions or ConfusionMatrixDisplay.from_estimator.\n",
            "  warnings.warn(msg, category=FutureWarning)\n"
          ]
        },
        {
          "output_type": "display_data",
          "data": {
            "text/plain": [
              "<Figure size 720x720 with 2 Axes>"
            ],
            "image/png": "[encoded data removed]"
          },
          "metadata": {
            "needs_background": "light"
          }
        },
        {
          "output_type": "stream",
          "name": "stdout",
          "text": [
            "Test accuracy for best dev model: 0.765, 95% CIs: [0.706 0.824]\n",
            "\n",
            "Agreement\t0.218\t&\n",
            "Agreement\t0.188\t%\n",
            "Agreement\t0.179\tleast\n",
            "Agreement\t0.175\tget\n",
            "Agreement\t0.175\t?\n",
            "Agreement\t0.175\tinfections\n",
            "Agreement\t0.154\tsimilar\n",
            "Agreement\t0.152\tshowed\n",
            "Agreement\t0.151\t3\n",
            "Agreement\t0.151\tsymptoms\n",
            "\n",
            "Disagreement\t0.331\tn't\n",
            "Disagreement\t0.310\t?\n",
            "Disagreement\t0.292\tactually\n",
            "Disagreement\t0.241\tgoing\n",
            "Disagreement\t0.227\tsay\n",
            "Disagreement\t0.223\tsure\n",
            "Disagreement\t0.218\tgraph\n",
            "Disagreement\t0.191\tsimply\n",
            "Disagreement\t0.184\tspikes\n",
            "Disagreement\t0.184\tcertain\n",
            "\n",
            "Neutral\t0.342\tabstract\n",
            "Neutral\t0.264\tcovid-19\n",
            "Neutral\t0.197\t(\n",
            "Neutral\t0.193\t)\n",
            "Neutral\t0.192\tpandemic\n",
            "Neutral\t0.186\t.\n",
            "Neutral\t0.186\tvaccine\n",
            "Neutral\t0.174\tsars-cov-2\n",
            "Neutral\t0.159\tb\n",
            "Neutral\t0.146\tmaturation\n",
            "\n"
          ]
        }
      ]
    },
    {
      "cell_type": "markdown",
      "source": [
        "### finding counts"
      ],
      "metadata": {
        "id": "w_4Rn1A-4I_L"
      }
    },
    {
      "cell_type": "code",
      "source": [
        "# importing Counter module\n",
        "from collections import Counter"
      ],
      "metadata": {
        "id": "WHEkOdtA2shN"
      },
      "execution_count": 56,
      "outputs": []
    },
    {
      "cell_type": "code",
      "source": [
        "devX, devY=load_data(devFile)\n",
        "testX, testY=load_data(testFile)\n",
        "print(\"On Train:\",Counter(trainY))\n",
        "print(\"On Dev:\",Counter(devY))\n",
        "print(\"On Test :\",Counter(testY))"
      ],
      "metadata": {
        "id": "cN0pyrUE2_f0",
        "outputId": "caa60e20-0d6a-4ba9-a0a7-5e571f58a2b9",
        "colab": {
          "base_uri": "https://localhost:8080/"
        }
      },
      "execution_count": 59,
      "outputs": [
        {
          "output_type": "stream",
          "name": "stdout",
          "text": [
            "On Train: Counter({'Agreement': 442, 'Disagreement': 109, 'Neutral': 49})\n",
            "On Dev: Counter({'Agreement': 152, 'Disagreement': 36, 'Neutral': 12})\n",
            "On Test : Counter({'Agreement': 151, 'Disagreement': 29, 'Neutral': 20})\n"
          ]
        }
      ]
    },
    {
      "cell_type": "markdown",
      "source": [
        "### unigram features"
      ],
      "metadata": {
        "id": "D3MLbXIv37nH"
      }
    },
    {
      "cell_type": "code",
      "source": [
        "def unigram_featurize(text):\n",
        "    feats = {}\n",
        "    words = nltk.word_tokenize(text)\n",
        "\n",
        "    for word in words:\n",
        "        word=word.lower()\n",
        "        Yes (agreement)\n",
        "Yeah (agreement)\n",
        "Absolutely (agreement)\n",
        "        if word == \"yes\" or word == \"yeah\" or word == \"yeah\" or word==\"absolutely\": \n",
        "            feats[\"contains_positive_word\"] = 1\n",
        "        if word == \"hate\" or word == \"dislike\":\n",
        "            feats[\"contains_negative_word\"] = 1\n",
        "            \n",
        "    return feats"
      ],
      "metadata": {
        "id": "xmRM4TIk4gc-"
      },
      "execution_count": null,
      "outputs": []
    },
    {
      "cell_type": "code",
      "source": [
        "def run_feature1(trainingFile, devFile, testFile):\n",
        "    trainX, trainY=load_data(trainingFile)\n",
        "    devX, devY=load_data(devFile)\n",
        "    testX, testY=load_data(testFile)\n",
        "\n",
        "    trainX = list(map(remove_stop_df, trainX))\n",
        "    devX = list(map(remove_stop_df, devX))\n",
        "    testX = list(map(remove_stop_df, testX))\n",
        "\n",
        "    simple_classifier = Classifier(unigram_featurize, trainX, trainY, devX, devY, testX, testY)\n",
        "    simple_classifier.train()\n",
        "    accuracy=simple_classifier.test()\n",
        "    \n",
        "    lower, upper=confidence_intervals(accuracy, len(devY), .95)\n",
        "    print(\"Test accuracy for best dev model: %.3f, 95%% CIs: [%.3f %.3f]\\n\" % (accuracy, lower, upper))\n",
        "\n",
        "    simple_classifier.printWeights()"
      ],
      "metadata": {
        "id": "Nzu46UK564HR"
      },
      "execution_count": null,
      "outputs": []
    }
  ],
  "metadata": {
    "colab": {
      "collapsed_sections": [],
      "name": "LogReg.ipynb",
      "provenance": [],
      "toc_visible": true,
      "include_colab_link": true
    },
    "kernelspec": {
      "display_name": "Python 3 (ipykernel)",
      "language": "python",
      "name": "python3"
    },
    "language_info": {
      "codemirror_mode": {
        "name": "ipython",
        "version": 3
      },
      "file_extension": ".py",
      "mimetype": "text/x-python",
      "name": "python",
      "nbconvert_exporter": "python",
      "pygments_lexer": "ipython3",
      "version": "3.8.8"
    }
  },
  "nbformat": 4,
  "nbformat_minor": 0
}